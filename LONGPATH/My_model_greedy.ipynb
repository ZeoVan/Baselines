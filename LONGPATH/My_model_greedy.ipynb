{
 "cells": [
  {
   "cell_type": "code",
   "execution_count": 1,
   "metadata": {},
   "outputs": [
    {
     "name": "stderr",
     "output_type": "stream",
     "text": [
      "/data/jiahao/translate/py35venv/lib/python3.5/site-packages/tensorflow/python/framework/dtypes.py:516: FutureWarning: Passing (type, 1) or '1type' as a synonym of type is deprecated; in a future version of numpy, it will be understood as (type, (1,)) / '(1,)type'.\n",
      "  _np_qint8 = np.dtype([(\"qint8\", np.int8, 1)])\n",
      "/data/jiahao/translate/py35venv/lib/python3.5/site-packages/tensorflow/python/framework/dtypes.py:517: FutureWarning: Passing (type, 1) or '1type' as a synonym of type is deprecated; in a future version of numpy, it will be understood as (type, (1,)) / '(1,)type'.\n",
      "  _np_quint8 = np.dtype([(\"quint8\", np.uint8, 1)])\n",
      "/data/jiahao/translate/py35venv/lib/python3.5/site-packages/tensorflow/python/framework/dtypes.py:518: FutureWarning: Passing (type, 1) or '1type' as a synonym of type is deprecated; in a future version of numpy, it will be understood as (type, (1,)) / '(1,)type'.\n",
      "  _np_qint16 = np.dtype([(\"qint16\", np.int16, 1)])\n",
      "/data/jiahao/translate/py35venv/lib/python3.5/site-packages/tensorflow/python/framework/dtypes.py:519: FutureWarning: Passing (type, 1) or '1type' as a synonym of type is deprecated; in a future version of numpy, it will be understood as (type, (1,)) / '(1,)type'.\n",
      "  _np_quint16 = np.dtype([(\"quint16\", np.uint16, 1)])\n",
      "/data/jiahao/translate/py35venv/lib/python3.5/site-packages/tensorflow/python/framework/dtypes.py:520: FutureWarning: Passing (type, 1) or '1type' as a synonym of type is deprecated; in a future version of numpy, it will be understood as (type, (1,)) / '(1,)type'.\n",
      "  _np_qint32 = np.dtype([(\"qint32\", np.int32, 1)])\n",
      "/data/jiahao/translate/py35venv/lib/python3.5/site-packages/tensorflow/python/framework/dtypes.py:525: FutureWarning: Passing (type, 1) or '1type' as a synonym of type is deprecated; in a future version of numpy, it will be understood as (type, (1,)) / '(1,)type'.\n",
      "  np_resource = np.dtype([(\"resource\", np.ubyte, 1)])\n",
      "/data/jiahao/translate/py35venv/lib/python3.5/site-packages/tensorboard/compat/tensorflow_stub/dtypes.py:541: FutureWarning: Passing (type, 1) or '1type' as a synonym of type is deprecated; in a future version of numpy, it will be understood as (type, (1,)) / '(1,)type'.\n",
      "  _np_qint8 = np.dtype([(\"qint8\", np.int8, 1)])\n",
      "/data/jiahao/translate/py35venv/lib/python3.5/site-packages/tensorboard/compat/tensorflow_stub/dtypes.py:542: FutureWarning: Passing (type, 1) or '1type' as a synonym of type is deprecated; in a future version of numpy, it will be understood as (type, (1,)) / '(1,)type'.\n",
      "  _np_quint8 = np.dtype([(\"quint8\", np.uint8, 1)])\n",
      "/data/jiahao/translate/py35venv/lib/python3.5/site-packages/tensorboard/compat/tensorflow_stub/dtypes.py:543: FutureWarning: Passing (type, 1) or '1type' as a synonym of type is deprecated; in a future version of numpy, it will be understood as (type, (1,)) / '(1,)type'.\n",
      "  _np_qint16 = np.dtype([(\"qint16\", np.int16, 1)])\n",
      "/data/jiahao/translate/py35venv/lib/python3.5/site-packages/tensorboard/compat/tensorflow_stub/dtypes.py:544: FutureWarning: Passing (type, 1) or '1type' as a synonym of type is deprecated; in a future version of numpy, it will be understood as (type, (1,)) / '(1,)type'.\n",
      "  _np_quint16 = np.dtype([(\"quint16\", np.uint16, 1)])\n",
      "/data/jiahao/translate/py35venv/lib/python3.5/site-packages/tensorboard/compat/tensorflow_stub/dtypes.py:545: FutureWarning: Passing (type, 1) or '1type' as a synonym of type is deprecated; in a future version of numpy, it will be understood as (type, (1,)) / '(1,)type'.\n",
      "  _np_qint32 = np.dtype([(\"qint32\", np.int32, 1)])\n",
      "/data/jiahao/translate/py35venv/lib/python3.5/site-packages/tensorboard/compat/tensorflow_stub/dtypes.py:550: FutureWarning: Passing (type, 1) or '1type' as a synonym of type is deprecated; in a future version of numpy, it will be understood as (type, (1,)) / '(1,)type'.\n",
      "  np_resource = np.dtype([(\"resource\", np.ubyte, 1)])\n",
      "Using TensorFlow backend.\n"
     ]
    }
   ],
   "source": [
    "import tensorflow as tf\n",
    "import keras.backend.tensorflow_backend as KTF\n",
    "from keras.backend import ones_like\n",
    "from keras.layers.recurrent import GRU\n",
    "from keras.layers.core import Lambda\n",
    "from keras.optimizers import adam\n",
    "from keras.layers import Conv1D, Dense, Reshape, Concatenate, Flatten, Activation, Dropout,MaxPooling1D\n",
    "from keras.models import Input, Model\n",
    "from keras_self_attention import SeqSelfAttention\n",
    "from keras_multi_head import MultiHeadAttention\n",
    "import numpy as np\n",
    "import os\n",
    "from tensorflow.core.protobuf import rewriter_config_pb2\n",
    "from tensorflow.keras.backend import set_session\n",
    "os.environ[\"CUDA_VISIBLE_DEVICES\"] = \"2\"\n",
    "tf.keras.backend.clear_session()  # For easy reset of notebook state.\n",
    "\n",
    "config_proto = tf.ConfigProto()\n",
    "off = rewriter_config_pb2.RewriterConfig.OFF\n",
    "config_proto.graph_options.rewrite_options.arithmetic_optimization = off\n",
    "session = tf.Session(config=config_proto)\n",
    "set_session(session)"
   ]
  },
  {
   "cell_type": "code",
   "execution_count": 2,
   "metadata": {},
   "outputs": [],
   "source": [
    "from keras import backend as K\n",
    "from keras.layers import Layer ,Add\n",
    "from keras.layers.core import Lambda\n",
    "\n",
    "def local_context_learning(path_length, input_length, input_dim, output_dim, hidden_dim, filters_num, kernel_val,\n",
    "                           learning_rate, drop_rate):\n",
    "    basic_data_input = Input(shape=(path_length, input_length, input_dim))\n",
    "\n",
    "    basic_input = Reshape((path_length, input_length * input_dim))(basic_data_input)\n",
    "    \n",
    "    GRU_layer = GRU(units=hidden_dim, return_sequences=True)\n",
    "    rnn_output = GRU_layer(basic_input)\n",
    "    Self_1 = SeqSelfAttention(attention_activation='sigmoid')\n",
    "    rnn_att = Self_1(rnn_output)\n",
    "    CNN_layer_1 = Conv1D(filters=filters_num, kernel_size=kernel_val, padding=\"same\")\n",
    "    cnn_output = CNN_layer_1(basic_input)\n",
    "    Dense_1 = Dense(hidden_dim)\n",
    "    cnn_output_reformat = Dense_1(cnn_output)\n",
    "    Self_2 = SeqSelfAttention(attention_activation='sigmoid')\n",
    "    cnn_att = Self_2(cnn_output_reformat)\n",
    "    Conca_1 = Concatenate(axis=1)\n",
    "    new_value = Conca_1([rnn_att, cnn_att])\n",
    "    new_keys = Lambda(lambda x: ones_like(x))(new_value)\n",
    "    Multi_1 = MultiHeadAttention(head_num=2)\n",
    "    new_result = Multi_1([basic_input, new_keys, new_value])\n",
    "    result = Flatten()(new_result)\n",
    "    Drop_1 = Dropout(rate=drop_rate)\n",
    "    result_fix = Drop_1(result)\n",
    "    Dense_2 = Dense(output_dim)\n",
    "    method_vector = Dense_2(result_fix)\n",
    "    method_vector = Reshape((-1, 128))(method_vector)\n",
    "\n",
    "    CNN_layer_2 = Conv1D(filters=filters_num, kernel_size=kernel_val, padding=\"same\")\n",
    "    cnn_output_for_classification = CNN_layer_2(method_vector)\n",
    "    Pool_1 = MaxPooling1D(pool_size=2, padding='same')\n",
    "    pooling_output = Pool_1(cnn_output_for_classification)\n",
    "    output_classification = Flatten()(pooling_output)\n",
    "    Drop_2 = Dropout(rate=drop_rate)\n",
    "    output_classification_fix = Drop_2(output_classification)\n",
    "    Dense_3 = Dense(32, activation='relu')\n",
    "    output_classification_fix = Dense_3(output_classification_fix)\n",
    "    Dense_4 = Dense(16, activation='relu')\n",
    "    output_classification_fix = Dense_4(output_classification_fix)\n",
    "    Dense_5 = Dense(1)\n",
    "    fixed_output_classification = Dense_5(output_classification_fix)\n",
    "    Active_1 = Activation(activation='sigmoid')\n",
    "    stand_output = Active_1(fixed_output_classification)\n",
    "    model = Model(basic_data_input, stand_output)\n",
    "    ada = adam(lr=learning_rate)\n",
    "    model.compile(optimizer=ada, loss='binary_crossentropy', metrics=['accuracy'])\n",
    "\n",
    "    \n",
    "    New_input  = Input(shape=(path_length, input_length, input_dim))\n",
    "    New_input_ = Reshape((path_length, input_length * input_dim))(New_input)\n",
    "    new_test_1 = GRU_layer(New_input_)\n",
    "    new_test_2 = Self_1(new_test_1)\n",
    "    new_test_3 = CNN_layer_1(New_input_)\n",
    "    new_test_4 = Dense_1(new_test_3)\n",
    "    new_test_5 = Self_2(new_test_4)\n",
    "    new_test_6 = Conca_1([new_test_2, new_test_5])\n",
    "    new_test_7 = Lambda(lambda x: ones_like(x))(new_test_6)\n",
    "    new_test_8 = Multi_1([New_input_, new_test_7, new_test_6])\n",
    "    new_test_9 = Flatten()(new_test_8)\n",
    "    new_test_10 = Drop_1(new_test_9)\n",
    "    new_test_11 = Dense_2(new_test_10)\n",
    "    new_test_12 = Reshape((-1, 128))(new_test_11)\n",
    "    new_test_13 = CNN_layer_2(new_test_12)\n",
    "    new_test_14 = Pool_1(new_test_13)\n",
    "    new_test_15 = Flatten()(new_test_14)\n",
    "    new_test_16 = Drop_2(new_test_15)\n",
    "    new_test_17 = Dense_3(new_test_16)\n",
    "    new_test_18 = Dense_4(new_test_17)\n",
    "    new_test_19 = Dense_5(new_test_18)\n",
    "    new_test_20 = Active_1(new_test_19)\n",
    "    model_test = Model(New_input, new_test_20)\n",
    "    return model, model_test"
   ]
  },
  {
   "cell_type": "code",
   "execution_count": 3,
   "metadata": {},
   "outputs": [
    {
     "name": "stdout",
     "output_type": "stream",
     "text": [
      "WARNING:tensorflow:From /data/jiahao/translate/py35venv/lib/python3.5/site-packages/keras/backend/tensorflow_backend.py:4070: The name tf.nn.max_pool is deprecated. Please use tf.nn.max_pool2d instead.\n",
      "\n",
      "WARNING:tensorflow:From /data/jiahao/translate/py35venv/lib/python3.5/site-packages/tensorflow/python/ops/nn_impl.py:180: add_dispatch_support.<locals>.wrapper (from tensorflow.python.ops.array_ops) is deprecated and will be removed in a future version.\n",
      "Instructions for updating:\n",
      "Use tf.where in 2.0, which has the same broadcast rule as np.where\n",
      "Model: \"model_1\"\n",
      "__________________________________________________________________________________________________\n",
      "Layer (type)                    Output Shape         Param #     Connected to                     \n",
      "==================================================================================================\n",
      "input_1 (InputLayer)            (None, 15, 20, 128)  0                                            \n",
      "__________________________________________________________________________________________________\n",
      "reshape_1 (Reshape)             (None, 15, 2560)     0           input_1[0][0]                    \n",
      "__________________________________________________________________________________________________\n",
      "conv1d_1 (Conv1D)               (None, 15, 64)       491584      reshape_1[0][0]                  \n",
      "__________________________________________________________________________________________________\n",
      "gru_1 (GRU)                     (None, 15, 128)      1032576     reshape_1[0][0]                  \n",
      "__________________________________________________________________________________________________\n",
      "dense_1 (Dense)                 (None, 15, 128)      8320        conv1d_1[0][0]                   \n",
      "__________________________________________________________________________________________________\n",
      "seq_self_attention_1 (SeqSelfAt (None, 15, 128)      8257        gru_1[0][0]                      \n",
      "__________________________________________________________________________________________________\n",
      "seq_self_attention_2 (SeqSelfAt (None, 15, 128)      8257        dense_1[0][0]                    \n",
      "__________________________________________________________________________________________________\n",
      "concatenate_1 (Concatenate)     (None, 30, 128)      0           seq_self_attention_1[0][0]       \n",
      "                                                                 seq_self_attention_2[0][0]       \n",
      "__________________________________________________________________________________________________\n",
      "lambda_1 (Lambda)               (None, 30, 128)      0           concatenate_1[0][0]              \n",
      "__________________________________________________________________________________________________\n",
      "multi_head_attention_1 (MultiHe (None, 15, 128)      377344      reshape_1[0][0]                  \n",
      "                                                                 lambda_1[0][0]                   \n",
      "                                                                 concatenate_1[0][0]              \n",
      "__________________________________________________________________________________________________\n",
      "flatten_1 (Flatten)             (None, 1920)         0           multi_head_attention_1[0][0]     \n",
      "__________________________________________________________________________________________________\n",
      "dropout_1 (Dropout)             (None, 1920)         0           flatten_1[0][0]                  \n",
      "__________________________________________________________________________________________________\n",
      "dense_2 (Dense)                 (None, 128)          245888      dropout_1[0][0]                  \n",
      "__________________________________________________________________________________________________\n",
      "reshape_2 (Reshape)             (None, 1, 128)       0           dense_2[0][0]                    \n",
      "__________________________________________________________________________________________________\n",
      "conv1d_2 (Conv1D)               (None, 1, 64)        24640       reshape_2[0][0]                  \n",
      "__________________________________________________________________________________________________\n",
      "max_pooling1d_1 (MaxPooling1D)  (None, 1, 64)        0           conv1d_2[0][0]                   \n",
      "__________________________________________________________________________________________________\n",
      "flatten_2 (Flatten)             (None, 64)           0           max_pooling1d_1[0][0]            \n",
      "__________________________________________________________________________________________________\n",
      "dropout_2 (Dropout)             (None, 64)           0           flatten_2[0][0]                  \n",
      "__________________________________________________________________________________________________\n",
      "dense_3 (Dense)                 (None, 32)           2080        dropout_2[0][0]                  \n",
      "__________________________________________________________________________________________________\n",
      "dense_4 (Dense)                 (None, 16)           528         dense_3[0][0]                    \n",
      "__________________________________________________________________________________________________\n",
      "dense_5 (Dense)                 (None, 1)            17          dense_4[0][0]                    \n",
      "__________________________________________________________________________________________________\n",
      "activation_1 (Activation)       (None, 1)            0           dense_5[0][0]                    \n",
      "==================================================================================================\n",
      "Total params: 2,199,491\n",
      "Trainable params: 2,199,491\n",
      "Non-trainable params: 0\n",
      "__________________________________________________________________________________________________\n"
     ]
    }
   ],
   "source": [
    "model_local, model_local_test = local_context_learning(15, 20, 128, 128, 128, 64, 3, 0.0001, 0.5)\n",
    "model_local.summary()"
   ]
  },
  {
   "cell_type": "code",
   "execution_count": 4,
   "metadata": {},
   "outputs": [],
   "source": [
    "def getting_data(file_path, print_text):\n",
    "    print(\"Loading \" + print_text + \" Data...\")\n",
    "    data = np.load(file_path,allow_pickle = True)\n",
    "    print(\"Done\")\n",
    "    return data"
   ]
  },
  {
   "cell_type": "code",
   "execution_count": 5,
   "metadata": {},
   "outputs": [
    {
     "name": "stdout",
     "output_type": "stream",
     "text": [
      "Loading Input Data...\n",
      "Done\n",
      "Loading Label Data...\n",
      "Done\n",
      "Loading Output Data...\n",
      "Done\n"
     ]
    }
   ],
   "source": [
    "input_data = getting_data(\"./data/local_train_input_greedy.npy\", \"Input\")\n",
    "label_data = getting_data(\"./data/local_train_label_greedy.npy\", \"Label\")\n",
    "output_data = getting_data(\"./data/local_train_output_greedy.npy\", \"Output\")\n",
    "label_data.shape=(-1,15)"
   ]
  },
  {
   "cell_type": "code",
   "execution_count": 6,
   "metadata": {},
   "outputs": [
    {
     "data": {
      "text/plain": [
       "(7109, 15)"
      ]
     },
     "execution_count": 6,
     "metadata": {},
     "output_type": "execute_result"
    }
   ],
   "source": [
    "label_data.shape"
   ]
  },
  {
   "cell_type": "code",
   "execution_count": 7,
   "metadata": {},
   "outputs": [
    {
     "name": "stdout",
     "output_type": "stream",
     "text": [
      "Loading Input Data...\n",
      "Done\n",
      "Loading Label Data...\n",
      "Done\n",
      "Loading Output Data...\n",
      "Done\n"
     ]
    }
   ],
   "source": [
    "v_input_data = getting_data(\"./data/local_val_input_greedy.npy\", \"Input\")\n",
    "v_label_data = getting_data(\"./data/local_val_label_greedy.npy\", \"Label\")\n",
    "v_output_data = getting_data(\"./data/local_val_output_greedy.npy\", \"Output\")\n",
    "v_label_data.shape=(-1,15)"
   ]
  },
  {
   "cell_type": "code",
   "execution_count": 8,
   "metadata": {},
   "outputs": [
    {
     "data": {
      "text/plain": [
       "(2370, 15)"
      ]
     },
     "execution_count": 8,
     "metadata": {},
     "output_type": "execute_result"
    }
   ],
   "source": [
    "v_label_data.shape"
   ]
  },
  {
   "cell_type": "code",
   "execution_count": 9,
   "metadata": {},
   "outputs": [
    {
     "name": "stdout",
     "output_type": "stream",
     "text": [
      "Training Local Context Model...\n",
      "WARNING:tensorflow:From /data/jiahao/translate/py35venv/lib/python3.5/site-packages/keras/backend/tensorflow_backend.py:422: The name tf.global_variables is deprecated. Please use tf.compat.v1.global_variables instead.\n",
      "\n",
      "Train on 7109 samples, validate on 2370 samples\n",
      "Epoch 1/100\n",
      "7109/7109 [==============================] - 14s 2ms/step - loss: 0.6906 - accuracy: 0.5151 - val_loss: 0.6871 - val_accuracy: 0.5641\n",
      "Epoch 2/100\n",
      "7109/7109 [==============================] - 11s 2ms/step - loss: 0.6841 - accuracy: 0.5807 - val_loss: 0.6758 - val_accuracy: 0.6051\n",
      "Epoch 3/100\n",
      "7109/7109 [==============================] - 11s 2ms/step - loss: 0.6748 - accuracy: 0.6044 - val_loss: 0.6663 - val_accuracy: 0.6148\n",
      "Epoch 4/100\n",
      "7109/7109 [==============================] - 11s 2ms/step - loss: 0.6613 - accuracy: 0.6154 - val_loss: 0.6559 - val_accuracy: 0.6346\n",
      "Epoch 5/100\n",
      "7109/7109 [==============================] - 11s 2ms/step - loss: 0.6532 - accuracy: 0.6309 - val_loss: 0.6441 - val_accuracy: 0.6392\n",
      "Epoch 6/100\n",
      "7109/7109 [==============================] - 11s 2ms/step - loss: 0.6394 - accuracy: 0.6492 - val_loss: 0.6393 - val_accuracy: 0.6447\n",
      "Epoch 7/100\n",
      "7109/7109 [==============================] - 11s 2ms/step - loss: 0.6280 - accuracy: 0.6575 - val_loss: 0.6252 - val_accuracy: 0.6544\n",
      "Epoch 8/100\n",
      "7109/7109 [==============================] - 11s 2ms/step - loss: 0.6144 - accuracy: 0.6727 - val_loss: 0.6183 - val_accuracy: 0.6624\n",
      "Epoch 9/100\n",
      "7109/7109 [==============================] - 13s 2ms/step - loss: 0.6058 - accuracy: 0.6789 - val_loss: 0.6115 - val_accuracy: 0.6654\n",
      "Epoch 10/100\n",
      "7109/7109 [==============================] - 12s 2ms/step - loss: 0.5974 - accuracy: 0.6786 - val_loss: 0.6229 - val_accuracy: 0.6599\n",
      "Epoch 11/100\n",
      "7109/7109 [==============================] - 12s 2ms/step - loss: 0.5833 - accuracy: 0.6914 - val_loss: 0.6083 - val_accuracy: 0.6696\n",
      "Epoch 12/100\n",
      "7109/7109 [==============================] - 12s 2ms/step - loss: 0.5720 - accuracy: 0.7009 - val_loss: 0.6167 - val_accuracy: 0.6654\n",
      "Epoch 13/100\n",
      "7109/7109 [==============================] - 12s 2ms/step - loss: 0.5626 - accuracy: 0.7081 - val_loss: 0.6008 - val_accuracy: 0.6831\n",
      "Epoch 14/100\n",
      "7109/7109 [==============================] - 12s 2ms/step - loss: 0.5603 - accuracy: 0.7140 - val_loss: 0.5958 - val_accuracy: 0.6844\n",
      "Epoch 15/100\n",
      "7109/7109 [==============================] - 12s 2ms/step - loss: 0.5462 - accuracy: 0.7209 - val_loss: 0.5978 - val_accuracy: 0.6840\n",
      "Epoch 16/100\n",
      "7109/7109 [==============================] - 12s 2ms/step - loss: 0.5457 - accuracy: 0.7240 - val_loss: 0.6055 - val_accuracy: 0.6852\n",
      "Epoch 17/100\n",
      "7109/7109 [==============================] - 12s 2ms/step - loss: 0.5360 - accuracy: 0.7288 - val_loss: 0.6104 - val_accuracy: 0.6797\n",
      "Epoch 18/100\n",
      "7109/7109 [==============================] - 12s 2ms/step - loss: 0.5212 - accuracy: 0.7384 - val_loss: 0.6042 - val_accuracy: 0.6844\n",
      "Epoch 19/100\n",
      "7109/7109 [==============================] - 13s 2ms/step - loss: 0.5196 - accuracy: 0.7357 - val_loss: 0.6217 - val_accuracy: 0.6705\n",
      "Epoch 20/100\n",
      "7109/7109 [==============================] - 12s 2ms/step - loss: 0.5142 - accuracy: 0.7423 - val_loss: 0.6379 - val_accuracy: 0.6755\n",
      "Epoch 21/100\n",
      "7109/7109 [==============================] - 12s 2ms/step - loss: 0.5161 - accuracy: 0.7364 - val_loss: 0.6542 - val_accuracy: 0.6624\n",
      "Epoch 22/100\n",
      "7109/7109 [==============================] - 12s 2ms/step - loss: 0.5033 - accuracy: 0.7526 - val_loss: 0.6118 - val_accuracy: 0.6873\n",
      "Epoch 23/100\n",
      "7109/7109 [==============================] - 12s 2ms/step - loss: 0.4927 - accuracy: 0.7588 - val_loss: 0.6108 - val_accuracy: 0.6819\n",
      "Epoch 24/100\n",
      "7109/7109 [==============================] - 12s 2ms/step - loss: 0.4879 - accuracy: 0.7595 - val_loss: 0.6478 - val_accuracy: 0.6759\n",
      "Epoch 25/100\n",
      "7109/7109 [==============================] - 12s 2ms/step - loss: 0.4713 - accuracy: 0.7707 - val_loss: 0.6399 - val_accuracy: 0.6827\n",
      "Epoch 26/100\n",
      "7109/7109 [==============================] - 12s 2ms/step - loss: 0.4718 - accuracy: 0.7752 - val_loss: 0.6979 - val_accuracy: 0.6646\n",
      "Epoch 27/100\n",
      "7109/7109 [==============================] - 12s 2ms/step - loss: 0.4650 - accuracy: 0.7748 - val_loss: 0.6674 - val_accuracy: 0.6713\n",
      "Epoch 28/100\n",
      "7109/7109 [==============================] - 12s 2ms/step - loss: 0.4539 - accuracy: 0.7776 - val_loss: 0.6460 - val_accuracy: 0.6823\n",
      "Epoch 29/100\n",
      "7109/7109 [==============================] - 13s 2ms/step - loss: 0.4342 - accuracy: 0.7898 - val_loss: 0.6740 - val_accuracy: 0.6831\n",
      "Epoch 30/100\n",
      "7109/7109 [==============================] - 13s 2ms/step - loss: 0.4231 - accuracy: 0.7993 - val_loss: 0.6680 - val_accuracy: 0.6911\n",
      "Epoch 31/100\n",
      "7109/7109 [==============================] - 12s 2ms/step - loss: 0.4271 - accuracy: 0.7953 - val_loss: 0.6977 - val_accuracy: 0.6835\n",
      "Epoch 32/100\n",
      "7109/7109 [==============================] - 12s 2ms/step - loss: 0.4256 - accuracy: 0.7990 - val_loss: 0.7052 - val_accuracy: 0.6928\n",
      "Epoch 33/100\n",
      "7109/7109 [==============================] - 12s 2ms/step - loss: 0.4091 - accuracy: 0.8035 - val_loss: 0.6993 - val_accuracy: 0.6785\n",
      "Epoch 34/100\n",
      "7109/7109 [==============================] - 12s 2ms/step - loss: 0.4101 - accuracy: 0.8035 - val_loss: 0.7251 - val_accuracy: 0.6759\n",
      "Epoch 35/100\n",
      "7109/7109 [==============================] - 12s 2ms/step - loss: 0.3947 - accuracy: 0.8128 - val_loss: 0.7592 - val_accuracy: 0.6789\n",
      "Epoch 36/100\n",
      "7109/7109 [==============================] - 12s 2ms/step - loss: 0.3967 - accuracy: 0.8097 - val_loss: 0.7407 - val_accuracy: 0.6641\n",
      "Epoch 37/100\n",
      "7109/7109 [==============================] - 12s 2ms/step - loss: 0.3797 - accuracy: 0.8209 - val_loss: 0.7486 - val_accuracy: 0.6865\n",
      "Epoch 38/100\n",
      "7109/7109 [==============================] - 12s 2ms/step - loss: 0.3653 - accuracy: 0.8320 - val_loss: 0.7828 - val_accuracy: 0.6810\n",
      "Epoch 39/100\n",
      "7109/7109 [==============================] - 12s 2ms/step - loss: 0.3678 - accuracy: 0.8346 - val_loss: 0.8199 - val_accuracy: 0.6692\n",
      "Epoch 40/100\n",
      "7109/7109 [==============================] - 11s 2ms/step - loss: 0.3590 - accuracy: 0.8319 - val_loss: 0.8422 - val_accuracy: 0.6747\n",
      "Epoch 41/100\n",
      "7109/7109 [==============================] - 10s 1ms/step - loss: 0.3601 - accuracy: 0.8282 - val_loss: 0.7906 - val_accuracy: 0.6844\n",
      "Epoch 42/100\n",
      "7109/7109 [==============================] - 10s 1ms/step - loss: 0.3435 - accuracy: 0.8416 - val_loss: 0.8358 - val_accuracy: 0.6878\n",
      "Epoch 43/100\n",
      "7109/7109 [==============================] - 9s 1ms/step - loss: 0.3422 - accuracy: 0.8408 - val_loss: 0.8346 - val_accuracy: 0.6958\n",
      "Epoch 44/100\n",
      "7109/7109 [==============================] - 10s 1ms/step - loss: 0.3277 - accuracy: 0.8479 - val_loss: 0.9092 - val_accuracy: 0.6751\n",
      "Epoch 45/100\n",
      "7109/7109 [==============================] - 11s 2ms/step - loss: 0.3413 - accuracy: 0.8413 - val_loss: 0.8768 - val_accuracy: 0.6595\n",
      "Epoch 46/100\n",
      "7109/7109 [==============================] - 11s 1ms/step - loss: 0.3245 - accuracy: 0.8481 - val_loss: 0.8898 - val_accuracy: 0.6696\n",
      "Epoch 47/100\n",
      "7109/7109 [==============================] - 11s 2ms/step - loss: 0.3417 - accuracy: 0.8367 - val_loss: 0.8867 - val_accuracy: 0.6810\n",
      "Epoch 48/100\n",
      "7109/7109 [==============================] - 11s 2ms/step - loss: 0.3187 - accuracy: 0.8527 - val_loss: 0.9087 - val_accuracy: 0.6785\n",
      "Epoch 49/100\n",
      "7109/7109 [==============================] - 11s 2ms/step - loss: 0.3096 - accuracy: 0.8592 - val_loss: 0.9831 - val_accuracy: 0.6646\n",
      "Epoch 50/100\n",
      "7109/7109 [==============================] - 11s 2ms/step - loss: 0.3140 - accuracy: 0.8569 - val_loss: 0.9245 - val_accuracy: 0.6878\n",
      "Epoch 51/100\n",
      "7109/7109 [==============================] - 11s 2ms/step - loss: 0.2983 - accuracy: 0.8637 - val_loss: 0.9163 - val_accuracy: 0.6873\n",
      "Epoch 52/100\n",
      "7109/7109 [==============================] - 11s 2ms/step - loss: 0.2873 - accuracy: 0.8659 - val_loss: 0.9284 - val_accuracy: 0.6819\n",
      "Epoch 53/100\n",
      "7109/7109 [==============================] - 11s 2ms/step - loss: 0.2962 - accuracy: 0.8606 - val_loss: 0.9224 - val_accuracy: 0.6916\n",
      "Epoch 54/100\n",
      "7109/7109 [==============================] - 11s 2ms/step - loss: 0.2988 - accuracy: 0.8612 - val_loss: 0.9733 - val_accuracy: 0.6928\n"
     ]
    },
    {
     "name": "stdout",
     "output_type": "stream",
     "text": [
      "Epoch 55/100\n",
      "7109/7109 [==============================] - 11s 2ms/step - loss: 0.2843 - accuracy: 0.8693 - val_loss: 0.9749 - val_accuracy: 0.6785\n",
      "Epoch 56/100\n",
      "7109/7109 [==============================] - 11s 2ms/step - loss: 0.2970 - accuracy: 0.8630 - val_loss: 0.9588 - val_accuracy: 0.6806\n",
      "Epoch 57/100\n",
      "7109/7109 [==============================] - 11s 2ms/step - loss: 0.2883 - accuracy: 0.8654 - val_loss: 1.0341 - val_accuracy: 0.6785\n",
      "Epoch 58/100\n",
      "7109/7109 [==============================] - 11s 2ms/step - loss: 0.2769 - accuracy: 0.8671 - val_loss: 0.9984 - val_accuracy: 0.6717\n",
      "Epoch 59/100\n",
      "7109/7109 [==============================] - 11s 2ms/step - loss: 0.2770 - accuracy: 0.8728 - val_loss: 1.0230 - val_accuracy: 0.6962\n",
      "Epoch 60/100\n",
      "7109/7109 [==============================] - 11s 2ms/step - loss: 0.2683 - accuracy: 0.8755 - val_loss: 1.0114 - val_accuracy: 0.6671\n",
      "Epoch 61/100\n",
      "7109/7109 [==============================] - 11s 2ms/step - loss: 0.2835 - accuracy: 0.8699 - val_loss: 1.0237 - val_accuracy: 0.6878\n",
      "Epoch 62/100\n",
      "7109/7109 [==============================] - 11s 2ms/step - loss: 0.2689 - accuracy: 0.8719 - val_loss: 1.1402 - val_accuracy: 0.6759\n",
      "Epoch 63/100\n",
      "7109/7109 [==============================] - 11s 2ms/step - loss: 0.2517 - accuracy: 0.8869 - val_loss: 1.1374 - val_accuracy: 0.6840\n",
      "Epoch 64/100\n",
      "7109/7109 [==============================] - 11s 2ms/step - loss: 0.2515 - accuracy: 0.8848 - val_loss: 1.1045 - val_accuracy: 0.6882\n",
      "Epoch 65/100\n",
      "7109/7109 [==============================] - 11s 2ms/step - loss: 0.2463 - accuracy: 0.8818 - val_loss: 1.1321 - val_accuracy: 0.6781\n",
      "Epoch 66/100\n",
      "7109/7109 [==============================] - 11s 2ms/step - loss: 0.2400 - accuracy: 0.8897 - val_loss: 1.1926 - val_accuracy: 0.6840\n",
      "Epoch 67/100\n",
      "7109/7109 [==============================] - 11s 2ms/step - loss: 0.2607 - accuracy: 0.8799 - val_loss: 1.1422 - val_accuracy: 0.6873\n",
      "Epoch 68/100\n",
      "7109/7109 [==============================] - 11s 2ms/step - loss: 0.2385 - accuracy: 0.8896 - val_loss: 1.2047 - val_accuracy: 0.6692\n",
      "Epoch 69/100\n",
      "7109/7109 [==============================] - 11s 2ms/step - loss: 0.2468 - accuracy: 0.8849 - val_loss: 1.1845 - val_accuracy: 0.6768\n",
      "Epoch 70/100\n",
      "7109/7109 [==============================] - 12s 2ms/step - loss: 0.2293 - accuracy: 0.8931 - val_loss: 1.2050 - val_accuracy: 0.6890\n",
      "Epoch 71/100\n",
      "7109/7109 [==============================] - 11s 2ms/step - loss: 0.2268 - accuracy: 0.8932 - val_loss: 1.2671 - val_accuracy: 0.6852\n",
      "Epoch 72/100\n",
      "7109/7109 [==============================] - 12s 2ms/step - loss: 0.2538 - accuracy: 0.8827 - val_loss: 1.1931 - val_accuracy: 0.6755\n",
      "Epoch 73/100\n",
      "7109/7109 [==============================] - 12s 2ms/step - loss: 0.2424 - accuracy: 0.8863 - val_loss: 1.2200 - val_accuracy: 0.6671\n",
      "Epoch 74/100\n",
      "7109/7109 [==============================] - 11s 2ms/step - loss: 0.2280 - accuracy: 0.8920 - val_loss: 1.2795 - val_accuracy: 0.6865\n",
      "Epoch 75/100\n",
      "7109/7109 [==============================] - 12s 2ms/step - loss: 0.2147 - accuracy: 0.9046 - val_loss: 1.2983 - val_accuracy: 0.6814\n",
      "Epoch 76/100\n",
      "7109/7109 [==============================] - 12s 2ms/step - loss: 0.2154 - accuracy: 0.9018 - val_loss: 1.2883 - val_accuracy: 0.6781\n",
      "Epoch 77/100\n",
      "7109/7109 [==============================] - 12s 2ms/step - loss: 0.2173 - accuracy: 0.8963 - val_loss: 1.4289 - val_accuracy: 0.6684\n",
      "Epoch 78/100\n",
      "7109/7109 [==============================] - 11s 2ms/step - loss: 0.2486 - accuracy: 0.8837 - val_loss: 1.2735 - val_accuracy: 0.6717\n",
      "Epoch 79/100\n",
      "7109/7109 [==============================] - 11s 2ms/step - loss: 0.2131 - accuracy: 0.9032 - val_loss: 1.3517 - val_accuracy: 0.6920\n",
      "Epoch 80/100\n",
      "7109/7109 [==============================] - 11s 2ms/step - loss: 0.2079 - accuracy: 0.9035 - val_loss: 1.3431 - val_accuracy: 0.6759\n",
      "Epoch 81/100\n",
      "7109/7109 [==============================] - 11s 2ms/step - loss: 0.2116 - accuracy: 0.8979 - val_loss: 1.3490 - val_accuracy: 0.6920\n",
      "Epoch 82/100\n",
      "7109/7109 [==============================] - 11s 2ms/step - loss: 0.2190 - accuracy: 0.8991 - val_loss: 1.3474 - val_accuracy: 0.6692\n",
      "Epoch 83/100\n",
      "7109/7109 [==============================] - 11s 2ms/step - loss: 0.2108 - accuracy: 0.9011 - val_loss: 1.3757 - val_accuracy: 0.6759\n",
      "Epoch 84/100\n",
      "7109/7109 [==============================] - 11s 2ms/step - loss: 0.2040 - accuracy: 0.9062 - val_loss: 1.5174 - val_accuracy: 0.6582\n",
      "Epoch 85/100\n",
      "7109/7109 [==============================] - 11s 2ms/step - loss: 0.2273 - accuracy: 0.8920 - val_loss: 1.4391 - val_accuracy: 0.6705\n",
      "Epoch 86/100\n",
      "7109/7109 [==============================] - 11s 2ms/step - loss: 0.2312 - accuracy: 0.8953 - val_loss: 1.3141 - val_accuracy: 0.6726\n",
      "Epoch 87/100\n",
      "7109/7109 [==============================] - 11s 2ms/step - loss: 0.2073 - accuracy: 0.9010 - val_loss: 1.3893 - val_accuracy: 0.6827\n",
      "Epoch 88/100\n",
      "7109/7109 [==============================] - 11s 2ms/step - loss: 0.1938 - accuracy: 0.9111 - val_loss: 1.3716 - val_accuracy: 0.6700\n",
      "Epoch 89/100\n",
      "7109/7109 [==============================] - 11s 2ms/step - loss: 0.1966 - accuracy: 0.9090 - val_loss: 1.4890 - val_accuracy: 0.6857\n",
      "Epoch 90/100\n",
      "7109/7109 [==============================] - 11s 2ms/step - loss: 0.1907 - accuracy: 0.9118 - val_loss: 1.5048 - val_accuracy: 0.6688\n",
      "Epoch 91/100\n",
      "7109/7109 [==============================] - 11s 2ms/step - loss: 0.2008 - accuracy: 0.9091 - val_loss: 1.4941 - val_accuracy: 0.6793\n",
      "Epoch 92/100\n",
      "7109/7109 [==============================] - 11s 2ms/step - loss: 0.2097 - accuracy: 0.9018 - val_loss: 1.4369 - val_accuracy: 0.6789\n",
      "Epoch 93/100\n",
      "7109/7109 [==============================] - 11s 2ms/step - loss: 0.1888 - accuracy: 0.9107 - val_loss: 1.5207 - val_accuracy: 0.6882\n",
      "Epoch 94/100\n",
      "7109/7109 [==============================] - 12s 2ms/step - loss: 0.1895 - accuracy: 0.9090 - val_loss: 1.5330 - val_accuracy: 0.6730\n",
      "Epoch 95/100\n",
      "7109/7109 [==============================] - 11s 2ms/step - loss: 0.1835 - accuracy: 0.9141 - val_loss: 1.5027 - val_accuracy: 0.6848\n",
      "Epoch 96/100\n",
      "7109/7109 [==============================] - 12s 2ms/step - loss: 0.1867 - accuracy: 0.9129 - val_loss: 1.5699 - val_accuracy: 0.6865\n",
      "Epoch 97/100\n",
      "7109/7109 [==============================] - 12s 2ms/step - loss: 0.1921 - accuracy: 0.9097 - val_loss: 1.5836 - val_accuracy: 0.6705\n",
      "Epoch 98/100\n",
      "7109/7109 [==============================] - 11s 2ms/step - loss: 0.1912 - accuracy: 0.9124 - val_loss: 1.5444 - val_accuracy: 0.6895\n",
      "Epoch 99/100\n",
      "7109/7109 [==============================] - 11s 2ms/step - loss: 0.1902 - accuracy: 0.9115 - val_loss: 1.4257 - val_accuracy: 0.6730\n",
      "Epoch 100/100\n",
      "7109/7109 [==============================] - 11s 2ms/step - loss: 0.1859 - accuracy: 0.9103 - val_loss: 1.5610 - val_accuracy: 0.6768\n"
     ]
    },
    {
     "data": {
      "text/plain": [
       "<keras.callbacks.callbacks.History at 0x7f9ffc695c18>"
      ]
     },
     "execution_count": 9,
     "metadata": {},
     "output_type": "execute_result"
    }
   ],
   "source": [
    "print(\"Training Local Context Model...\")\n",
    "model_local.fit(input_data, output_data, batch_size=256, epochs=100,validation_data=(v_input_data, v_output_data))"
   ]
  },
  {
   "cell_type": "code",
   "execution_count": 10,
   "metadata": {},
   "outputs": [],
   "source": [
    "model_local.save('model_greedy_train.h5')\n",
    "model_local_test.save('model_greedy_test.h5')"
   ]
  },
  {
   "cell_type": "code",
   "execution_count": 11,
   "metadata": {},
   "outputs": [
    {
     "name": "stdout",
     "output_type": "stream",
     "text": [
      "Loading Input Data...\n",
      "Done\n",
      "Loading Output Data...\n",
      "Done\n"
     ]
    }
   ],
   "source": [
    "t_input_data = getting_data(\"./data/local_test_input_greedy.npy\", \"Input\")\n",
    "t_output_data = getting_data(\"./data/local_test_output_greedy.npy\", \"Output\")"
   ]
  },
  {
   "cell_type": "code",
   "execution_count": 12,
   "metadata": {},
   "outputs": [],
   "source": [
    "from sklearn import metrics\n",
    "import matplotlib\n",
    "import matplotlib.pyplot as plt\n",
    "import pandas as pd\n",
    "import seaborn as sns"
   ]
  },
  {
   "cell_type": "code",
   "execution_count": 13,
   "metadata": {},
   "outputs": [],
   "source": [
    "y_predict = model_local_test.predict(t_input_data)"
   ]
  },
  {
   "cell_type": "code",
   "execution_count": 14,
   "metadata": {},
   "outputs": [
    {
     "data": {
      "image/png": "[encoded data removed]",
      "text/plain": [
       "<Figure size 576x360 with 2 Axes>"
      ]
     },
     "metadata": {
      "needs_background": "light"
     },
     "output_type": "display_data"
    }
   ],
   "source": [
    "confusion_matrix = pd.DataFrame(\n",
    "    data=metrics.confusion_matrix(t_output_data, np.rint(y_predict)),\n",
    ")\n",
    "\n",
    "confusion_figure, confusion_axes = matplotlib.pyplot.subplots()\n",
    "confusion_figure.set_size_inches(8, 5)\n",
    "confusion_axes.set_title(\n",
    "    'Confusion matrix showing the frequency of \\n'\n",
    "    'correct and incorrect bug classification predictions.'\n",
    "    '\\n\\n'  # hack to avoid overlap with x-axis labels below\n",
    ")\n",
    "confusion_axes.xaxis.tick_top()  # move x-axis labels to top of matrix\n",
    "_ = sns.heatmap(\n",
    "    confusion_matrix,\n",
    "    annot=True,\n",
    "    fmt=\"d\",\n",
    "    cmap=sns.color_palette(\"Blues\"),\n",
    "    vmin=0,\n",
    "    ax=confusion_axes,\n",
    ")"
   ]
  },
  {
   "cell_type": "code",
   "execution_count": 15,
   "metadata": {},
   "outputs": [],
   "source": [
    "from sklearn.metrics import  auc, roc_curve, precision_recall_curve, matthews_corrcoef, f1_score, roc_auc_score\n",
    "fpr_keras, tpr_keras, thresholds_keras = roc_curve(t_output_data, y_predict)\n",
    "precision, recall, thresholds = precision_recall_curve(t_output_data, y_predict)"
   ]
  },
  {
   "cell_type": "code",
   "execution_count": 16,
   "metadata": {},
   "outputs": [],
   "source": [
    "import matplotlib.pyplot as plt\n",
    "\n",
    "auc_keras = auc(fpr_keras, tpr_keras)\n",
    "roc_auc = roc_auc_score(t_output_data, y_predict)\n",
    "pr_auc = auc(recall, precision)\n",
    "f1 = f1_score(t_output_data, np.rint(y_predict))\n",
    "mcc = matthews_corrcoef(t_output_data, np.rint(y_predict))"
   ]
  },
  {
   "cell_type": "code",
   "execution_count": 17,
   "metadata": {},
   "outputs": [
    {
     "name": "stdout",
     "output_type": "stream",
     "text": [
      "PR AUC: 0.698\n",
      "ROC AUC: 0.698\n",
      "MCC: 0.339\n",
      "F1: 0.606\n"
     ]
    }
   ],
   "source": [
    "print('PR AUC: %.3f' % pr_auc)\n",
    "print('ROC AUC: %.3f' % roc_auc)\n",
    "print('MCC: %.3f' % mcc)\n",
    "print('F1: %.3f' % f1)"
   ]
  },
  {
   "cell_type": "code",
   "execution_count": 18,
   "metadata": {},
   "outputs": [
    {
     "data": {
      "image/png": "[encoded data removed]",
      "text/plain": [
       "<Figure size 432x288 with 1 Axes>"
      ]
     },
     "metadata": {
      "needs_background": "light"
     },
     "output_type": "display_data"
    }
   ],
   "source": [
    "plt.plot(fpr_keras, tpr_keras, label='Keras (area = {:.3f})'.format(auc_keras))\n",
    "plt.xlabel('False positive rate')\n",
    "plt.ylabel('True positive rate')\n",
    "plt.title('ROC curve')\n",
    "plt.legend(loc='best')\n",
    "plt.show()"
   ]
  },
  {
   "cell_type": "code",
   "execution_count": 19,
   "metadata": {},
   "outputs": [],
   "source": [
    "tn, fp, fn, tp = metrics.confusion_matrix(\n",
    "    t_output_data.astype(int), \n",
    "    np.rint(y_predict)\n",
    ").flatten().tolist()\n",
    "\n",
    "fpr_nn = fp/(fp+tp)\n",
    "fnr_nn = fn/(fn+tn)\n",
    "r = tp/(tp+fn)\n",
    "p = tp/(tp+fp)\n",
    "f = (2*p*r)/(p+r)\n",
    "acc = (tp+tn)/(tp+fp+fn+tn)"
   ]
  },
  {
   "cell_type": "code",
   "execution_count": 20,
   "metadata": {},
   "outputs": [
    {
     "name": "stdout",
     "output_type": "stream",
     "text": [
      "fpr_nn 0.3128621089223638\n",
      "fnr_nn 0.3362357669122572\n",
      "r 0.5415525114155251\n",
      "p 0.6871378910776361\n",
      "f 0.605720122574055\n",
      "acc 0.6723259762308998\n"
     ]
    }
   ],
   "source": [
    "print(\"fpr_nn\",fpr_nn)\n",
    "print(\"fnr_nn\",fnr_nn)\n",
    "print(\"r\",r)\n",
    "print(\"p\",p)\n",
    "print(\"f\",f)\n",
    "print(\"acc\",acc)"
   ]
  },
  {
   "cell_type": "code",
   "execution_count": 21,
   "metadata": {},
   "outputs": [
    {
     "name": "stdout",
     "output_type": "stream",
     "text": [
      "0.5744292237442923 0.6663135593220338 0.6169691025012262 0.6685059422750425 [0.3431539]\n",
      "0.7799086757990867 0.5357590966122961 0.6351803644477502 0.583616298811545 [0.02174029]\n",
      "0.8237442922374429 0.518688901667625 0.6365561044460126 0.5628183361629882 [0.00664994]\n",
      "0.9315068493150684 0.49586776859504134 0.6472081218274113 0.5280135823429541 [0.00014588]\n",
      "0.9296803652968036 0.4968277208394339 0.6475826972010178 0.5297113752122241 [0.00016353]\n"
     ]
    }
   ],
   "source": [
    "best_f1 = 0\n",
    "for predict in y_predict:\n",
    "    predict_after_threshold = np.int64(y_predict>predict)\n",
    "    tn, fp, fn, tp = metrics.confusion_matrix(\n",
    "        t_output_data.astype(int), \n",
    "        predict_after_threshold\n",
    "    ).flatten().tolist()\n",
    "    try:\n",
    "        fpr_nn = fp/(fp+tp)\n",
    "        fnr_nn = fn/(fn+tn)\n",
    "        r = tp/(tp+fn)\n",
    "        p = tp/(tp+fp)\n",
    "        f = (2*p*r)/(p+r)\n",
    "        acc = (tp+tn)/(tp+fp+fn+tn)\n",
    "    except:\n",
    "        continue\n",
    "    if f>best_f1:\n",
    "        best_f1 = f\n",
    "        print(r,p,f,acc,predict)"
   ]
  },
  {
   "cell_type": "code",
   "execution_count": 22,
   "metadata": {},
   "outputs": [
    {
     "name": "stdout",
     "output_type": "stream",
     "text": [
      "0.5744292237442923 0.6663135593220338 0.6169691025012262 0.6685059422750425 [0.3431539]\n",
      "0.7799086757990867 0.5357590966122961 0.6351803644477502 0.583616298811545 [0.02174029]\n",
      "0.8237442922374429 0.518688901667625 0.6365561044460126 0.5628183361629882 [0.00664994]\n",
      "0.9315068493150684 0.49586776859504134 0.6472081218274113 0.5280135823429541 [0.00014588]\n",
      "0.9579908675799087 0.48075160403299727 0.6402197131522734 0.49957555178268254 [1.2427568e-05]\n",
      "0.9899543378995433 0.47130434782608693 0.6385861561119294 0.4792020373514431 [8.940697e-08]\n",
      "0.9926940639269406 0.47056277056277057 0.6384728340675477 0.47750424448217316 [5.9604645e-08]\n",
      "0.993607305936073 0.4691677447175507 0.6373755125951962 0.47453310696095075 [0.]\n"
     ]
    }
   ],
   "source": [
    "best_r = 0\n",
    "for predict in y_predict:\n",
    "    predict_after_threshold = np.int64(y_predict>predict)\n",
    "    tn, fp, fn, tp = metrics.confusion_matrix(\n",
    "        t_output_data.astype(int), \n",
    "        predict_after_threshold\n",
    "    ).flatten().tolist()\n",
    "    try:\n",
    "        fpr_nn = fp/(fp+tp)\n",
    "        fnr_nn = fn/(fn+tn)\n",
    "        r = tp/(tp+fn)\n",
    "        p = tp/(tp+fp)\n",
    "        f = (2*p*r)/(p+r)\n",
    "        acc = (tp+tn)/(tp+fp+fn+tn)\n",
    "    except:\n",
    "        continue\n",
    "    if r>best_r:\n",
    "        best_r = r\n",
    "        print(r,p,f,acc,predict)"
   ]
  },
  {
   "cell_type": "code",
   "execution_count": 23,
   "metadata": {},
   "outputs": [
    {
     "name": "stdout",
     "output_type": "stream",
     "text": [
      "0.5744292237442923 0.6663135593220338 0.6169691025012262 0.6685059422750425 [0.3431539]\n",
      "0.5388127853881278 0.6876456876456877 0.6041986687147977 0.6719015280135824 [0.51494247]\n",
      "0.536986301369863 0.6925795053003534 0.6049382716049383 0.6740237691001698 [0.5318167]\n",
      "0.4894977168949772 0.721399730820996 0.5832426550598477 0.6748726655348047 [0.756737]\n",
      "0.4931506849315068 0.72 0.5853658536585366 0.6752971137521222 [0.7467081]\n",
      "0.4894977168949772 0.7233468286099866 0.5838779956427016 0.6757215619694398 [0.75805026]\n"
     ]
    }
   ],
   "source": [
    "best_a = 0\n",
    "for predict in y_predict:\n",
    "    predict_after_threshold = np.int64(y_predict>predict)\n",
    "    tn, fp, fn, tp = metrics.confusion_matrix(\n",
    "        t_output_data.astype(int), \n",
    "        predict_after_threshold\n",
    "    ).flatten().tolist()\n",
    "    try:\n",
    "        fpr_nn = fp/(fp+tp)\n",
    "        fnr_nn = fn/(fn+tn)\n",
    "        r = tp/(tp+fn)\n",
    "        p = tp/(tp+fp)\n",
    "        f = (2*p*r)/(p+r)\n",
    "        acc = (tp+tn)/(tp+fp+fn+tn)\n",
    "    except:\n",
    "        continue\n",
    "    if acc>best_a:\n",
    "        best_a = acc\n",
    "        print(r,p,f,acc,predict)"
   ]
  },
  {
   "cell_type": "markdown",
   "metadata": {},
   "source": [
    "# imbalance testing"
   ]
  },
  {
   "cell_type": "code",
   "execution_count": 24,
   "metadata": {},
   "outputs": [
    {
     "name": "stdout",
     "output_type": "stream",
     "text": [
      "Loading Input Data...\n",
      "Done\n",
      "Loading Output Data...\n",
      "Done\n"
     ]
    }
   ],
   "source": [
    "im_t_input_data = getting_data(\"./data/local_im_test_input_greedy.npy\", \"Input\")\n",
    "im_t_output_data = getting_data(\"./data/local_im_test_output_greedy.npy\", \"Output\")"
   ]
  },
  {
   "cell_type": "code",
   "execution_count": 25,
   "metadata": {},
   "outputs": [],
   "source": [
    "y_im_predict = model_local.predict(im_t_input_data)"
   ]
  },
  {
   "cell_type": "code",
   "execution_count": 26,
   "metadata": {},
   "outputs": [
    {
     "data": {
      "image/png": "[encoded data removed]",
      "text/plain": [
       "<Figure size 576x360 with 2 Axes>"
      ]
     },
     "metadata": {
      "needs_background": "light"
     },
     "output_type": "display_data"
    }
   ],
   "source": [
    "confusion_matrix = pd.DataFrame(\n",
    "    data=metrics.confusion_matrix(im_t_output_data, np.rint(y_im_predict)),\n",
    ")\n",
    "\n",
    "confusion_figure, confusion_axes = matplotlib.pyplot.subplots()\n",
    "confusion_figure.set_size_inches(8, 5)\n",
    "confusion_axes.set_title(\n",
    "    'Confusion matrix showing the frequency of \\n'\n",
    "    'correct and incorrect bug classification predictions.'\n",
    "    '\\n\\n'  # hack to avoid overlap with x-axis labels below\n",
    ")\n",
    "confusion_axes.xaxis.tick_top()  # move x-axis labels to top of matrix\n",
    "_ = sns.heatmap(\n",
    "    confusion_matrix,\n",
    "    annot=True,\n",
    "    fmt=\"d\",\n",
    "    cmap=sns.color_palette(\"Blues\"),\n",
    "    vmin=0,\n",
    "    ax=confusion_axes,\n",
    ")"
   ]
  },
  {
   "cell_type": "code",
   "execution_count": 27,
   "metadata": {},
   "outputs": [],
   "source": [
    "tn, fp, fn, tp = metrics.confusion_matrix(\n",
    "    im_t_output_data.astype(int), \n",
    "    np.rint(y_im_predict)\n",
    ").flatten().tolist()\n",
    "\n",
    "fpr_nn = fp/(fp+tp)\n",
    "fnr_nn = fn/(fn+tn)\n",
    "r = tp/(tp+fn)\n",
    "p = tp/(tp+fp)\n",
    "f = (2*p*r)/(p+r)\n",
    "acc = (tp+tn)/(tp+fp+fn+tn)"
   ]
  },
  {
   "cell_type": "code",
   "execution_count": 28,
   "metadata": {},
   "outputs": [
    {
     "name": "stdout",
     "output_type": "stream",
     "text": [
      "fpr_nn 0.8082147477360931\n",
      "fnr_nn 0.05379916407673347\n",
      "r 0.5415525114155251\n",
      "p 0.19178525226390686\n",
      "f 0.2832577024122283\n",
      "acc 0.7584319407550512\n"
     ]
    }
   ],
   "source": [
    "print(\"fpr_nn\",fpr_nn)\n",
    "print(\"fnr_nn\",fnr_nn)\n",
    "print(\"r\",r)\n",
    "print(\"p\",p)\n",
    "print(\"f\",f)\n",
    "print(\"acc\",acc)"
   ]
  },
  {
   "cell_type": "code",
   "execution_count": 29,
   "metadata": {},
   "outputs": [
    {
     "name": "stdout",
     "output_type": "stream",
     "text": [
      "0.5662100456621004 0.17260579064587972 0.26456155323234476 0.7225307896643323 [0.3431539]\n",
      "0.31232876712328766 0.24358974358974358 0.27370948379351745 0.8539000241487563 [0.98638904]\n",
      "0.4575342465753425 0.21782608695652175 0.295139911634757 0.8073734202688562 [0.8432565]\n",
      "0.4639269406392694 0.21774539219888556 0.29638273045507585 0.8058439990340498 [0.83409274]\n",
      "0.46301369863013697 0.21806451612903227 0.29649122807017547 0.8063269741608308 [0.8365201]\n"
     ]
    }
   ],
   "source": [
    "best_f1 = 0\n",
    "for predict in y_predict:\n",
    "    predict_after_threshold = np.int64(y_im_predict>predict)\n",
    "    tn, fp, fn, tp = metrics.confusion_matrix(\n",
    "        im_t_output_data.astype(int), \n",
    "        predict_after_threshold\n",
    "    ).flatten().tolist()\n",
    "    try:\n",
    "        fpr_nn = fp/(fp+tp)\n",
    "        fnr_nn = fn/(fn+tn)\n",
    "        r = tp/(tp+fn)\n",
    "        p = tp/(tp+fp)\n",
    "        f = (2*p*r)/(p+r)\n",
    "        acc = (tp+tn)/(tp+fp+fn+tn)\n",
    "    except:\n",
    "        continue\n",
    "    if f>best_f1:\n",
    "        best_f1 = f\n",
    "        print(r,p,f,acc,predict)"
   ]
  },
  {
   "cell_type": "code",
   "execution_count": 30,
   "metadata": {},
   "outputs": [
    {
     "name": "stdout",
     "output_type": "stream",
     "text": [
      "0.7095890410958904 0.12388392857142858 0.21094068141713046 0.5320775980037028 [0.10669652]\n",
      "0.536986301369863 0.19373970345963756 0.2847457627118644 0.7622152459148354 [0.5337529]\n",
      "0.4611872146118721 0.21823681936041486 0.29627456732179525 0.8068904451420752 [0.84090924]\n",
      "0.4 0.2283628779979145 0.2907401261201461 0.8279803590115109 [0.9374236]\n",
      "0.12420091324200913 0.3665768194070081 0.1855388813096862 0.9038879497705868 [0.99998164]\n",
      "0.1232876712328767 0.3935860058309038 0.1877607788595271 0.9059808419866376 [0.9999876]\n",
      "0.07671232876712329 0.5283018867924528 0.1339712918660287 0.9125815020526443 [0.9999999]\n"
     ]
    }
   ],
   "source": [
    "best_a = 0\n",
    "for predict in y_im_predict:\n",
    "    predict_after_threshold = np.int64(y_im_predict>predict)\n",
    "    tn, fp, fn, tp = metrics.confusion_matrix(\n",
    "        im_t_output_data.astype(int), \n",
    "        predict_after_threshold\n",
    "    ).flatten().tolist()\n",
    "    try:\n",
    "        fpr_nn = fp/(fp+tp)\n",
    "        fnr_nn = fn/(fn+tn)\n",
    "        r = tp/(tp+fn)\n",
    "        p = tp/(tp+fp)\n",
    "        f = (2*p*r)/(p+r)\n",
    "        acc = (tp+tn)/(tp+fp+fn+tn)\n",
    "    except:\n",
    "        continue\n",
    "    if acc>best_a:\n",
    "        best_a = acc\n",
    "        print(r,p,f,acc,predict)"
   ]
  },
  {
   "cell_type": "code",
   "execution_count": 31,
   "metadata": {},
   "outputs": [
    {
     "name": "stdout",
     "output_type": "stream",
     "text": [
      "0.7095890410958904 0.12388392857142858 0.21094068141713046 0.5320775980037028 [0.10669652]\n",
      "0.8438356164383561 0.10456037116668553 0.1860652436568667 0.34927151251710536 [0.0038971]\n",
      "0.9242009132420091 0.09782503624939584 0.1769230769230769 0.24205103437172987 [0.00019336]\n",
      "0.9789954337899544 0.09138180888244822 0.16716045532512086 0.14014328262094503 [1.1324883e-06]\n",
      "0.993607305936073 0.08933409967977667 0.16392948621365075 0.10665700716413105 [0.]\n"
     ]
    }
   ],
   "source": [
    "best_r = 0\n",
    "for predict in y_im_predict:\n",
    "    predict_after_threshold = np.int64(y_im_predict>predict)\n",
    "    tn, fp, fn, tp = metrics.confusion_matrix(\n",
    "        im_t_output_data.astype(int), \n",
    "        predict_after_threshold\n",
    "    ).flatten().tolist()\n",
    "    try:\n",
    "        fpr_nn = fp/(fp+tp)\n",
    "        fnr_nn = fn/(fn+tn)\n",
    "        r = tp/(tp+fn)\n",
    "        p = tp/(tp+fp)\n",
    "        f = (2*p*r)/(p+r)\n",
    "        acc = (tp+tn)/(tp+fp+fn+tn)\n",
    "    except:\n",
    "        continue\n",
    "    if r>best_r:\n",
    "        best_r = r\n",
    "        print(r,p,f,acc,predict)"
   ]
  },
  {
   "cell_type": "code",
   "execution_count": null,
   "metadata": {},
   "outputs": [],
   "source": []
  }
 ],
 "metadata": {
  "kernelspec": {
   "display_name": "Python 3",
   "language": "python",
   "name": "python3"
  },
  "language_info": {
   "codemirror_mode": {
    "name": "ipython",
    "version": 3
   },
   "file_extension": ".py",
   "mimetype": "text/x-python",
   "name": "python",
   "nbconvert_exporter": "python",
   "pygments_lexer": "ipython3",
   "version": "3.5.2"
  }
 },
 "nbformat": 4,
 "nbformat_minor": 2
}
