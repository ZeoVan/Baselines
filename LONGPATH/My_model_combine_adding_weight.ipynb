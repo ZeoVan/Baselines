{
 "cells": [
  {
   "cell_type": "code",
   "execution_count": 1,
   "metadata": {},
   "outputs": [
    {
     "name": "stderr",
     "output_type": "stream",
     "text": [
      "/data/jiahao/translate/py35venv/lib/python3.5/site-packages/tensorflow/python/framework/dtypes.py:516: FutureWarning: Passing (type, 1) or '1type' as a synonym of type is deprecated; in a future version of numpy, it will be understood as (type, (1,)) / '(1,)type'.\n",
      "  _np_qint8 = np.dtype([(\"qint8\", np.int8, 1)])\n",
      "/data/jiahao/translate/py35venv/lib/python3.5/site-packages/tensorflow/python/framework/dtypes.py:517: FutureWarning: Passing (type, 1) or '1type' as a synonym of type is deprecated; in a future version of numpy, it will be understood as (type, (1,)) / '(1,)type'.\n",
      "  _np_quint8 = np.dtype([(\"quint8\", np.uint8, 1)])\n",
      "/data/jiahao/translate/py35venv/lib/python3.5/site-packages/tensorflow/python/framework/dtypes.py:518: FutureWarning: Passing (type, 1) or '1type' as a synonym of type is deprecated; in a future version of numpy, it will be understood as (type, (1,)) / '(1,)type'.\n",
      "  _np_qint16 = np.dtype([(\"qint16\", np.int16, 1)])\n",
      "/data/jiahao/translate/py35venv/lib/python3.5/site-packages/tensorflow/python/framework/dtypes.py:519: FutureWarning: Passing (type, 1) or '1type' as a synonym of type is deprecated; in a future version of numpy, it will be understood as (type, (1,)) / '(1,)type'.\n",
      "  _np_quint16 = np.dtype([(\"quint16\", np.uint16, 1)])\n",
      "/data/jiahao/translate/py35venv/lib/python3.5/site-packages/tensorflow/python/framework/dtypes.py:520: FutureWarning: Passing (type, 1) or '1type' as a synonym of type is deprecated; in a future version of numpy, it will be understood as (type, (1,)) / '(1,)type'.\n",
      "  _np_qint32 = np.dtype([(\"qint32\", np.int32, 1)])\n",
      "/data/jiahao/translate/py35venv/lib/python3.5/site-packages/tensorflow/python/framework/dtypes.py:525: FutureWarning: Passing (type, 1) or '1type' as a synonym of type is deprecated; in a future version of numpy, it will be understood as (type, (1,)) / '(1,)type'.\n",
      "  np_resource = np.dtype([(\"resource\", np.ubyte, 1)])\n",
      "/data/jiahao/translate/py35venv/lib/python3.5/site-packages/tensorboard/compat/tensorflow_stub/dtypes.py:541: FutureWarning: Passing (type, 1) or '1type' as a synonym of type is deprecated; in a future version of numpy, it will be understood as (type, (1,)) / '(1,)type'.\n",
      "  _np_qint8 = np.dtype([(\"qint8\", np.int8, 1)])\n",
      "/data/jiahao/translate/py35venv/lib/python3.5/site-packages/tensorboard/compat/tensorflow_stub/dtypes.py:542: FutureWarning: Passing (type, 1) or '1type' as a synonym of type is deprecated; in a future version of numpy, it will be understood as (type, (1,)) / '(1,)type'.\n",
      "  _np_quint8 = np.dtype([(\"quint8\", np.uint8, 1)])\n",
      "/data/jiahao/translate/py35venv/lib/python3.5/site-packages/tensorboard/compat/tensorflow_stub/dtypes.py:543: FutureWarning: Passing (type, 1) or '1type' as a synonym of type is deprecated; in a future version of numpy, it will be understood as (type, (1,)) / '(1,)type'.\n",
      "  _np_qint16 = np.dtype([(\"qint16\", np.int16, 1)])\n",
      "/data/jiahao/translate/py35venv/lib/python3.5/site-packages/tensorboard/compat/tensorflow_stub/dtypes.py:544: FutureWarning: Passing (type, 1) or '1type' as a synonym of type is deprecated; in a future version of numpy, it will be understood as (type, (1,)) / '(1,)type'.\n",
      "  _np_quint16 = np.dtype([(\"quint16\", np.uint16, 1)])\n",
      "/data/jiahao/translate/py35venv/lib/python3.5/site-packages/tensorboard/compat/tensorflow_stub/dtypes.py:545: FutureWarning: Passing (type, 1) or '1type' as a synonym of type is deprecated; in a future version of numpy, it will be understood as (type, (1,)) / '(1,)type'.\n",
      "  _np_qint32 = np.dtype([(\"qint32\", np.int32, 1)])\n",
      "/data/jiahao/translate/py35venv/lib/python3.5/site-packages/tensorboard/compat/tensorflow_stub/dtypes.py:550: FutureWarning: Passing (type, 1) or '1type' as a synonym of type is deprecated; in a future version of numpy, it will be understood as (type, (1,)) / '(1,)type'.\n",
      "  np_resource = np.dtype([(\"resource\", np.ubyte, 1)])\n",
      "Using TensorFlow backend.\n"
     ]
    }
   ],
   "source": [
    "import tensorflow as tf\n",
    "import keras.backend.tensorflow_backend as KTF\n",
    "from keras.backend import ones_like\n",
    "from keras.layers.recurrent import GRU\n",
    "from keras.layers.core import Lambda\n",
    "from keras.optimizers import adam\n",
    "from keras.layers import Conv1D, Dense, Reshape, Concatenate, Flatten, Activation, Dropout,MaxPooling1D\n",
    "from keras.models import Input, Model\n",
    "from keras_self_attention import SeqSelfAttention\n",
    "from keras_multi_head import MultiHeadAttention\n",
    "import numpy as np\n",
    "import os\n",
    "from tensorflow.core.protobuf import rewriter_config_pb2\n",
    "from tensorflow.keras.backend import set_session\n",
    "os.environ[\"CUDA_VISIBLE_DEVICES\"] = \"2\"\n",
    "tf.keras.backend.clear_session()  # For easy reset of notebook state.\n",
    "config_proto = tf.ConfigProto()\n",
    "off = rewriter_config_pb2.RewriterConfig.OFF\n",
    "config_proto.graph_options.rewrite_options.arithmetic_optimization = off\n",
    "session = tf.Session(config=config_proto)\n",
    "set_session(session)"
   ]
  },
  {
   "cell_type": "code",
   "execution_count": 2,
   "metadata": {},
   "outputs": [],
   "source": [
    "from keras import backend as K\n",
    "from keras.layers import Layer ,Add\n",
    "from keras.layers.core import Lambda\n",
    "\n",
    "\n",
    "class adding_weight(Layer):\n",
    "\n",
    "    def __init__(self, output_len, output_dim, **kwargs):\n",
    "        self.output_len = output_len\n",
    "        self.output_dim = output_dim\n",
    "        super(adding_weight, self).__init__(**kwargs)\n",
    "\n",
    "    def build(self, input_shape):\n",
    "        self.kernel = self.add_weight(name='kernel',\n",
    "                                      shape=(15, self.output_dim),\n",
    "                                      initializer='uniform',\n",
    "                                      trainable=True)\n",
    "        super(adding_weight, self).build(input_shape)\n",
    "        \n",
    "    def call(self, x):\n",
    "        temp = Lambda(lambda y: K.dot(y, self.kernel))(x[1])\n",
    "        temp = Lambda(lambda y: tf.expand_dims(y, 1))(temp)\n",
    "        temp = Lambda(lambda y: tf.tile(y, multiples=[1, self.output_len, 1]))(temp)\n",
    "        temp = Lambda(lambda y: tf.multiply(x[0], y))(temp)\n",
    "        return Add()([x[0], temp])\n",
    "\n",
    "    def compute_output_shape(self, input_shape):\n",
    "        return (None, self.output_len, self.output_dim)\n",
    "\n",
    "def local_context_learning(path_length, input_length, input_dim, output_dim, hidden_dim, filters_num, kernel_val,\n",
    "                           learning_rate, drop_rate):\n",
    "    basic_data_input = Input(shape=(path_length, input_length, input_dim))\n",
    "\n",
    "    basic_input = Reshape((path_length, input_length * input_dim))(basic_data_input)\n",
    "\n",
    "    label_data_input = Input(shape=(path_length,))\n",
    "\n",
    "    weighted_input = adding_weight(path_length, input_length * input_dim)([basic_input, label_data_input])\n",
    "\n",
    "    GRU_layer = GRU(units=hidden_dim, return_sequences=True)\n",
    "    rnn_output = GRU_layer(weighted_input)\n",
    "    Self_1 = SeqSelfAttention(attention_activation='sigmoid')\n",
    "    rnn_att = Self_1(rnn_output)\n",
    "    CNN_layer_1 = Conv1D(filters=filters_num, kernel_size=kernel_val, padding=\"same\")\n",
    "    cnn_output = CNN_layer_1(weighted_input)\n",
    "    Dense_1 = Dense(hidden_dim)\n",
    "    cnn_output_reformat = Dense_1(cnn_output)\n",
    "    Self_2 = SeqSelfAttention(attention_activation='sigmoid')\n",
    "    cnn_att = Self_2(cnn_output_reformat)\n",
    "    Conca_1 = Concatenate(axis=1)\n",
    "    new_value = Conca_1([rnn_att, cnn_att])\n",
    "    new_keys = Lambda(lambda x: ones_like(x))(new_value)\n",
    "    Multi_1 = MultiHeadAttention(head_num=2)\n",
    "    new_result = Multi_1([weighted_input, new_keys, new_value])\n",
    "    result = Flatten()(new_result)\n",
    "    Drop_1 = Dropout(rate=drop_rate)\n",
    "    result_fix = Drop_1(result)\n",
    "    Dense_2 = Dense(output_dim)\n",
    "    method_vector = Dense_2(result_fix)\n",
    "    method_vector = Reshape((-1, 128))(method_vector)\n",
    "\n",
    "    CNN_layer_2 = Conv1D(filters=filters_num, kernel_size=kernel_val, padding=\"same\")\n",
    "    cnn_output_for_classification = CNN_layer_2(method_vector)\n",
    "    Pool_1 = MaxPooling1D(pool_size=2, padding='same')\n",
    "    pooling_output = Pool_1(cnn_output_for_classification)\n",
    "    output_classification = Flatten()(pooling_output)\n",
    "    Drop_2 = Dropout(rate=drop_rate)\n",
    "    output_classification_fix = Drop_2(output_classification)\n",
    "    Dense_3 = Dense(32, activation='relu')\n",
    "    output_classification_fix = Dense_3(output_classification_fix)\n",
    "    Dense_4 = Dense(16, activation='relu')\n",
    "    output_classification_fix = Dense_4(output_classification_fix)\n",
    "    Dense_5 = Dense(1)\n",
    "    fixed_output_classification = Dense_5(output_classification_fix)\n",
    "    Active_1 = Activation(activation='sigmoid')\n",
    "    stand_output = Active_1(fixed_output_classification)\n",
    "    model = Model([basic_data_input, label_data_input], stand_output)\n",
    "    ada = adam(lr=learning_rate)\n",
    "    model.compile(optimizer=ada, loss='binary_crossentropy', metrics=['accuracy'])\n",
    "\n",
    "    \n",
    "    New_input  = Input(shape=(path_length, input_length, input_dim))\n",
    "    New_input_ = Reshape((path_length, input_length * input_dim))(New_input)\n",
    "    new_test_1 = GRU_layer(New_input_)\n",
    "    new_test_2 = Self_1(new_test_1)\n",
    "    new_test_3 = CNN_layer_1(New_input_)\n",
    "    new_test_4 = Dense_1(new_test_3)\n",
    "    new_test_5 = Self_2(new_test_4)\n",
    "    new_test_6 = Conca_1([new_test_2, new_test_5])\n",
    "    new_test_7 = Lambda(lambda x: ones_like(x))(new_test_6)\n",
    "    new_test_8 = Multi_1([New_input_, new_test_7, new_test_6])\n",
    "    new_test_9 = Flatten()(new_test_8)\n",
    "    new_test_10 = Drop_1(new_test_9)\n",
    "    new_test_11 = Dense_2(new_test_10)\n",
    "    new_test_12 = Reshape((-1, 128))(new_test_11)\n",
    "    new_test_13 = CNN_layer_2(new_test_12)\n",
    "    new_test_14 = Pool_1(new_test_13)\n",
    "    new_test_15 = Flatten()(new_test_14)\n",
    "    new_test_16 = Drop_2(new_test_15)\n",
    "    new_test_17 = Dense_3(new_test_16)\n",
    "    new_test_18 = Dense_4(new_test_17)\n",
    "    new_test_19 = Dense_5(new_test_18)\n",
    "    new_test_20 = Active_1(new_test_19)\n",
    "    model_test = Model(New_input, new_test_20)\n",
    "    return model, model_test"
   ]
  },
  {
   "cell_type": "code",
   "execution_count": 3,
   "metadata": {},
   "outputs": [
    {
     "name": "stdout",
     "output_type": "stream",
     "text": [
      "WARNING:tensorflow:From /data/jiahao/translate/py35venv/lib/python3.5/site-packages/keras/backend/tensorflow_backend.py:4070: The name tf.nn.max_pool is deprecated. Please use tf.nn.max_pool2d instead.\n",
      "\n",
      "WARNING:tensorflow:From /data/jiahao/translate/py35venv/lib/python3.5/site-packages/tensorflow/python/ops/nn_impl.py:180: add_dispatch_support.<locals>.wrapper (from tensorflow.python.ops.array_ops) is deprecated and will be removed in a future version.\n",
      "Instructions for updating:\n",
      "Use tf.where in 2.0, which has the same broadcast rule as np.where\n",
      "Model: \"model_1\"\n",
      "__________________________________________________________________________________________________\n",
      "Layer (type)                    Output Shape         Param #     Connected to                     \n",
      "==================================================================================================\n",
      "input_1 (InputLayer)            (None, 15, 20, 128)  0                                            \n",
      "__________________________________________________________________________________________________\n",
      "reshape_1 (Reshape)             (None, 15, 2560)     0           input_1[0][0]                    \n",
      "__________________________________________________________________________________________________\n",
      "input_2 (InputLayer)            (None, 15)           0                                            \n",
      "__________________________________________________________________________________________________\n",
      "adding_weight_1 (adding_weight) (None, 15, 2560)     38400       reshape_1[0][0]                  \n",
      "                                                                 input_2[0][0]                    \n",
      "__________________________________________________________________________________________________\n",
      "conv1d_1 (Conv1D)               (None, 15, 64)       491584      adding_weight_1[0][0]            \n",
      "__________________________________________________________________________________________________\n",
      "gru_1 (GRU)                     (None, 15, 128)      1032576     adding_weight_1[0][0]            \n",
      "__________________________________________________________________________________________________\n",
      "dense_1 (Dense)                 (None, 15, 128)      8320        conv1d_1[0][0]                   \n",
      "__________________________________________________________________________________________________\n",
      "seq_self_attention_1 (SeqSelfAt (None, 15, 128)      8257        gru_1[0][0]                      \n",
      "__________________________________________________________________________________________________\n",
      "seq_self_attention_2 (SeqSelfAt (None, 15, 128)      8257        dense_1[0][0]                    \n",
      "__________________________________________________________________________________________________\n",
      "concatenate_1 (Concatenate)     (None, 30, 128)      0           seq_self_attention_1[0][0]       \n",
      "                                                                 seq_self_attention_2[0][0]       \n",
      "__________________________________________________________________________________________________\n",
      "lambda_5 (Lambda)               (None, 30, 128)      0           concatenate_1[0][0]              \n",
      "__________________________________________________________________________________________________\n",
      "multi_head_attention_1 (MultiHe (None, 15, 128)      377344      adding_weight_1[0][0]            \n",
      "                                                                 lambda_5[0][0]                   \n",
      "                                                                 concatenate_1[0][0]              \n",
      "__________________________________________________________________________________________________\n",
      "flatten_1 (Flatten)             (None, 1920)         0           multi_head_attention_1[0][0]     \n",
      "__________________________________________________________________________________________________\n",
      "dropout_1 (Dropout)             (None, 1920)         0           flatten_1[0][0]                  \n",
      "__________________________________________________________________________________________________\n",
      "dense_2 (Dense)                 (None, 128)          245888      dropout_1[0][0]                  \n",
      "__________________________________________________________________________________________________\n",
      "reshape_2 (Reshape)             (None, 1, 128)       0           dense_2[0][0]                    \n",
      "__________________________________________________________________________________________________\n",
      "conv1d_2 (Conv1D)               (None, 1, 64)        24640       reshape_2[0][0]                  \n",
      "__________________________________________________________________________________________________\n",
      "max_pooling1d_1 (MaxPooling1D)  (None, 1, 64)        0           conv1d_2[0][0]                   \n",
      "__________________________________________________________________________________________________\n",
      "flatten_2 (Flatten)             (None, 64)           0           max_pooling1d_1[0][0]            \n",
      "__________________________________________________________________________________________________\n",
      "dropout_2 (Dropout)             (None, 64)           0           flatten_2[0][0]                  \n",
      "__________________________________________________________________________________________________\n",
      "dense_3 (Dense)                 (None, 32)           2080        dropout_2[0][0]                  \n",
      "__________________________________________________________________________________________________\n",
      "dense_4 (Dense)                 (None, 16)           528         dense_3[0][0]                    \n",
      "__________________________________________________________________________________________________\n",
      "dense_5 (Dense)                 (None, 1)            17          dense_4[0][0]                    \n",
      "__________________________________________________________________________________________________\n",
      "activation_1 (Activation)       (None, 1)            0           dense_5[0][0]                    \n",
      "==================================================================================================\n",
      "Total params: 2,237,891\n",
      "Trainable params: 2,237,891\n",
      "Non-trainable params: 0\n",
      "__________________________________________________________________________________________________\n"
     ]
    }
   ],
   "source": [
    "model_local,model_local_test = local_context_learning(15, 20, 128, 128, 128, 64, 3, 0.0001, 0.5)\n",
    "model_local.summary()"
   ]
  },
  {
   "cell_type": "code",
   "execution_count": 4,
   "metadata": {},
   "outputs": [],
   "source": [
    "def getting_data(file_path, print_text):\n",
    "    print(\"Loading \" + print_text + \" Data...\")\n",
    "    data = np.load(file_path,allow_pickle = True)\n",
    "    print(\"Done\")\n",
    "    return data"
   ]
  },
  {
   "cell_type": "code",
   "execution_count": 5,
   "metadata": {},
   "outputs": [
    {
     "name": "stdout",
     "output_type": "stream",
     "text": [
      "Loading Input Data...\n",
      "Done\n",
      "Loading Label Data...\n",
      "Done\n",
      "Loading Output Data...\n",
      "Done\n"
     ]
    }
   ],
   "source": [
    "input_data = getting_data(\"./data/local_train_input_combine.npy\", \"Input\")\n",
    "label_data = getting_data(\"./data/local_train_label_combine.npy\", \"Label\")\n",
    "output_data = getting_data(\"./data/local_train_output_combine.npy\", \"Output\")\n",
    "label_data.shape=(-1,15)"
   ]
  },
  {
   "cell_type": "code",
   "execution_count": 6,
   "metadata": {},
   "outputs": [
    {
     "data": {
      "text/plain": [
       "(7151, 15)"
      ]
     },
     "execution_count": 6,
     "metadata": {},
     "output_type": "execute_result"
    }
   ],
   "source": [
    "label_data.shape"
   ]
  },
  {
   "cell_type": "code",
   "execution_count": 7,
   "metadata": {},
   "outputs": [
    {
     "name": "stdout",
     "output_type": "stream",
     "text": [
      "Loading Input Data...\n",
      "Done\n",
      "Loading Label Data...\n",
      "Done\n",
      "Loading Output Data...\n",
      "Done\n"
     ]
    }
   ],
   "source": [
    "v_input_data = getting_data(\"./data/local_val_input_combine.npy\", \"Input\")\n",
    "v_label_data = getting_data(\"./data/local_val_label_combine.npy\", \"Label\")\n",
    "v_output_data = getting_data(\"./data/local_val_output_combine.npy\", \"Output\")\n",
    "v_label_data.shape=(-1,15)"
   ]
  },
  {
   "cell_type": "code",
   "execution_count": 8,
   "metadata": {},
   "outputs": [
    {
     "data": {
      "text/plain": [
       "(2388, 15)"
      ]
     },
     "execution_count": 8,
     "metadata": {},
     "output_type": "execute_result"
    }
   ],
   "source": [
    "v_label_data.shape"
   ]
  },
  {
   "cell_type": "code",
   "execution_count": 9,
   "metadata": {},
   "outputs": [
    {
     "name": "stdout",
     "output_type": "stream",
     "text": [
      "Training Local Context Model...\n",
      "WARNING:tensorflow:From /data/jiahao/translate/py35venv/lib/python3.5/site-packages/keras/backend/tensorflow_backend.py:422: The name tf.global_variables is deprecated. Please use tf.compat.v1.global_variables instead.\n",
      "\n",
      "Train on 7151 samples, validate on 2388 samples\n",
      "Epoch 1/100\n",
      "7151/7151 [==============================] - 20s 3ms/step - loss: 0.6914 - accuracy: 0.5363 - val_loss: 0.6879 - val_accuracy: 0.5402\n",
      "Epoch 2/100\n",
      "7151/7151 [==============================] - 16s 2ms/step - loss: 0.6846 - accuracy: 0.5718 - val_loss: 0.6685 - val_accuracy: 0.6273\n",
      "Epoch 3/100\n",
      "7151/7151 [==============================] - 15s 2ms/step - loss: 0.6602 - accuracy: 0.6212 - val_loss: 0.6541 - val_accuracy: 0.6231\n",
      "Epoch 4/100\n",
      "7151/7151 [==============================] - 15s 2ms/step - loss: 0.6367 - accuracy: 0.6539 - val_loss: 0.6387 - val_accuracy: 0.6608\n",
      "Epoch 5/100\n",
      "7151/7151 [==============================] - 15s 2ms/step - loss: 0.6164 - accuracy: 0.6768 - val_loss: 0.6022 - val_accuracy: 0.6868\n",
      "Epoch 6/100\n",
      "7151/7151 [==============================] - 15s 2ms/step - loss: 0.5906 - accuracy: 0.6950 - val_loss: 0.5862 - val_accuracy: 0.6855\n",
      "Epoch 7/100\n",
      "7151/7151 [==============================] - 15s 2ms/step - loss: 0.5567 - accuracy: 0.7258 - val_loss: 0.5595 - val_accuracy: 0.7056\n",
      "Epoch 8/100\n",
      "7151/7151 [==============================] - 15s 2ms/step - loss: 0.5336 - accuracy: 0.7325 - val_loss: 0.5892 - val_accuracy: 0.6922\n",
      "Epoch 9/100\n",
      "7151/7151 [==============================] - 15s 2ms/step - loss: 0.5194 - accuracy: 0.7409 - val_loss: 0.5361 - val_accuracy: 0.7345\n",
      "Epoch 10/100\n",
      "7151/7151 [==============================] - 15s 2ms/step - loss: 0.4917 - accuracy: 0.7609 - val_loss: 0.5324 - val_accuracy: 0.7303\n",
      "Epoch 11/100\n",
      "7151/7151 [==============================] - 15s 2ms/step - loss: 0.4839 - accuracy: 0.7645 - val_loss: 0.5203 - val_accuracy: 0.7412\n",
      "Epoch 12/100\n",
      "7151/7151 [==============================] - 15s 2ms/step - loss: 0.4694 - accuracy: 0.7799 - val_loss: 0.5091 - val_accuracy: 0.7617\n",
      "Epoch 13/100\n",
      "7151/7151 [==============================] - 15s 2ms/step - loss: 0.4498 - accuracy: 0.7932 - val_loss: 0.4998 - val_accuracy: 0.7668\n",
      "Epoch 14/100\n",
      "7151/7151 [==============================] - 15s 2ms/step - loss: 0.4420 - accuracy: 0.7996 - val_loss: 0.5073 - val_accuracy: 0.7693\n",
      "Epoch 15/100\n",
      "7151/7151 [==============================] - 15s 2ms/step - loss: 0.4370 - accuracy: 0.7958 - val_loss: 0.4882 - val_accuracy: 0.7630\n",
      "Epoch 16/100\n",
      "7151/7151 [==============================] - 15s 2ms/step - loss: 0.4353 - accuracy: 0.7978 - val_loss: 0.5612 - val_accuracy: 0.7253\n",
      "Epoch 17/100\n",
      "7151/7151 [==============================] - 16s 2ms/step - loss: 0.4233 - accuracy: 0.8045 - val_loss: 0.4808 - val_accuracy: 0.7781\n",
      "Epoch 18/100\n",
      "7151/7151 [==============================] - 15s 2ms/step - loss: 0.4092 - accuracy: 0.8129 - val_loss: 0.4960 - val_accuracy: 0.7760\n",
      "Epoch 19/100\n",
      "7151/7151 [==============================] - 15s 2ms/step - loss: 0.4032 - accuracy: 0.8162 - val_loss: 0.4872 - val_accuracy: 0.7818\n",
      "Epoch 20/100\n",
      "7151/7151 [==============================] - 15s 2ms/step - loss: 0.3912 - accuracy: 0.8235 - val_loss: 0.4746 - val_accuracy: 0.7860\n",
      "Epoch 21/100\n",
      "7151/7151 [==============================] - 15s 2ms/step - loss: 0.3792 - accuracy: 0.8297 - val_loss: 0.5212 - val_accuracy: 0.7617\n",
      "Epoch 22/100\n",
      "7151/7151 [==============================] - 15s 2ms/step - loss: 0.3970 - accuracy: 0.8143 - val_loss: 0.4761 - val_accuracy: 0.7852\n",
      "Epoch 23/100\n",
      "7151/7151 [==============================] - 15s 2ms/step - loss: 0.4042 - accuracy: 0.8087 - val_loss: 0.4771 - val_accuracy: 0.7852\n",
      "Epoch 24/100\n",
      "7151/7151 [==============================] - 15s 2ms/step - loss: 0.3782 - accuracy: 0.8274 - val_loss: 0.4858 - val_accuracy: 0.7835\n",
      "Epoch 25/100\n",
      "7151/7151 [==============================] - 15s 2ms/step - loss: 0.3713 - accuracy: 0.8321 - val_loss: 0.5120 - val_accuracy: 0.7701\n",
      "Epoch 26/100\n",
      "7151/7151 [==============================] - 14s 2ms/step - loss: 0.3627 - accuracy: 0.8385 - val_loss: 0.4767 - val_accuracy: 0.7877\n",
      "Epoch 27/100\n",
      "7151/7151 [==============================] - 13s 2ms/step - loss: 0.3542 - accuracy: 0.8423 - val_loss: 0.4993 - val_accuracy: 0.7869\n",
      "Epoch 28/100\n",
      "7151/7151 [==============================] - 13s 2ms/step - loss: 0.3579 - accuracy: 0.8417 - val_loss: 0.5005 - val_accuracy: 0.7839\n",
      "Epoch 29/100\n",
      "7151/7151 [==============================] - 13s 2ms/step - loss: 0.3543 - accuracy: 0.8403 - val_loss: 0.5358 - val_accuracy: 0.7747\n",
      "Epoch 30/100\n",
      "7151/7151 [==============================] - 12s 2ms/step - loss: 0.3340 - accuracy: 0.8523 - val_loss: 0.4941 - val_accuracy: 0.7948\n",
      "Epoch 31/100\n",
      "7151/7151 [==============================] - 12s 2ms/step - loss: 0.3322 - accuracy: 0.8551 - val_loss: 0.5111 - val_accuracy: 0.7902\n",
      "Epoch 32/100\n",
      "7151/7151 [==============================] - 12s 2ms/step - loss: 0.3402 - accuracy: 0.8495 - val_loss: 0.5444 - val_accuracy: 0.7776\n",
      "Epoch 33/100\n",
      "7151/7151 [==============================] - 12s 2ms/step - loss: 0.3204 - accuracy: 0.8616 - val_loss: 0.5365 - val_accuracy: 0.7877\n",
      "Epoch 34/100\n",
      "7151/7151 [==============================] - 12s 2ms/step - loss: 0.3307 - accuracy: 0.8537 - val_loss: 0.5238 - val_accuracy: 0.7852\n",
      "Epoch 35/100\n",
      "7151/7151 [==============================] - 12s 2ms/step - loss: 0.3299 - accuracy: 0.8527 - val_loss: 0.5377 - val_accuracy: 0.7663\n",
      "Epoch 36/100\n",
      "7151/7151 [==============================] - 12s 2ms/step - loss: 0.3275 - accuracy: 0.8546 - val_loss: 0.5085 - val_accuracy: 0.7881\n",
      "Epoch 37/100\n",
      "7151/7151 [==============================] - 12s 2ms/step - loss: 0.3050 - accuracy: 0.8687 - val_loss: 0.5597 - val_accuracy: 0.7680\n",
      "Epoch 38/100\n",
      "7151/7151 [==============================] - 12s 2ms/step - loss: 0.3255 - accuracy: 0.8539 - val_loss: 0.5237 - val_accuracy: 0.7910\n",
      "Epoch 39/100\n",
      "7151/7151 [==============================] - 12s 2ms/step - loss: 0.2939 - accuracy: 0.8743 - val_loss: 0.5631 - val_accuracy: 0.7818\n",
      "Epoch 40/100\n",
      "7151/7151 [==============================] - 12s 2ms/step - loss: 0.2948 - accuracy: 0.8719 - val_loss: 0.5404 - val_accuracy: 0.7869\n",
      "Epoch 41/100\n",
      "7151/7151 [==============================] - 12s 2ms/step - loss: 0.2954 - accuracy: 0.8727 - val_loss: 0.6572 - val_accuracy: 0.7554\n",
      "Epoch 42/100\n",
      "7151/7151 [==============================] - 12s 2ms/step - loss: 0.2844 - accuracy: 0.8760 - val_loss: 0.5998 - val_accuracy: 0.7818\n",
      "Epoch 43/100\n",
      "7151/7151 [==============================] - 12s 2ms/step - loss: 0.2859 - accuracy: 0.8733 - val_loss: 0.5865 - val_accuracy: 0.7831\n",
      "Epoch 44/100\n",
      "7151/7151 [==============================] - 12s 2ms/step - loss: 0.2790 - accuracy: 0.8834 - val_loss: 0.6010 - val_accuracy: 0.7785\n",
      "Epoch 45/100\n",
      "7151/7151 [==============================] - 12s 2ms/step - loss: 0.3035 - accuracy: 0.8656 - val_loss: 0.5841 - val_accuracy: 0.7663\n",
      "Epoch 46/100\n",
      "7151/7151 [==============================] - 12s 2ms/step - loss: 0.2781 - accuracy: 0.8792 - val_loss: 0.5720 - val_accuracy: 0.7877\n",
      "Epoch 47/100\n",
      "7151/7151 [==============================] - 12s 2ms/step - loss: 0.2777 - accuracy: 0.8804 - val_loss: 0.6165 - val_accuracy: 0.7726\n",
      "Epoch 48/100\n",
      "7151/7151 [==============================] - 12s 2ms/step - loss: 0.2745 - accuracy: 0.8799 - val_loss: 0.6014 - val_accuracy: 0.7785\n",
      "Epoch 49/100\n",
      "7151/7151 [==============================] - 12s 2ms/step - loss: 0.2607 - accuracy: 0.8883 - val_loss: 0.6618 - val_accuracy: 0.7584\n",
      "Epoch 50/100\n",
      "7151/7151 [==============================] - 12s 2ms/step - loss: 0.2627 - accuracy: 0.8873 - val_loss: 0.6397 - val_accuracy: 0.7864\n",
      "Epoch 51/100\n",
      "7151/7151 [==============================] - 12s 2ms/step - loss: 0.2619 - accuracy: 0.8913 - val_loss: 0.6070 - val_accuracy: 0.7856\n",
      "Epoch 52/100\n",
      "7151/7151 [==============================] - 12s 2ms/step - loss: 0.2430 - accuracy: 0.8972 - val_loss: 0.6695 - val_accuracy: 0.7860\n",
      "Epoch 53/100\n",
      "7151/7151 [==============================] - 12s 2ms/step - loss: 0.2451 - accuracy: 0.9013 - val_loss: 0.7581 - val_accuracy: 0.7529\n",
      "Epoch 54/100\n",
      "7151/7151 [==============================] - 12s 2ms/step - loss: 0.2352 - accuracy: 0.9014 - val_loss: 0.6927 - val_accuracy: 0.7772\n"
     ]
    },
    {
     "name": "stdout",
     "output_type": "stream",
     "text": [
      "Epoch 55/100\n",
      "7151/7151 [==============================] - 12s 2ms/step - loss: 0.2321 - accuracy: 0.9034 - val_loss: 0.7255 - val_accuracy: 0.7638\n",
      "Epoch 56/100\n",
      "7151/7151 [==============================] - 12s 2ms/step - loss: 0.2710 - accuracy: 0.8793 - val_loss: 0.6521 - val_accuracy: 0.7864\n",
      "Epoch 57/100\n",
      "7151/7151 [==============================] - 12s 2ms/step - loss: 0.2506 - accuracy: 0.8915 - val_loss: 0.6734 - val_accuracy: 0.7906\n",
      "Epoch 58/100\n",
      "7151/7151 [==============================] - 12s 2ms/step - loss: 0.2700 - accuracy: 0.8792 - val_loss: 0.6754 - val_accuracy: 0.7705\n",
      "Epoch 59/100\n",
      "7151/7151 [==============================] - 12s 2ms/step - loss: 0.2231 - accuracy: 0.9080 - val_loss: 0.7105 - val_accuracy: 0.7642\n",
      "Epoch 60/100\n",
      "7151/7151 [==============================] - 12s 2ms/step - loss: 0.2291 - accuracy: 0.9016 - val_loss: 0.7418 - val_accuracy: 0.7848\n",
      "Epoch 61/100\n",
      "7151/7151 [==============================] - 12s 2ms/step - loss: 0.2316 - accuracy: 0.9018 - val_loss: 0.7205 - val_accuracy: 0.7860\n",
      "Epoch 62/100\n",
      "7151/7151 [==============================] - 12s 2ms/step - loss: 0.2135 - accuracy: 0.9113 - val_loss: 0.7711 - val_accuracy: 0.7802\n",
      "Epoch 63/100\n",
      "7151/7151 [==============================] - 12s 2ms/step - loss: 0.2046 - accuracy: 0.9168 - val_loss: 0.7723 - val_accuracy: 0.7797\n",
      "Epoch 64/100\n",
      "7151/7151 [==============================] - 12s 2ms/step - loss: 0.2051 - accuracy: 0.9137 - val_loss: 0.8038 - val_accuracy: 0.7550\n",
      "Epoch 65/100\n",
      "7151/7151 [==============================] - 12s 2ms/step - loss: 0.2126 - accuracy: 0.9090 - val_loss: 0.7658 - val_accuracy: 0.7793\n",
      "Epoch 66/100\n",
      "7151/7151 [==============================] - 12s 2ms/step - loss: 0.2001 - accuracy: 0.9164 - val_loss: 0.8425 - val_accuracy: 0.7609\n",
      "Epoch 67/100\n",
      "7151/7151 [==============================] - 12s 2ms/step - loss: 0.2309 - accuracy: 0.8986 - val_loss: 0.7352 - val_accuracy: 0.7785\n",
      "Epoch 68/100\n",
      "7151/7151 [==============================] - 12s 2ms/step - loss: 0.2092 - accuracy: 0.9129 - val_loss: 0.7867 - val_accuracy: 0.7848\n",
      "Epoch 69/100\n",
      "7151/7151 [==============================] - 12s 2ms/step - loss: 0.2013 - accuracy: 0.9169 - val_loss: 0.7312 - val_accuracy: 0.7864\n",
      "Epoch 70/100\n",
      "7151/7151 [==============================] - 12s 2ms/step - loss: 0.2065 - accuracy: 0.9147 - val_loss: 0.7537 - val_accuracy: 0.7822\n",
      "Epoch 71/100\n",
      "7151/7151 [==============================] - 12s 2ms/step - loss: 0.1940 - accuracy: 0.9197 - val_loss: 0.7830 - val_accuracy: 0.7797\n",
      "Epoch 72/100\n",
      "7151/7151 [==============================] - 12s 2ms/step - loss: 0.2210 - accuracy: 0.9027 - val_loss: 0.7316 - val_accuracy: 0.7701\n",
      "Epoch 73/100\n",
      "7151/7151 [==============================] - 12s 2ms/step - loss: 0.2527 - accuracy: 0.8890 - val_loss: 0.8023 - val_accuracy: 0.7559\n",
      "Epoch 74/100\n",
      "7151/7151 [==============================] - 12s 2ms/step - loss: 0.1968 - accuracy: 0.9192 - val_loss: 0.8003 - val_accuracy: 0.7747\n",
      "Epoch 75/100\n",
      "7151/7151 [==============================] - 13s 2ms/step - loss: 0.1888 - accuracy: 0.9235 - val_loss: 0.8035 - val_accuracy: 0.7810\n",
      "Epoch 76/100\n",
      "7151/7151 [==============================] - 12s 2ms/step - loss: 0.1874 - accuracy: 0.9234 - val_loss: 0.8141 - val_accuracy: 0.7785\n",
      "Epoch 77/100\n",
      "7151/7151 [==============================] - 12s 2ms/step - loss: 0.1881 - accuracy: 0.9238 - val_loss: 0.9211 - val_accuracy: 0.7446\n",
      "Epoch 78/100\n",
      "7151/7151 [==============================] - 13s 2ms/step - loss: 0.1847 - accuracy: 0.9214 - val_loss: 0.8284 - val_accuracy: 0.7802\n",
      "Epoch 79/100\n",
      "7151/7151 [==============================] - 12s 2ms/step - loss: 0.1769 - accuracy: 0.9281 - val_loss: 0.8494 - val_accuracy: 0.7889\n",
      "Epoch 80/100\n",
      "7151/7151 [==============================] - 12s 2ms/step - loss: 0.2049 - accuracy: 0.9126 - val_loss: 0.8308 - val_accuracy: 0.7680\n",
      "Epoch 81/100\n",
      "7151/7151 [==============================] - 12s 2ms/step - loss: 0.1864 - accuracy: 0.9228 - val_loss: 0.8557 - val_accuracy: 0.7873\n",
      "Epoch 82/100\n",
      "7151/7151 [==============================] - 11s 1ms/step - loss: 0.1719 - accuracy: 0.9283 - val_loss: 0.9113 - val_accuracy: 0.7848\n",
      "Epoch 83/100\n",
      "7151/7151 [==============================] - 11s 1ms/step - loss: 0.1647 - accuracy: 0.9347 - val_loss: 0.8582 - val_accuracy: 0.7839\n",
      "Epoch 84/100\n",
      "7151/7151 [==============================] - 11s 1ms/step - loss: 0.1659 - accuracy: 0.9327 - val_loss: 0.8652 - val_accuracy: 0.7802\n",
      "Epoch 85/100\n",
      "7151/7151 [==============================] - 11s 1ms/step - loss: 0.1586 - accuracy: 0.9351 - val_loss: 0.9027 - val_accuracy: 0.7806\n",
      "Epoch 86/100\n",
      "7151/7151 [==============================] - 11s 2ms/step - loss: 0.1778 - accuracy: 0.9256 - val_loss: 0.9249 - val_accuracy: 0.7839\n",
      "Epoch 87/100\n",
      "7151/7151 [==============================] - 11s 1ms/step - loss: 0.1745 - accuracy: 0.9250 - val_loss: 0.9424 - val_accuracy: 0.7613\n",
      "Epoch 88/100\n",
      "7151/7151 [==============================] - 9s 1ms/step - loss: 0.1667 - accuracy: 0.9316 - val_loss: 0.9068 - val_accuracy: 0.7856\n",
      "Epoch 89/100\n",
      "7151/7151 [==============================] - 9s 1ms/step - loss: 0.1662 - accuracy: 0.9329 - val_loss: 0.8915 - val_accuracy: 0.7718\n",
      "Epoch 90/100\n",
      "7151/7151 [==============================] - 9s 1ms/step - loss: 0.1756 - accuracy: 0.9284 - val_loss: 0.9485 - val_accuracy: 0.7818\n",
      "Epoch 91/100\n",
      "7151/7151 [==============================] - 9s 1ms/step - loss: 0.1582 - accuracy: 0.9360 - val_loss: 0.9272 - val_accuracy: 0.7688\n",
      "Epoch 92/100\n",
      "7151/7151 [==============================] - 8s 1ms/step - loss: 0.1706 - accuracy: 0.9273 - val_loss: 0.9517 - val_accuracy: 0.7894\n",
      "Epoch 93/100\n",
      "7151/7151 [==============================] - 8s 1ms/step - loss: 0.1523 - accuracy: 0.9365 - val_loss: 1.0250 - val_accuracy: 0.7785\n",
      "Epoch 94/100\n",
      "7151/7151 [==============================] - 8s 1ms/step - loss: 0.1493 - accuracy: 0.9394 - val_loss: 1.0598 - val_accuracy: 0.7806\n",
      "Epoch 95/100\n",
      "7151/7151 [==============================] - 8s 1ms/step - loss: 0.1431 - accuracy: 0.9429 - val_loss: 1.1559 - val_accuracy: 0.7714\n",
      "Epoch 96/100\n",
      "7151/7151 [==============================] - 8s 1ms/step - loss: 0.1498 - accuracy: 0.9383 - val_loss: 1.0623 - val_accuracy: 0.7592\n",
      "Epoch 97/100\n",
      "7151/7151 [==============================] - 9s 1ms/step - loss: 0.1795 - accuracy: 0.9252 - val_loss: 0.9148 - val_accuracy: 0.7864\n",
      "Epoch 98/100\n",
      "7151/7151 [==============================] - 9s 1ms/step - loss: 0.1524 - accuracy: 0.9376 - val_loss: 1.0680 - val_accuracy: 0.7726\n",
      "Epoch 99/100\n",
      "7151/7151 [==============================] - 8s 1ms/step - loss: 0.1532 - accuracy: 0.9383 - val_loss: 1.0244 - val_accuracy: 0.7718\n",
      "Epoch 100/100\n",
      "7151/7151 [==============================] - 9s 1ms/step - loss: 0.1603 - accuracy: 0.9326 - val_loss: 0.9655 - val_accuracy: 0.7810\n"
     ]
    },
    {
     "data": {
      "text/plain": [
       "<keras.callbacks.callbacks.History at 0x7f22406c6358>"
      ]
     },
     "execution_count": 9,
     "metadata": {},
     "output_type": "execute_result"
    }
   ],
   "source": [
    "print(\"Training Local Context Model...\")\n",
    "model_local.fit([input_data,label_data], output_data, batch_size=256, epochs=100,validation_data=([v_input_data,v_label_data], v_output_data))"
   ]
  },
  {
   "cell_type": "code",
   "execution_count": 10,
   "metadata": {},
   "outputs": [],
   "source": [
    "model_local.save('model_combine_adding_weight_train.h5')\n",
    "model_local_test.save('model_combine_adding_weight_test.h5')"
   ]
  },
  {
   "cell_type": "code",
   "execution_count": 11,
   "metadata": {},
   "outputs": [
    {
     "name": "stdout",
     "output_type": "stream",
     "text": [
      "Loading Input Data...\n",
      "Done\n",
      "Loading Label Data...\n",
      "Done\n",
      "Loading Output Data...\n",
      "Done\n"
     ]
    }
   ],
   "source": [
    "t_input_data = getting_data(\"./data/local_test_input_combine.npy\", \"Input\")\n",
    "t_label_data = getting_data(\"./data/local_test_label_combine.npy\", \"Label\")\n",
    "t_output_data = getting_data(\"./data/local_test_output_combine.npy\", \"Output\")\n",
    "t_label_data.shape=(-1,15)"
   ]
  },
  {
   "cell_type": "code",
   "execution_count": 12,
   "metadata": {},
   "outputs": [
    {
     "data": {
      "text/plain": [
       "(2365, 15)"
      ]
     },
     "execution_count": 12,
     "metadata": {},
     "output_type": "execute_result"
    }
   ],
   "source": [
    "t_label_data.shape"
   ]
  },
  {
   "cell_type": "code",
   "execution_count": 13,
   "metadata": {},
   "outputs": [],
   "source": [
    "from sklearn import metrics\n",
    "import matplotlib\n",
    "import matplotlib.pyplot as plt\n",
    "import pandas as pd\n",
    "import seaborn as sns"
   ]
  },
  {
   "cell_type": "markdown",
   "metadata": {},
   "source": [
    "# using input lable 0s when testing"
   ]
  },
  {
   "cell_type": "code",
   "execution_count": 14,
   "metadata": {},
   "outputs": [],
   "source": [
    "y_predict = model_local_test.predict(t_input_data)"
   ]
  },
  {
   "cell_type": "code",
   "execution_count": 15,
   "metadata": {},
   "outputs": [
    {
     "data": {
      "image/png": "[encoded data removed]",
      "text/plain": [
       "<Figure size 576x360 with 2 Axes>"
      ]
     },
     "metadata": {
      "needs_background": "light"
     },
     "output_type": "display_data"
    }
   ],
   "source": [
    "confusion_matrix = pd.DataFrame(\n",
    "    data=metrics.confusion_matrix(t_output_data, np.rint(y_predict)),\n",
    ")\n",
    "\n",
    "confusion_figure, confusion_axes = matplotlib.pyplot.subplots()\n",
    "confusion_figure.set_size_inches(8, 5)\n",
    "confusion_axes.set_title(\n",
    "    'Confusion matrix showing the frequency of \\n'\n",
    "    'correct and incorrect bug classification predictions.'\n",
    "    '\\n\\n'  # hack to avoid overlap with x-axis labels below\n",
    ")\n",
    "confusion_axes.xaxis.tick_top()  # move x-axis labels to top of matrix\n",
    "_ = sns.heatmap(\n",
    "    confusion_matrix,\n",
    "    annot=True,\n",
    "    fmt=\"d\",\n",
    "    cmap=sns.color_palette(\"Blues\"),\n",
    "    vmin=0,\n",
    "    ax=confusion_axes,\n",
    ")"
   ]
  },
  {
   "cell_type": "code",
   "execution_count": 16,
   "metadata": {},
   "outputs": [],
   "source": [
    "tn, fp, fn, tp = metrics.confusion_matrix(\n",
    "    t_output_data.astype(int), \n",
    "    np.rint(y_predict)\n",
    ").flatten().tolist()\n",
    "\n",
    "fpr_nn = fp/(fp+tp)\n",
    "fnr_nn = fn/(fn+tn)\n",
    "r = tp/(tp+fn)\n",
    "p = tp/(tp+fp)\n",
    "f = (2*p*r)/(p+r)\n",
    "acc = (tp+tn)/(tp+fp+fn+tn)"
   ]
  },
  {
   "cell_type": "code",
   "execution_count": 17,
   "metadata": {},
   "outputs": [
    {
     "name": "stdout",
     "output_type": "stream",
     "text": [
      "fpr_nn 0.27873563218390807\n",
      "fnr_nn 0.35829838226482924\n",
      "r 0.45636363636363636\n",
      "p 0.7212643678160919\n",
      "f 0.5590200445434298\n",
      "acc 0.6651162790697674\n"
     ]
    }
   ],
   "source": [
    "print(\"fpr_nn\",fpr_nn)\n",
    "print(\"fnr_nn\",fnr_nn)\n",
    "print(\"r\",r)\n",
    "print(\"p\",p)\n",
    "print(\"f\",f)\n",
    "print(\"acc\",acc)"
   ]
  },
  {
   "cell_type": "code",
   "execution_count": 18,
   "metadata": {},
   "outputs": [],
   "source": [
    "from sklearn.metrics import  auc, roc_curve, precision_recall_curve, matthews_corrcoef, f1_score, roc_auc_score\n",
    "fpr_keras, tpr_keras, thresholds_keras = roc_curve(t_output_data, y_predict)\n",
    "precision, recall, thresholds = precision_recall_curve(t_output_data, y_predict)"
   ]
  },
  {
   "cell_type": "code",
   "execution_count": 19,
   "metadata": {},
   "outputs": [],
   "source": [
    "import matplotlib.pyplot as plt\n",
    "\n",
    "auc_keras = auc(fpr_keras, tpr_keras)\n",
    "roc_auc = roc_auc_score(t_output_data, y_predict)\n",
    "pr_auc = auc(recall, precision)\n",
    "f1 = f1_score(t_output_data, np.rint(y_predict))\n",
    "mcc = matthews_corrcoef(t_output_data, np.rint(y_predict))"
   ]
  },
  {
   "cell_type": "code",
   "execution_count": 20,
   "metadata": {},
   "outputs": [
    {
     "name": "stdout",
     "output_type": "stream",
     "text": [
      "PR AUC: 0.702\n",
      "ROC AUC: 0.701\n",
      "MCC: 0.332\n",
      "F1: 0.559\n"
     ]
    }
   ],
   "source": [
    "print('PR AUC: %.3f' % pr_auc)\n",
    "print('ROC AUC: %.3f' % roc_auc)\n",
    "print('MCC: %.3f' % mcc)\n",
    "print('F1: %.3f' % f1)"
   ]
  },
  {
   "cell_type": "code",
   "execution_count": 21,
   "metadata": {},
   "outputs": [
    {
     "data": {
      "image/png": "[encoded data removed]",
      "text/plain": [
       "<Figure size 432x288 with 1 Axes>"
      ]
     },
     "metadata": {
      "needs_background": "light"
     },
     "output_type": "display_data"
    }
   ],
   "source": [
    "plt.plot(fpr_keras, tpr_keras, label='Keras (area = {:.3f})'.format(auc_keras))\n",
    "plt.xlabel('False positive rate')\n",
    "plt.ylabel('True positive rate')\n",
    "plt.title('ROC curve')\n",
    "plt.legend(loc='best')\n",
    "plt.show()"
   ]
  },
  {
   "cell_type": "markdown",
   "metadata": {},
   "source": [
    "# Find the best threshold for balanced testing"
   ]
  },
  {
   "cell_type": "code",
   "execution_count": 22,
   "metadata": {},
   "outputs": [
    {
     "name": "stdout",
     "output_type": "stream",
     "text": [
      "0.5236363636363637 0.6973365617433414 0.5981308411214954 0.6727272727272727 [0.2397123]\n",
      "0.85 0.53034600113443 0.6531610199091862 0.5801268498942918 [0.00583699]\n",
      "0.8590909090909091 0.52734375 0.6535269709543569 0.5763213530655391 [0.00458506]\n",
      "0.8590909090909091 0.5276381909547738 0.6537530266343825 0.5767441860465117 [0.00460258]\n"
     ]
    }
   ],
   "source": [
    "best_f1 = 0\n",
    "for predict in y_predict:\n",
    "    predict_after_threshold = np.int64(y_predict>predict)\n",
    "    tn, fp, fn, tp = metrics.confusion_matrix(\n",
    "        t_output_data.astype(int), \n",
    "        predict_after_threshold\n",
    "    ).flatten().tolist()\n",
    "    try:\n",
    "        fpr_nn = fp/(fp+tp)\n",
    "        fnr_nn = fn/(fn+tn)\n",
    "        r = tp/(tp+fn)\n",
    "        p = tp/(tp+fp)\n",
    "        f = (2*p*r)/(p+r)\n",
    "        acc = (tp+tn)/(tp+fp+fn+tn)\n",
    "    except:\n",
    "        continue\n",
    "    if f>best_f1:\n",
    "        best_f1 = f\n",
    "        print(r,p,f,acc,predict)"
   ]
  },
  {
   "cell_type": "code",
   "execution_count": 24,
   "metadata": {},
   "outputs": [
    {
     "name": "stdout",
     "output_type": "stream",
     "text": [
      "0.5236363636363637 0.6973365617433414 0.5981308411214954 0.6727272727272727 [0.2397123]\n",
      "0.85 0.53034600113443 0.6531610199091862 0.5801268498942918 [0.00583699]\n",
      "0.8972727272727272 0.5022900763358779 0.6440456769983687 0.5386892177589852 [0.0008738]\n",
      "0.9954545454545455 0.46754910333048677 0.6362579895409646 0.47061310782241017 [0.]\n"
     ]
    }
   ],
   "source": [
    "best_r = 0\n",
    "for predict in y_predict:\n",
    "    predict_after_threshold = np.int64(y_predict>predict)\n",
    "    tn, fp, fn, tp = metrics.confusion_matrix(\n",
    "        t_output_data.astype(int), \n",
    "        predict_after_threshold\n",
    "    ).flatten().tolist()\n",
    "    try:\n",
    "        fpr_nn = fp/(fp+tp)\n",
    "        fnr_nn = fn/(fn+tn)\n",
    "        r = tp/(tp+fn)\n",
    "        p = tp/(tp+fp)\n",
    "        f = (2*p*r)/(p+r)\n",
    "        acc = (tp+tn)/(tp+fp+fn+tn)\n",
    "    except:\n",
    "        continue\n",
    "    if r>best_r:\n",
    "        best_r = r\n",
    "        print(r,p,f,acc,predict)"
   ]
  },
  {
   "cell_type": "code",
   "execution_count": 25,
   "metadata": {},
   "outputs": [
    {
     "name": "stdout",
     "output_type": "stream",
     "text": [
      "0.5236363636363637 0.6973365617433414 0.5981308411214954 0.6727272727272727 [0.2397123]\n",
      "0.5181818181818182 0.7019704433497537 0.5962343096234309 0.6735729386892177 [0.26164377]\n",
      "0.52 0.701840490797546 0.5973890339425588 0.6739957716701903 [0.25489086]\n",
      "0.52 0.7027027027027027 0.5977011494252874 0.6744186046511628 [0.25672895]\n"
     ]
    }
   ],
   "source": [
    "best_a = 0\n",
    "for predict in y_predict:\n",
    "    predict_after_threshold = np.int64(y_predict>predict)\n",
    "    tn, fp, fn, tp = metrics.confusion_matrix(\n",
    "        t_output_data.astype(int), \n",
    "        predict_after_threshold\n",
    "    ).flatten().tolist()\n",
    "    try:\n",
    "        fpr_nn = fp/(fp+tp)\n",
    "        fnr_nn = fn/(fn+tn)\n",
    "        r = tp/(tp+fn)\n",
    "        p = tp/(tp+fp)\n",
    "        f = (2*p*r)/(p+r)\n",
    "        acc = (tp+tn)/(tp+fp+fn+tn)\n",
    "    except:\n",
    "        continue\n",
    "    if acc>best_a:\n",
    "        best_a = acc\n",
    "        print(r,p,f,acc,predict)"
   ]
  },
  {
   "cell_type": "markdown",
   "metadata": {},
   "source": [
    "# imbalance testing"
   ]
  },
  {
   "cell_type": "code",
   "execution_count": 23,
   "metadata": {},
   "outputs": [
    {
     "name": "stdout",
     "output_type": "stream",
     "text": [
      "Loading Input Data...\n",
      "Done\n",
      "Loading Lable Data...\n",
      "Done\n",
      "Loading Output Data...\n",
      "Done\n"
     ]
    }
   ],
   "source": [
    "im_t_input_data = getting_data(\"./data/local_im_test_input_combine.npy\", \"Input\")\n",
    "im_t_label_data = getting_data(\"./data/local_im_test_label_combine.npy\", \"Lable\")\n",
    "im_t_output_data = getting_data(\"./data/local_im_test_output_combine.npy\", \"Output\")\n",
    "im_t_label_data.shape=(-1,15)"
   ]
  },
  {
   "cell_type": "code",
   "execution_count": 26,
   "metadata": {},
   "outputs": [
    {
     "data": {
      "text/plain": [
       "(12491, 15)"
      ]
     },
     "execution_count": 26,
     "metadata": {},
     "output_type": "execute_result"
    }
   ],
   "source": [
    "im_t_label_data.shape"
   ]
  },
  {
   "cell_type": "code",
   "execution_count": 27,
   "metadata": {},
   "outputs": [
    {
     "data": {
      "text/plain": [
       "(12491, 15, 20, 128)"
      ]
     },
     "execution_count": 27,
     "metadata": {},
     "output_type": "execute_result"
    }
   ],
   "source": [
    "im_t_input_data.shape"
   ]
  },
  {
   "cell_type": "markdown",
   "metadata": {},
   "source": [
    "# using input lable 0s when im_testing"
   ]
  },
  {
   "cell_type": "code",
   "execution_count": 28,
   "metadata": {},
   "outputs": [
    {
     "data": {
      "image/png": "[encoded data removed]",
      "text/plain": [
       "<Figure size 576x360 with 2 Axes>"
      ]
     },
     "metadata": {
      "needs_background": "light"
     },
     "output_type": "display_data"
    }
   ],
   "source": [
    "y_im_predict = model_local_test.predict(im_t_input_data)\n",
    "\n",
    "confusion_matrix = pd.DataFrame(\n",
    "    data=metrics.confusion_matrix(im_t_output_data, np.rint(y_im_predict)),\n",
    ")\n",
    "\n",
    "confusion_figure, confusion_axes = matplotlib.pyplot.subplots()\n",
    "confusion_figure.set_size_inches(8, 5)\n",
    "confusion_axes.set_title(\n",
    "    'Confusion matrix showing the frequency of \\n'\n",
    "    'correct and incorrect bug classification predictions.'\n",
    "    '\\n\\n'  # hack to avoid overlap with x-axis labels below\n",
    ")\n",
    "confusion_axes.xaxis.tick_top()  # move x-axis labels to top of matrix\n",
    "_ = sns.heatmap(\n",
    "    confusion_matrix,\n",
    "    annot=True,\n",
    "    fmt=\"d\",\n",
    "    cmap=sns.color_palette(\"Blues\"),\n",
    "    vmin=0,\n",
    "    ax=confusion_axes,\n",
    ")"
   ]
  },
  {
   "cell_type": "code",
   "execution_count": 29,
   "metadata": {},
   "outputs": [
    {
     "name": "stdout",
     "output_type": "stream",
     "text": [
      "fpr_nn 0.7880067567567568\n",
      "fnr_nn 0.05907339721426454\n",
      "r 0.45636363636363636\n",
      "p 0.21199324324324326\n",
      "f 0.2895040369088812\n",
      "acc 0.8027379713393643\n"
     ]
    }
   ],
   "source": [
    "tn, fp, fn, tp = metrics.confusion_matrix(\n",
    "    im_t_output_data.astype(int), \n",
    "    np.rint(y_im_predict)\n",
    ").flatten().tolist()\n",
    "\n",
    "fpr_nn = fp/(fp+tp)\n",
    "fnr_nn = fn/(fn+tn)\n",
    "r = tp/(tp+fn)\n",
    "p = tp/(tp+fp)\n",
    "f = (2*p*r)/(p+r)\n",
    "acc = (tp+tn)/(tp+fp+fn+tn)\n",
    "print(\"fpr_nn\",fpr_nn)\n",
    "print(\"fnr_nn\",fnr_nn)\n",
    "print(\"r\",r)\n",
    "print(\"p\",p)\n",
    "print(\"f\",f)\n",
    "print(\"acc\",acc)"
   ]
  },
  {
   "cell_type": "markdown",
   "metadata": {},
   "source": [
    "# Find the best threshold for imbalanced testing"
   ]
  },
  {
   "cell_type": "code",
   "execution_count": 30,
   "metadata": {},
   "outputs": [
    {
     "name": "stdout",
     "output_type": "stream",
     "text": [
      "0.48 0.20386100386100386 0.2861788617886179 0.7891281722840445 [0.39346638]\n",
      "0.47454545454545455 0.20640569395017794 0.287682557178286 0.7930509967176367 [0.41799238]\n",
      "0.3654545454545455 0.2503113325031133 0.29711751662971175 0.8477303658634217 [0.85429263]\n",
      "0.33 0.2733433734939759 0.299011532125206 0.863741894163798 [0.925398]\n",
      "0.33545454545454545 0.2707263389581805 0.29963459196102316 0.8619005684092547 [0.91799676]\n",
      "0.33454545454545453 0.2713864306784661 0.2996742671009772 0.862300856616764 [0.91932464]\n",
      "0.3336363636363636 0.2720533728687917 0.2997141690485913 0.8627011448242735 [0.92141795]\n",
      "0.33454545454545453 0.27158671586715866 0.2997963340122199 0.8623809142582659 [0.91994226]\n",
      "0.3336363636363636 0.27245731254639943 0.29995913363302 0.8628612601072773 [0.9216329]\n"
     ]
    }
   ],
   "source": [
    "best_f1 = 0\n",
    "for predict in y_im_predict:\n",
    "    predict_after_threshold = np.int64(y_im_predict>predict)\n",
    "    tn, fp, fn, tp = metrics.confusion_matrix(\n",
    "        im_t_output_data.astype(int), \n",
    "        predict_after_threshold\n",
    "    ).flatten().tolist()\n",
    "    try:\n",
    "        fpr_nn = fp/(fp+tp)\n",
    "        fnr_nn = fn/(fn+tn)\n",
    "        r = tp/(tp+fn)\n",
    "        p = tp/(tp+fp)\n",
    "        f = (2*p*r)/(p+r)\n",
    "        acc = (tp+tn)/(tp+fp+fn+tn)\n",
    "    except:\n",
    "        continue\n",
    "    if f>best_f1:\n",
    "        best_f1 = f\n",
    "        print(r,p,f,acc,predict)"
   ]
  },
  {
   "cell_type": "code",
   "execution_count": 31,
   "metadata": {},
   "outputs": [
    {
     "name": "stdout",
     "output_type": "stream",
     "text": [
      "0.48 0.20386100386100386 0.2861788617886179 0.7891281722840445 [0.39346638]\n",
      "0.1318181818181818 0.48986486486486486 0.20773638968481373 0.9114562484989193 [0.99953115]\n",
      "0.06272727272727273 0.7263157894736842 0.11548117154811716 0.9153790729325114 [0.9999997]\n",
      "0.09090909090909091 0.6410256410256411 0.1592356687898089 0.9154591305740133 [0.99997324]\n",
      "0.09545454545454546 0.6441717791411042 0.166270783847981 0.9156993034985189 [0.99996436]\n",
      "0.06909090909090909 0.7307692307692307 0.12624584717607973 0.9157793611400208 [0.999999]\n",
      "0.07272727272727272 0.7207207207207207 0.13212221304706853 0.9158594187815227 [0.9999987]\n",
      "0.07454545454545454 0.7256637168141593 0.13520197856553998 0.9160195340645264 [0.99999845]\n"
     ]
    }
   ],
   "source": [
    "best_a = 0\n",
    "for predict in y_im_predict:\n",
    "    predict_after_threshold = np.int64(y_im_predict>predict)\n",
    "    tn, fp, fn, tp = metrics.confusion_matrix(\n",
    "        im_t_output_data.astype(int), \n",
    "        predict_after_threshold\n",
    "    ).flatten().tolist()\n",
    "    try:\n",
    "        fpr_nn = fp/(fp+tp)\n",
    "        fnr_nn = fn/(fn+tn)\n",
    "        r = tp/(tp+fn)\n",
    "        p = tp/(tp+fp)\n",
    "        f = (2*p*r)/(p+r)\n",
    "        acc = (tp+tn)/(tp+fp+fn+tn)\n",
    "    except:\n",
    "        continue\n",
    "    if acc>best_a:\n",
    "        best_a = acc\n",
    "        print(r,p,f,acc,predict)"
   ]
  },
  {
   "cell_type": "code",
   "execution_count": 32,
   "metadata": {},
   "outputs": [
    {
     "name": "stdout",
     "output_type": "stream",
     "text": [
      "0.48 0.20386100386100386 0.2861788617886179 0.7891281722840445 [0.39346638]\n",
      "0.71 0.1273231170524943 0.21592479955764446 0.545913057401329 [0.06586337]\n",
      "0.8590909090909091 0.10637100405222873 0.1893028846153846 0.3520134496837723 [0.00438213]\n",
      "0.9172727272727272 0.09617767610332666 0.1741005952894487 0.2336081979024898 [0.00036618]\n",
      "0.9818181818181818 0.08943358728055648 0.1639344262295082 0.118085021215275 [1.3709068e-06]\n",
      "0.9881818181818182 0.08901809843583654 0.1633235669746826 0.10839804659354735 [2.682209e-07]\n",
      "0.9918181818181818 0.0888943208669437 0.16316458535855832 0.10407493395244576 [1.1920929e-07]\n",
      "0.9927272727272727 0.08877327046581579 0.16297291246921872 0.10199343527339684 [8.940697e-08]\n",
      "0.9954545454545455 0.08861374119932022 0.16274058111020287 0.09799055319830277 [0.]\n"
     ]
    }
   ],
   "source": [
    "best_r = 0\n",
    "for predict in y_im_predict:\n",
    "    predict_after_threshold = np.int64(y_im_predict>predict)\n",
    "    tn, fp, fn, tp = metrics.confusion_matrix(\n",
    "        im_t_output_data.astype(int), \n",
    "        predict_after_threshold\n",
    "    ).flatten().tolist()\n",
    "    try:\n",
    "        fpr_nn = fp/(fp+tp)\n",
    "        fnr_nn = fn/(fn+tn)\n",
    "        r = tp/(tp+fn)\n",
    "        p = tp/(tp+fp)\n",
    "        f = (2*p*r)/(p+r)\n",
    "        acc = (tp+tn)/(tp+fp+fn+tn)\n",
    "    except:\n",
    "        continue\n",
    "    if r>best_r:\n",
    "        best_r = r\n",
    "        print(r,p,f,acc,predict)"
   ]
  },
  {
   "cell_type": "code",
   "execution_count": null,
   "metadata": {},
   "outputs": [],
   "source": []
  }
 ],
 "metadata": {
  "kernelspec": {
   "display_name": "Python 3",
   "language": "python",
   "name": "python3"
  },
  "language_info": {
   "codemirror_mode": {
    "name": "ipython",
    "version": 3
   },
   "file_extension": ".py",
   "mimetype": "text/x-python",
   "name": "python",
   "nbconvert_exporter": "python",
   "pygments_lexer": "ipython3",
   "version": "3.5.2"
  }
 },
 "nbformat": 4,
 "nbformat_minor": 2
}
