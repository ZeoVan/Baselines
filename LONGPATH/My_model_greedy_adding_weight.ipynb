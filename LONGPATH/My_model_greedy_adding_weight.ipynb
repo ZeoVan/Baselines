{
 "cells": [
  {
   "cell_type": "code",
   "execution_count": 1,
   "metadata": {},
   "outputs": [
    {
     "name": "stderr",
     "output_type": "stream",
     "text": [
      "/data/jiahao/translate/py35venv/lib/python3.5/site-packages/tensorflow/python/framework/dtypes.py:516: FutureWarning: Passing (type, 1) or '1type' as a synonym of type is deprecated; in a future version of numpy, it will be understood as (type, (1,)) / '(1,)type'.\n",
      "  _np_qint8 = np.dtype([(\"qint8\", np.int8, 1)])\n",
      "/data/jiahao/translate/py35venv/lib/python3.5/site-packages/tensorflow/python/framework/dtypes.py:517: FutureWarning: Passing (type, 1) or '1type' as a synonym of type is deprecated; in a future version of numpy, it will be understood as (type, (1,)) / '(1,)type'.\n",
      "  _np_quint8 = np.dtype([(\"quint8\", np.uint8, 1)])\n",
      "/data/jiahao/translate/py35venv/lib/python3.5/site-packages/tensorflow/python/framework/dtypes.py:518: FutureWarning: Passing (type, 1) or '1type' as a synonym of type is deprecated; in a future version of numpy, it will be understood as (type, (1,)) / '(1,)type'.\n",
      "  _np_qint16 = np.dtype([(\"qint16\", np.int16, 1)])\n",
      "/data/jiahao/translate/py35venv/lib/python3.5/site-packages/tensorflow/python/framework/dtypes.py:519: FutureWarning: Passing (type, 1) or '1type' as a synonym of type is deprecated; in a future version of numpy, it will be understood as (type, (1,)) / '(1,)type'.\n",
      "  _np_quint16 = np.dtype([(\"quint16\", np.uint16, 1)])\n",
      "/data/jiahao/translate/py35venv/lib/python3.5/site-packages/tensorflow/python/framework/dtypes.py:520: FutureWarning: Passing (type, 1) or '1type' as a synonym of type is deprecated; in a future version of numpy, it will be understood as (type, (1,)) / '(1,)type'.\n",
      "  _np_qint32 = np.dtype([(\"qint32\", np.int32, 1)])\n",
      "/data/jiahao/translate/py35venv/lib/python3.5/site-packages/tensorflow/python/framework/dtypes.py:525: FutureWarning: Passing (type, 1) or '1type' as a synonym of type is deprecated; in a future version of numpy, it will be understood as (type, (1,)) / '(1,)type'.\n",
      "  np_resource = np.dtype([(\"resource\", np.ubyte, 1)])\n",
      "/data/jiahao/translate/py35venv/lib/python3.5/site-packages/tensorboard/compat/tensorflow_stub/dtypes.py:541: FutureWarning: Passing (type, 1) or '1type' as a synonym of type is deprecated; in a future version of numpy, it will be understood as (type, (1,)) / '(1,)type'.\n",
      "  _np_qint8 = np.dtype([(\"qint8\", np.int8, 1)])\n",
      "/data/jiahao/translate/py35venv/lib/python3.5/site-packages/tensorboard/compat/tensorflow_stub/dtypes.py:542: FutureWarning: Passing (type, 1) or '1type' as a synonym of type is deprecated; in a future version of numpy, it will be understood as (type, (1,)) / '(1,)type'.\n",
      "  _np_quint8 = np.dtype([(\"quint8\", np.uint8, 1)])\n",
      "/data/jiahao/translate/py35venv/lib/python3.5/site-packages/tensorboard/compat/tensorflow_stub/dtypes.py:543: FutureWarning: Passing (type, 1) or '1type' as a synonym of type is deprecated; in a future version of numpy, it will be understood as (type, (1,)) / '(1,)type'.\n",
      "  _np_qint16 = np.dtype([(\"qint16\", np.int16, 1)])\n",
      "/data/jiahao/translate/py35venv/lib/python3.5/site-packages/tensorboard/compat/tensorflow_stub/dtypes.py:544: FutureWarning: Passing (type, 1) or '1type' as a synonym of type is deprecated; in a future version of numpy, it will be understood as (type, (1,)) / '(1,)type'.\n",
      "  _np_quint16 = np.dtype([(\"quint16\", np.uint16, 1)])\n",
      "/data/jiahao/translate/py35venv/lib/python3.5/site-packages/tensorboard/compat/tensorflow_stub/dtypes.py:545: FutureWarning: Passing (type, 1) or '1type' as a synonym of type is deprecated; in a future version of numpy, it will be understood as (type, (1,)) / '(1,)type'.\n",
      "  _np_qint32 = np.dtype([(\"qint32\", np.int32, 1)])\n",
      "/data/jiahao/translate/py35venv/lib/python3.5/site-packages/tensorboard/compat/tensorflow_stub/dtypes.py:550: FutureWarning: Passing (type, 1) or '1type' as a synonym of type is deprecated; in a future version of numpy, it will be understood as (type, (1,)) / '(1,)type'.\n",
      "  np_resource = np.dtype([(\"resource\", np.ubyte, 1)])\n",
      "Using TensorFlow backend.\n"
     ]
    }
   ],
   "source": [
    "import tensorflow as tf\n",
    "import keras.backend.tensorflow_backend as KTF\n",
    "from keras.backend import ones_like\n",
    "from keras.layers.recurrent import GRU\n",
    "from keras.layers.core import Lambda\n",
    "from keras.optimizers import adam\n",
    "from keras.layers import Conv1D, Dense, Reshape, Concatenate, Flatten, Activation, Dropout,MaxPooling1D\n",
    "from keras.models import Input, Model\n",
    "from keras_self_attention import SeqSelfAttention\n",
    "from keras_multi_head import MultiHeadAttention\n",
    "import numpy as np\n",
    "import os\n",
    "from tensorflow.core.protobuf import rewriter_config_pb2\n",
    "from tensorflow.keras.backend import set_session\n",
    "os.environ[\"CUDA_VISIBLE_DEVICES\"] = \"2\"\n",
    "tf.keras.backend.clear_session()  # For easy reset of notebook state.\n",
    "config_proto = tf.ConfigProto()\n",
    "off = rewriter_config_pb2.RewriterConfig.OFF\n",
    "config_proto.graph_options.rewrite_options.arithmetic_optimization = off\n",
    "session = tf.Session(config=config_proto)\n",
    "set_session(session)"
   ]
  },
  {
   "cell_type": "code",
   "execution_count": 2,
   "metadata": {},
   "outputs": [],
   "source": [
    "from keras import backend as K\n",
    "from keras.layers import Layer ,Add\n",
    "from keras.layers.core import Lambda\n",
    "\n",
    "\n",
    "class adding_weight(Layer):\n",
    "\n",
    "    def __init__(self, output_len, output_dim, **kwargs):\n",
    "        self.output_len = output_len\n",
    "        self.output_dim = output_dim\n",
    "        super(adding_weight, self).__init__(**kwargs)\n",
    "\n",
    "    def build(self, input_shape):\n",
    "        self.kernel = self.add_weight(name='kernel',\n",
    "                                      shape=(15, self.output_dim),\n",
    "                                      initializer='uniform',\n",
    "                                      trainable=True)\n",
    "        super(adding_weight, self).build(input_shape)\n",
    "        \n",
    "    def call(self, x):\n",
    "        temp = Lambda(lambda y: K.dot(y, self.kernel))(x[1])\n",
    "        temp = Lambda(lambda y: tf.expand_dims(y, 1))(temp)\n",
    "        temp = Lambda(lambda y: tf.tile(y, multiples=[1, self.output_len, 1]))(temp)\n",
    "        temp = Lambda(lambda y: tf.multiply(x[0], y))(temp)\n",
    "        return Add()([x[0], temp])\n",
    "\n",
    "    def compute_output_shape(self, input_shape):\n",
    "        return (None, self.output_len, self.output_dim)\n",
    "\n",
    "def local_context_learning(path_length, input_length, input_dim, output_dim, hidden_dim, filters_num, kernel_val,\n",
    "                           learning_rate, drop_rate):\n",
    "    basic_data_input = Input(shape=(path_length, input_length, input_dim))\n",
    "\n",
    "    basic_input = Reshape((path_length, input_length * input_dim))(basic_data_input)\n",
    "\n",
    "    label_data_input = Input(shape=(path_length,))\n",
    "\n",
    "    weighted_input = adding_weight(path_length, input_length * input_dim)([basic_input, label_data_input])\n",
    "\n",
    "    GRU_layer = GRU(units=hidden_dim, return_sequences=True)\n",
    "    rnn_output = GRU_layer(weighted_input)\n",
    "    Self_1 = SeqSelfAttention(attention_activation='sigmoid')\n",
    "    rnn_att = Self_1(rnn_output)\n",
    "    CNN_layer_1 = Conv1D(filters=filters_num, kernel_size=kernel_val, padding=\"same\")\n",
    "    cnn_output = CNN_layer_1(weighted_input)\n",
    "    Dense_1 = Dense(hidden_dim)\n",
    "    cnn_output_reformat = Dense_1(cnn_output)\n",
    "    Self_2 = SeqSelfAttention(attention_activation='sigmoid')\n",
    "    cnn_att = Self_2(cnn_output_reformat)\n",
    "    Conca_1 = Concatenate(axis=1)\n",
    "    new_value = Conca_1([rnn_att, cnn_att])\n",
    "    new_keys = Lambda(lambda x: ones_like(x))(new_value)\n",
    "    Multi_1 = MultiHeadAttention(head_num=2)\n",
    "    new_result = Multi_1([weighted_input, new_keys, new_value])\n",
    "    result = Flatten()(new_result)\n",
    "    Drop_1 = Dropout(rate=drop_rate)\n",
    "    result_fix = Drop_1(result)\n",
    "    Dense_2 = Dense(output_dim)\n",
    "    method_vector = Dense_2(result_fix)\n",
    "    method_vector = Reshape((-1, 128))(method_vector)\n",
    "\n",
    "    CNN_layer_2 = Conv1D(filters=filters_num, kernel_size=kernel_val, padding=\"same\")\n",
    "    cnn_output_for_classification = CNN_layer_2(method_vector)\n",
    "    Pool_1 = MaxPooling1D(pool_size=2, padding='same')\n",
    "    pooling_output = Pool_1(cnn_output_for_classification)\n",
    "    output_classification = Flatten()(pooling_output)\n",
    "    Drop_2 = Dropout(rate=drop_rate)\n",
    "    output_classification_fix = Drop_2(output_classification)\n",
    "    Dense_3 = Dense(32, activation='relu')\n",
    "    output_classification_fix = Dense_3(output_classification_fix)\n",
    "    Dense_4 = Dense(16, activation='relu')\n",
    "    output_classification_fix = Dense_4(output_classification_fix)\n",
    "    Dense_5 = Dense(1)\n",
    "    fixed_output_classification = Dense_5(output_classification_fix)\n",
    "    Active_1 = Activation(activation='sigmoid')\n",
    "    stand_output = Active_1(fixed_output_classification)\n",
    "    model = Model([basic_data_input, label_data_input], stand_output)\n",
    "    ada = adam(lr=learning_rate)\n",
    "    model.compile(optimizer=ada, loss='binary_crossentropy', metrics=['accuracy'])\n",
    "\n",
    "    \n",
    "    New_input  = Input(shape=(path_length, input_length, input_dim))\n",
    "    New_input_ = Reshape((path_length, input_length * input_dim))(New_input)\n",
    "    new_test_1 = GRU_layer(New_input_)\n",
    "    new_test_2 = Self_1(new_test_1)\n",
    "    new_test_3 = CNN_layer_1(New_input_)\n",
    "    new_test_4 = Dense_1(new_test_3)\n",
    "    new_test_5 = Self_2(new_test_4)\n",
    "    new_test_6 = Conca_1([new_test_2, new_test_5])\n",
    "    new_test_7 = Lambda(lambda x: ones_like(x))(new_test_6)\n",
    "    new_test_8 = Multi_1([New_input_, new_test_7, new_test_6])\n",
    "    new_test_9 = Flatten()(new_test_8)\n",
    "    new_test_10 = Drop_1(new_test_9)\n",
    "    new_test_11 = Dense_2(new_test_10)\n",
    "    new_test_12 = Reshape((-1, 128))(new_test_11)\n",
    "    new_test_13 = CNN_layer_2(new_test_12)\n",
    "    new_test_14 = Pool_1(new_test_13)\n",
    "    new_test_15 = Flatten()(new_test_14)\n",
    "    new_test_16 = Drop_2(new_test_15)\n",
    "    new_test_17 = Dense_3(new_test_16)\n",
    "    new_test_18 = Dense_4(new_test_17)\n",
    "    new_test_19 = Dense_5(new_test_18)\n",
    "    new_test_20 = Active_1(new_test_19)\n",
    "    model_test = Model(New_input, new_test_20)\n",
    "    return model, model_test"
   ]
  },
  {
   "cell_type": "code",
   "execution_count": 3,
   "metadata": {},
   "outputs": [
    {
     "name": "stdout",
     "output_type": "stream",
     "text": [
      "WARNING:tensorflow:From /data/jiahao/translate/py35venv/lib/python3.5/site-packages/keras/backend/tensorflow_backend.py:4070: The name tf.nn.max_pool is deprecated. Please use tf.nn.max_pool2d instead.\n",
      "\n",
      "WARNING:tensorflow:From /data/jiahao/translate/py35venv/lib/python3.5/site-packages/tensorflow/python/ops/nn_impl.py:180: add_dispatch_support.<locals>.wrapper (from tensorflow.python.ops.array_ops) is deprecated and will be removed in a future version.\n",
      "Instructions for updating:\n",
      "Use tf.where in 2.0, which has the same broadcast rule as np.where\n",
      "Model: \"model_1\"\n",
      "__________________________________________________________________________________________________\n",
      "Layer (type)                    Output Shape         Param #     Connected to                     \n",
      "==================================================================================================\n",
      "input_1 (InputLayer)            (None, 15, 20, 128)  0                                            \n",
      "__________________________________________________________________________________________________\n",
      "reshape_1 (Reshape)             (None, 15, 2560)     0           input_1[0][0]                    \n",
      "__________________________________________________________________________________________________\n",
      "input_2 (InputLayer)            (None, 15)           0                                            \n",
      "__________________________________________________________________________________________________\n",
      "adding_weight_1 (adding_weight) (None, 15, 2560)     38400       reshape_1[0][0]                  \n",
      "                                                                 input_2[0][0]                    \n",
      "__________________________________________________________________________________________________\n",
      "conv1d_1 (Conv1D)               (None, 15, 64)       491584      adding_weight_1[0][0]            \n",
      "__________________________________________________________________________________________________\n",
      "gru_1 (GRU)                     (None, 15, 128)      1032576     adding_weight_1[0][0]            \n",
      "__________________________________________________________________________________________________\n",
      "dense_1 (Dense)                 (None, 15, 128)      8320        conv1d_1[0][0]                   \n",
      "__________________________________________________________________________________________________\n",
      "seq_self_attention_1 (SeqSelfAt (None, 15, 128)      8257        gru_1[0][0]                      \n",
      "__________________________________________________________________________________________________\n",
      "seq_self_attention_2 (SeqSelfAt (None, 15, 128)      8257        dense_1[0][0]                    \n",
      "__________________________________________________________________________________________________\n",
      "concatenate_1 (Concatenate)     (None, 30, 128)      0           seq_self_attention_1[0][0]       \n",
      "                                                                 seq_self_attention_2[0][0]       \n",
      "__________________________________________________________________________________________________\n",
      "lambda_5 (Lambda)               (None, 30, 128)      0           concatenate_1[0][0]              \n",
      "__________________________________________________________________________________________________\n",
      "multi_head_attention_1 (MultiHe (None, 15, 128)      377344      adding_weight_1[0][0]            \n",
      "                                                                 lambda_5[0][0]                   \n",
      "                                                                 concatenate_1[0][0]              \n",
      "__________________________________________________________________________________________________\n",
      "flatten_1 (Flatten)             (None, 1920)         0           multi_head_attention_1[0][0]     \n",
      "__________________________________________________________________________________________________\n",
      "dropout_1 (Dropout)             (None, 1920)         0           flatten_1[0][0]                  \n",
      "__________________________________________________________________________________________________\n",
      "dense_2 (Dense)                 (None, 128)          245888      dropout_1[0][0]                  \n",
      "__________________________________________________________________________________________________\n",
      "reshape_2 (Reshape)             (None, 1, 128)       0           dense_2[0][0]                    \n",
      "__________________________________________________________________________________________________\n",
      "conv1d_2 (Conv1D)               (None, 1, 64)        24640       reshape_2[0][0]                  \n",
      "__________________________________________________________________________________________________\n",
      "max_pooling1d_1 (MaxPooling1D)  (None, 1, 64)        0           conv1d_2[0][0]                   \n",
      "__________________________________________________________________________________________________\n",
      "flatten_2 (Flatten)             (None, 64)           0           max_pooling1d_1[0][0]            \n",
      "__________________________________________________________________________________________________\n",
      "dropout_2 (Dropout)             (None, 64)           0           flatten_2[0][0]                  \n",
      "__________________________________________________________________________________________________\n",
      "dense_3 (Dense)                 (None, 32)           2080        dropout_2[0][0]                  \n",
      "__________________________________________________________________________________________________\n",
      "dense_4 (Dense)                 (None, 16)           528         dense_3[0][0]                    \n",
      "__________________________________________________________________________________________________\n",
      "dense_5 (Dense)                 (None, 1)            17          dense_4[0][0]                    \n",
      "__________________________________________________________________________________________________\n",
      "activation_1 (Activation)       (None, 1)            0           dense_5[0][0]                    \n",
      "==================================================================================================\n",
      "Total params: 2,237,891\n",
      "Trainable params: 2,237,891\n",
      "Non-trainable params: 0\n",
      "__________________________________________________________________________________________________\n"
     ]
    }
   ],
   "source": [
    "model_local,model_local_test = local_context_learning(15, 20, 128, 128, 128, 64, 3, 0.0001, 0.5)\n",
    "model_local.summary()"
   ]
  },
  {
   "cell_type": "code",
   "execution_count": 4,
   "metadata": {},
   "outputs": [],
   "source": [
    "def getting_data(file_path, print_text):\n",
    "    print(\"Loading \" + print_text + \" Data...\")\n",
    "    data = np.load(file_path,allow_pickle = True)\n",
    "    print(\"Done\")\n",
    "    return data"
   ]
  },
  {
   "cell_type": "code",
   "execution_count": 5,
   "metadata": {},
   "outputs": [
    {
     "name": "stdout",
     "output_type": "stream",
     "text": [
      "Loading Input Data...\n",
      "Done\n",
      "Loading Label Data...\n",
      "Done\n",
      "Loading Output Data...\n",
      "Done\n"
     ]
    }
   ],
   "source": [
    "input_data = getting_data(\"./data/local_train_input_greedy.npy\", \"Input\")\n",
    "label_data = getting_data(\"./data/local_train_label_greedy.npy\", \"Label\")\n",
    "output_data = getting_data(\"./data/local_train_output_greedy.npy\", \"Output\")\n",
    "label_data.shape=(-1,15)"
   ]
  },
  {
   "cell_type": "code",
   "execution_count": 6,
   "metadata": {},
   "outputs": [
    {
     "data": {
      "text/plain": [
       "(7109, 15)"
      ]
     },
     "execution_count": 6,
     "metadata": {},
     "output_type": "execute_result"
    }
   ],
   "source": [
    "label_data.shape"
   ]
  },
  {
   "cell_type": "code",
   "execution_count": 7,
   "metadata": {},
   "outputs": [
    {
     "name": "stdout",
     "output_type": "stream",
     "text": [
      "Loading Input Data...\n",
      "Done\n",
      "Loading Label Data...\n",
      "Done\n",
      "Loading Output Data...\n",
      "Done\n"
     ]
    }
   ],
   "source": [
    "v_input_data = getting_data(\"./data/local_val_input_greedy.npy\", \"Input\")\n",
    "v_label_data = getting_data(\"./data/local_val_label_greedy.npy\", \"Label\")\n",
    "v_output_data = getting_data(\"./data/local_val_output_greedy.npy\", \"Output\")\n",
    "v_label_data.shape=(-1,15)"
   ]
  },
  {
   "cell_type": "code",
   "execution_count": 8,
   "metadata": {},
   "outputs": [
    {
     "data": {
      "text/plain": [
       "(2370, 15)"
      ]
     },
     "execution_count": 8,
     "metadata": {},
     "output_type": "execute_result"
    }
   ],
   "source": [
    "v_label_data.shape"
   ]
  },
  {
   "cell_type": "code",
   "execution_count": 10,
   "metadata": {},
   "outputs": [
    {
     "name": "stdout",
     "output_type": "stream",
     "text": [
      "Training Local Context Model...\n",
      "Train on 7109 samples, validate on 2370 samples\n",
      "Epoch 1/100\n",
      "7109/7109 [==============================] - 11s 2ms/step - loss: 0.6919 - accuracy: 0.5323 - val_loss: 0.6857 - val_accuracy: 0.5485\n",
      "Epoch 2/100\n",
      "7109/7109 [==============================] - 10s 1ms/step - loss: 0.6784 - accuracy: 0.5641 - val_loss: 0.6622 - val_accuracy: 0.6308\n",
      "Epoch 3/100\n",
      "7109/7109 [==============================] - 10s 1ms/step - loss: 0.6588 - accuracy: 0.6246 - val_loss: 0.6439 - val_accuracy: 0.6405\n",
      "Epoch 4/100\n",
      "7109/7109 [==============================] - 10s 1ms/step - loss: 0.6402 - accuracy: 0.6426 - val_loss: 0.6298 - val_accuracy: 0.6582\n",
      "Epoch 5/100\n",
      "7109/7109 [==============================] - 10s 1ms/step - loss: 0.6192 - accuracy: 0.6715 - val_loss: 0.6319 - val_accuracy: 0.6873\n",
      "Epoch 6/100\n",
      "7109/7109 [==============================] - 11s 2ms/step - loss: 0.6010 - accuracy: 0.6893 - val_loss: 0.6133 - val_accuracy: 0.6907\n",
      "Epoch 7/100\n",
      "7109/7109 [==============================] - 10s 1ms/step - loss: 0.5709 - accuracy: 0.7167 - val_loss: 0.5731 - val_accuracy: 0.7105\n",
      "Epoch 8/100\n",
      "7109/7109 [==============================] - 12s 2ms/step - loss: 0.5668 - accuracy: 0.7118 - val_loss: 0.5681 - val_accuracy: 0.7034\n",
      "Epoch 9/100\n",
      "7109/7109 [==============================] - 12s 2ms/step - loss: 0.5367 - accuracy: 0.7309 - val_loss: 0.5348 - val_accuracy: 0.7325\n",
      "Epoch 10/100\n",
      "7109/7109 [==============================] - 12s 2ms/step - loss: 0.5076 - accuracy: 0.7528 - val_loss: 0.5252 - val_accuracy: 0.7325\n",
      "Epoch 11/100\n",
      "7109/7109 [==============================] - 12s 2ms/step - loss: 0.4848 - accuracy: 0.7683 - val_loss: 0.5060 - val_accuracy: 0.7451\n",
      "Epoch 12/100\n",
      "7109/7109 [==============================] - 12s 2ms/step - loss: 0.4673 - accuracy: 0.7782 - val_loss: 0.5018 - val_accuracy: 0.7662\n",
      "Epoch 13/100\n",
      "7109/7109 [==============================] - 13s 2ms/step - loss: 0.4596 - accuracy: 0.7831 - val_loss: 0.4944 - val_accuracy: 0.7734\n",
      "Epoch 14/100\n",
      "7109/7109 [==============================] - 12s 2ms/step - loss: 0.4718 - accuracy: 0.7744 - val_loss: 0.5550 - val_accuracy: 0.6924\n",
      "Epoch 15/100\n",
      "7109/7109 [==============================] - 13s 2ms/step - loss: 0.4543 - accuracy: 0.7849 - val_loss: 0.4917 - val_accuracy: 0.7734\n",
      "Epoch 16/100\n",
      "7109/7109 [==============================] - 16s 2ms/step - loss: 0.4282 - accuracy: 0.8036 - val_loss: 0.4870 - val_accuracy: 0.7722\n",
      "Epoch 17/100\n",
      "7109/7109 [==============================] - 15s 2ms/step - loss: 0.4154 - accuracy: 0.8122 - val_loss: 0.4791 - val_accuracy: 0.7789\n",
      "Epoch 18/100\n",
      "7109/7109 [==============================] - 15s 2ms/step - loss: 0.3998 - accuracy: 0.8195 - val_loss: 0.4853 - val_accuracy: 0.7700\n",
      "Epoch 19/100\n",
      "7109/7109 [==============================] - 16s 2ms/step - loss: 0.3965 - accuracy: 0.8225 - val_loss: 0.4834 - val_accuracy: 0.7873\n",
      "Epoch 20/100\n",
      "7109/7109 [==============================] - 15s 2ms/step - loss: 0.3819 - accuracy: 0.8306 - val_loss: 0.4901 - val_accuracy: 0.7696\n",
      "Epoch 21/100\n",
      "7109/7109 [==============================] - 16s 2ms/step - loss: 0.3671 - accuracy: 0.8354 - val_loss: 0.5398 - val_accuracy: 0.7506\n",
      "Epoch 22/100\n",
      "7109/7109 [==============================] - 16s 2ms/step - loss: 0.3729 - accuracy: 0.8337 - val_loss: 0.4796 - val_accuracy: 0.7785\n",
      "Epoch 23/100\n",
      "7109/7109 [==============================] - 16s 2ms/step - loss: 0.3575 - accuracy: 0.8437 - val_loss: 0.5151 - val_accuracy: 0.7696\n",
      "Epoch 24/100\n",
      "7109/7109 [==============================] - 16s 2ms/step - loss: 0.3545 - accuracy: 0.8440 - val_loss: 0.4816 - val_accuracy: 0.7852\n",
      "Epoch 25/100\n",
      "7109/7109 [==============================] - 15s 2ms/step - loss: 0.3386 - accuracy: 0.8495 - val_loss: 0.5368 - val_accuracy: 0.7700\n",
      "Epoch 26/100\n",
      "7109/7109 [==============================] - 15s 2ms/step - loss: 0.3412 - accuracy: 0.8491 - val_loss: 0.5201 - val_accuracy: 0.7709\n",
      "Epoch 27/100\n",
      "7109/7109 [==============================] - 16s 2ms/step - loss: 0.3560 - accuracy: 0.8398 - val_loss: 0.5005 - val_accuracy: 0.7835\n",
      "Epoch 28/100\n",
      "7109/7109 [==============================] - 16s 2ms/step - loss: 0.3360 - accuracy: 0.8536 - val_loss: 0.5106 - val_accuracy: 0.7776\n",
      "Epoch 29/100\n",
      "7109/7109 [==============================] - 15s 2ms/step - loss: 0.3252 - accuracy: 0.8561 - val_loss: 0.5564 - val_accuracy: 0.7671\n",
      "Epoch 30/100\n",
      "7109/7109 [==============================] - 16s 2ms/step - loss: 0.3282 - accuracy: 0.8550 - val_loss: 0.5473 - val_accuracy: 0.7789\n",
      "Epoch 31/100\n",
      "7109/7109 [==============================] - 16s 2ms/step - loss: 0.3070 - accuracy: 0.8688 - val_loss: 0.5231 - val_accuracy: 0.7781\n",
      "Epoch 32/100\n",
      "7109/7109 [==============================] - 15s 2ms/step - loss: 0.3056 - accuracy: 0.8678 - val_loss: 0.5425 - val_accuracy: 0.7873\n",
      "Epoch 33/100\n",
      "7109/7109 [==============================] - 16s 2ms/step - loss: 0.2988 - accuracy: 0.8686 - val_loss: 0.5738 - val_accuracy: 0.7688\n",
      "Epoch 34/100\n",
      "7109/7109 [==============================] - 15s 2ms/step - loss: 0.3113 - accuracy: 0.8582 - val_loss: 0.5641 - val_accuracy: 0.7565\n",
      "Epoch 35/100\n",
      "7109/7109 [==============================] - 15s 2ms/step - loss: 0.3004 - accuracy: 0.8668 - val_loss: 0.6101 - val_accuracy: 0.7540\n",
      "Epoch 36/100\n",
      "7109/7109 [==============================] - 16s 2ms/step - loss: 0.2813 - accuracy: 0.8804 - val_loss: 0.5960 - val_accuracy: 0.7738\n",
      "Epoch 37/100\n",
      "7109/7109 [==============================] - 15s 2ms/step - loss: 0.2732 - accuracy: 0.8831 - val_loss: 0.5709 - val_accuracy: 0.7852\n",
      "Epoch 38/100\n",
      "7109/7109 [==============================] - 16s 2ms/step - loss: 0.2692 - accuracy: 0.8855 - val_loss: 0.6953 - val_accuracy: 0.7439\n",
      "Epoch 39/100\n",
      "7109/7109 [==============================] - 16s 2ms/step - loss: 0.2921 - accuracy: 0.8720 - val_loss: 0.6357 - val_accuracy: 0.7688\n",
      "Epoch 40/100\n",
      "7109/7109 [==============================] - 14s 2ms/step - loss: 0.2521 - accuracy: 0.8942 - val_loss: 0.6625 - val_accuracy: 0.7540\n",
      "Epoch 41/100\n",
      "7109/7109 [==============================] - 13s 2ms/step - loss: 0.2730 - accuracy: 0.8813 - val_loss: 0.5678 - val_accuracy: 0.7899\n",
      "Epoch 42/100\n",
      "7109/7109 [==============================] - 13s 2ms/step - loss: 0.2684 - accuracy: 0.8852 - val_loss: 0.6369 - val_accuracy: 0.7806\n",
      "Epoch 43/100\n",
      "7109/7109 [==============================] - 13s 2ms/step - loss: 0.2775 - accuracy: 0.8731 - val_loss: 0.6011 - val_accuracy: 0.7755\n",
      "Epoch 44/100\n",
      "7109/7109 [==============================] - 13s 2ms/step - loss: 0.2688 - accuracy: 0.8863 - val_loss: 0.6343 - val_accuracy: 0.7768\n",
      "Epoch 45/100\n",
      "7109/7109 [==============================] - 12s 2ms/step - loss: 0.2754 - accuracy: 0.8766 - val_loss: 0.6173 - val_accuracy: 0.7734\n",
      "Epoch 46/100\n",
      "7109/7109 [==============================] - 13s 2ms/step - loss: 0.2463 - accuracy: 0.8937 - val_loss: 0.6335 - val_accuracy: 0.7861\n",
      "Epoch 47/100\n",
      "7109/7109 [==============================] - 12s 2ms/step - loss: 0.2368 - accuracy: 0.9008 - val_loss: 0.6532 - val_accuracy: 0.7797\n",
      "Epoch 48/100\n",
      "7109/7109 [==============================] - 13s 2ms/step - loss: 0.2362 - accuracy: 0.9005 - val_loss: 0.6123 - val_accuracy: 0.7911\n",
      "Epoch 49/100\n",
      "7109/7109 [==============================] - 13s 2ms/step - loss: 0.2772 - accuracy: 0.8758 - val_loss: 0.6097 - val_accuracy: 0.7823\n",
      "Epoch 50/100\n",
      "7109/7109 [==============================] - 12s 2ms/step - loss: 0.2337 - accuracy: 0.9004 - val_loss: 0.6673 - val_accuracy: 0.7840\n",
      "Epoch 51/100\n",
      "7109/7109 [==============================] - 12s 2ms/step - loss: 0.2294 - accuracy: 0.9042 - val_loss: 0.6613 - val_accuracy: 0.7903\n",
      "Epoch 52/100\n",
      "7109/7109 [==============================] - 12s 2ms/step - loss: 0.2268 - accuracy: 0.9020 - val_loss: 0.7146 - val_accuracy: 0.7772\n",
      "Epoch 53/100\n",
      "7109/7109 [==============================] - 12s 2ms/step - loss: 0.2157 - accuracy: 0.9077 - val_loss: 0.6947 - val_accuracy: 0.7827\n",
      "Epoch 54/100\n",
      "7109/7109 [==============================] - 12s 2ms/step - loss: 0.2125 - accuracy: 0.9091 - val_loss: 0.7355 - val_accuracy: 0.7819\n",
      "Epoch 55/100\n",
      "7109/7109 [==============================] - 12s 2ms/step - loss: 0.2132 - accuracy: 0.9091 - val_loss: 0.7438 - val_accuracy: 0.7840\n",
      "Epoch 56/100\n"
     ]
    },
    {
     "name": "stdout",
     "output_type": "stream",
     "text": [
      "7109/7109 [==============================] - 12s 2ms/step - loss: 0.2073 - accuracy: 0.9121 - val_loss: 0.8198 - val_accuracy: 0.7586\n",
      "Epoch 57/100\n",
      "7109/7109 [==============================] - 12s 2ms/step - loss: 0.2313 - accuracy: 0.9015 - val_loss: 0.8329 - val_accuracy: 0.7570\n",
      "Epoch 58/100\n",
      "7109/7109 [==============================] - 12s 2ms/step - loss: 0.2120 - accuracy: 0.9100 - val_loss: 0.7420 - val_accuracy: 0.7827\n",
      "Epoch 59/100\n",
      "7109/7109 [==============================] - 13s 2ms/step - loss: 0.2266 - accuracy: 0.9046 - val_loss: 0.7421 - val_accuracy: 0.7899\n",
      "Epoch 60/100\n",
      "7109/7109 [==============================] - 12s 2ms/step - loss: 0.2156 - accuracy: 0.9069 - val_loss: 0.6743 - val_accuracy: 0.7878\n",
      "Epoch 61/100\n",
      "7109/7109 [==============================] - 12s 2ms/step - loss: 0.2182 - accuracy: 0.9052 - val_loss: 0.7920 - val_accuracy: 0.7696\n",
      "Epoch 62/100\n",
      "7109/7109 [==============================] - 12s 2ms/step - loss: 0.2025 - accuracy: 0.9148 - val_loss: 0.7786 - val_accuracy: 0.7654\n",
      "Epoch 63/100\n",
      "7109/7109 [==============================] - 13s 2ms/step - loss: 0.1860 - accuracy: 0.9235 - val_loss: 0.8162 - val_accuracy: 0.7835\n",
      "Epoch 64/100\n",
      "7109/7109 [==============================] - 13s 2ms/step - loss: 0.2113 - accuracy: 0.9096 - val_loss: 0.7505 - val_accuracy: 0.7747\n",
      "Epoch 65/100\n",
      "7109/7109 [==============================] - 12s 2ms/step - loss: 0.1966 - accuracy: 0.9166 - val_loss: 0.8091 - val_accuracy: 0.7743\n",
      "Epoch 66/100\n",
      "7109/7109 [==============================] - 13s 2ms/step - loss: 0.1771 - accuracy: 0.9256 - val_loss: 0.8558 - val_accuracy: 0.7709\n",
      "Epoch 67/100\n",
      "7109/7109 [==============================] - 12s 2ms/step - loss: 0.2000 - accuracy: 0.9141 - val_loss: 0.7769 - val_accuracy: 0.7848\n",
      "Epoch 68/100\n",
      "7109/7109 [==============================] - 13s 2ms/step - loss: 0.2033 - accuracy: 0.9145 - val_loss: 0.8376 - val_accuracy: 0.7722\n",
      "Epoch 69/100\n",
      "7109/7109 [==============================] - 12s 2ms/step - loss: 0.1856 - accuracy: 0.9198 - val_loss: 0.8748 - val_accuracy: 0.7684\n",
      "Epoch 70/100\n",
      "7109/7109 [==============================] - 12s 2ms/step - loss: 0.1835 - accuracy: 0.9216 - val_loss: 0.8338 - val_accuracy: 0.7911\n",
      "Epoch 71/100\n",
      "7109/7109 [==============================] - 12s 2ms/step - loss: 0.1763 - accuracy: 0.9250 - val_loss: 0.8574 - val_accuracy: 0.7785\n",
      "Epoch 72/100\n",
      "7109/7109 [==============================] - 12s 2ms/step - loss: 0.1904 - accuracy: 0.9173 - val_loss: 0.8914 - val_accuracy: 0.7797\n",
      "Epoch 73/100\n",
      "7109/7109 [==============================] - 12s 2ms/step - loss: 0.1736 - accuracy: 0.9273 - val_loss: 0.9290 - val_accuracy: 0.7671\n",
      "Epoch 74/100\n",
      "7109/7109 [==============================] - 13s 2ms/step - loss: 0.1617 - accuracy: 0.9322 - val_loss: 0.9299 - val_accuracy: 0.7747\n",
      "Epoch 75/100\n",
      "7109/7109 [==============================] - 12s 2ms/step - loss: 0.1716 - accuracy: 0.9254 - val_loss: 0.9545 - val_accuracy: 0.7755\n",
      "Epoch 76/100\n",
      "7109/7109 [==============================] - 12s 2ms/step - loss: 0.2029 - accuracy: 0.9119 - val_loss: 0.8735 - val_accuracy: 0.7451\n",
      "Epoch 77/100\n",
      "7109/7109 [==============================] - 13s 2ms/step - loss: 0.2033 - accuracy: 0.9101 - val_loss: 0.8595 - val_accuracy: 0.7814\n",
      "Epoch 78/100\n",
      "7109/7109 [==============================] - 13s 2ms/step - loss: 0.1673 - accuracy: 0.9294 - val_loss: 0.9073 - val_accuracy: 0.7772\n",
      "Epoch 79/100\n",
      "7109/7109 [==============================] - 12s 2ms/step - loss: 0.1552 - accuracy: 0.9349 - val_loss: 0.9752 - val_accuracy: 0.7650\n",
      "Epoch 80/100\n",
      "7109/7109 [==============================] - 12s 2ms/step - loss: 0.1566 - accuracy: 0.9370 - val_loss: 1.0042 - val_accuracy: 0.7764\n",
      "Epoch 81/100\n",
      "7109/7109 [==============================] - 12s 2ms/step - loss: 0.1490 - accuracy: 0.9401 - val_loss: 1.0172 - val_accuracy: 0.7789\n",
      "Epoch 82/100\n",
      "7109/7109 [==============================] - 12s 2ms/step - loss: 0.1540 - accuracy: 0.9340 - val_loss: 1.0058 - val_accuracy: 0.7688\n",
      "Epoch 83/100\n",
      "7109/7109 [==============================] - 12s 2ms/step - loss: 0.1534 - accuracy: 0.9366 - val_loss: 1.0453 - val_accuracy: 0.7755\n",
      "Epoch 84/100\n",
      "7109/7109 [==============================] - 13s 2ms/step - loss: 0.1504 - accuracy: 0.9370 - val_loss: 1.0548 - val_accuracy: 0.7789\n",
      "Epoch 85/100\n",
      "7109/7109 [==============================] - 12s 2ms/step - loss: 0.1489 - accuracy: 0.9357 - val_loss: 1.0763 - val_accuracy: 0.7823\n",
      "Epoch 86/100\n",
      "7109/7109 [==============================] - 12s 2ms/step - loss: 0.1570 - accuracy: 0.9344 - val_loss: 1.0159 - val_accuracy: 0.7937\n",
      "Epoch 87/100\n",
      "7109/7109 [==============================] - 13s 2ms/step - loss: 0.1537 - accuracy: 0.9353 - val_loss: 1.1175 - val_accuracy: 0.7722\n",
      "Epoch 88/100\n",
      "7109/7109 [==============================] - 13s 2ms/step - loss: 0.1496 - accuracy: 0.9368 - val_loss: 1.0731 - val_accuracy: 0.7840\n",
      "Epoch 89/100\n",
      "7109/7109 [==============================] - 12s 2ms/step - loss: 0.1519 - accuracy: 0.9363 - val_loss: 1.1944 - val_accuracy: 0.7637\n",
      "Epoch 90/100\n",
      "7109/7109 [==============================] - 13s 2ms/step - loss: 0.1586 - accuracy: 0.9290 - val_loss: 1.0455 - val_accuracy: 0.7595\n",
      "Epoch 91/100\n",
      "7109/7109 [==============================] - 13s 2ms/step - loss: 0.1740 - accuracy: 0.9239 - val_loss: 1.0435 - val_accuracy: 0.7802\n",
      "Epoch 92/100\n",
      "7109/7109 [==============================] - 12s 2ms/step - loss: 0.1560 - accuracy: 0.9343 - val_loss: 0.9880 - val_accuracy: 0.7827\n",
      "Epoch 93/100\n",
      "7109/7109 [==============================] - 13s 2ms/step - loss: 0.1694 - accuracy: 0.9256 - val_loss: 0.9907 - val_accuracy: 0.7776\n",
      "Epoch 94/100\n",
      "7109/7109 [==============================] - 11s 2ms/step - loss: 0.1537 - accuracy: 0.9401 - val_loss: 1.0500 - val_accuracy: 0.7768\n",
      "Epoch 95/100\n",
      "7109/7109 [==============================] - 10s 1ms/step - loss: 0.1497 - accuracy: 0.9360 - val_loss: 0.9928 - val_accuracy: 0.7890\n",
      "Epoch 96/100\n",
      "7109/7109 [==============================] - 10s 1ms/step - loss: 0.1393 - accuracy: 0.9413 - val_loss: 1.0518 - val_accuracy: 0.7819\n",
      "Epoch 97/100\n",
      "7109/7109 [==============================] - 10s 1ms/step - loss: 0.1404 - accuracy: 0.9432 - val_loss: 1.0789 - val_accuracy: 0.7789\n",
      "Epoch 98/100\n",
      "7109/7109 [==============================] - 10s 1ms/step - loss: 0.1435 - accuracy: 0.9388 - val_loss: 1.1455 - val_accuracy: 0.7658\n",
      "Epoch 99/100\n",
      "7109/7109 [==============================] - 11s 1ms/step - loss: 0.1470 - accuracy: 0.9364 - val_loss: 1.0461 - val_accuracy: 0.7755\n",
      "Epoch 100/100\n",
      "7109/7109 [==============================] - 10s 1ms/step - loss: 0.1419 - accuracy: 0.9406 - val_loss: 1.0493 - val_accuracy: 0.7785\n"
     ]
    },
    {
     "data": {
      "text/plain": [
       "<keras.callbacks.callbacks.History at 0x7fa30c37ff28>"
      ]
     },
     "execution_count": 10,
     "metadata": {},
     "output_type": "execute_result"
    }
   ],
   "source": [
    "print(\"Training Local Context Model...\")\n",
    "model_local.fit([input_data,label_data], output_data, batch_size=256, epochs=100,validation_data=([v_input_data,v_label_data], v_output_data))"
   ]
  },
  {
   "cell_type": "code",
   "execution_count": 11,
   "metadata": {},
   "outputs": [],
   "source": [
    "model_local.save('model_greedy_adding_weight_train.h5')\n",
    "model_local_test.save('model_greedy_adding_weight_test.h5')"
   ]
  },
  {
   "cell_type": "code",
   "execution_count": 12,
   "metadata": {},
   "outputs": [
    {
     "name": "stdout",
     "output_type": "stream",
     "text": [
      "Loading Input Data...\n",
      "Done\n",
      "Loading Label Data...\n",
      "Done\n",
      "Loading Output Data...\n",
      "Done\n"
     ]
    }
   ],
   "source": [
    "t_input_data = getting_data(\"./data/local_test_input_greedy.npy\", \"Input\")\n",
    "t_label_data = getting_data(\"./data/local_test_label_greedy.npy\", \"Label\")\n",
    "t_output_data = getting_data(\"./data/local_test_output_greedy.npy\", \"Output\")\n",
    "t_label_data.shape=(-1,15)"
   ]
  },
  {
   "cell_type": "code",
   "execution_count": 13,
   "metadata": {},
   "outputs": [
    {
     "data": {
      "text/plain": [
       "(2356, 15)"
      ]
     },
     "execution_count": 13,
     "metadata": {},
     "output_type": "execute_result"
    }
   ],
   "source": [
    "t_label_data.shape"
   ]
  },
  {
   "cell_type": "code",
   "execution_count": 14,
   "metadata": {},
   "outputs": [],
   "source": [
    "from sklearn import metrics\n",
    "import matplotlib\n",
    "import matplotlib.pyplot as plt\n",
    "import pandas as pd\n",
    "import seaborn as sns"
   ]
  },
  {
   "cell_type": "markdown",
   "metadata": {},
   "source": [
    "# using input lable 0s when testing"
   ]
  },
  {
   "cell_type": "code",
   "execution_count": 15,
   "metadata": {},
   "outputs": [],
   "source": [
    "y_predict = model_local_test.predict(t_input_data)"
   ]
  },
  {
   "cell_type": "code",
   "execution_count": 16,
   "metadata": {},
   "outputs": [
    {
     "data": {
      "image/png": "[encoded data removed]",
      "text/plain": [
       "<Figure size 576x360 with 2 Axes>"
      ]
     },
     "metadata": {
      "needs_background": "light"
     },
     "output_type": "display_data"
    }
   ],
   "source": [
    "confusion_matrix = pd.DataFrame(\n",
    "    data=metrics.confusion_matrix(t_output_data, np.rint(y_predict)),\n",
    ")\n",
    "\n",
    "confusion_figure, confusion_axes = matplotlib.pyplot.subplots()\n",
    "confusion_figure.set_size_inches(8, 5)\n",
    "confusion_axes.set_title(\n",
    "    'Confusion matrix showing the frequency of \\n'\n",
    "    'correct and incorrect bug classification predictions.'\n",
    "    '\\n\\n'  # hack to avoid overlap with x-axis labels below\n",
    ")\n",
    "confusion_axes.xaxis.tick_top()  # move x-axis labels to top of matrix\n",
    "_ = sns.heatmap(\n",
    "    confusion_matrix,\n",
    "    annot=True,\n",
    "    fmt=\"d\",\n",
    "    cmap=sns.color_palette(\"Blues\"),\n",
    "    vmin=0,\n",
    "    ax=confusion_axes,\n",
    ")"
   ]
  },
  {
   "cell_type": "code",
   "execution_count": 17,
   "metadata": {},
   "outputs": [],
   "source": [
    "tn, fp, fn, tp = metrics.confusion_matrix(\n",
    "    t_output_data.astype(int), \n",
    "    np.rint(y_predict)\n",
    ").flatten().tolist()\n",
    "\n",
    "fpr_nn = fp/(fp+tp)\n",
    "fnr_nn = fn/(fn+tn)\n",
    "r = tp/(tp+fn)\n",
    "p = tp/(tp+fp)\n",
    "f = (2*p*r)/(p+r)\n",
    "acc = (tp+tn)/(tp+fp+fn+tn)"
   ]
  },
  {
   "cell_type": "code",
   "execution_count": 18,
   "metadata": {},
   "outputs": [
    {
     "name": "stdout",
     "output_type": "stream",
     "text": [
      "fpr_nn 0.3075\n",
      "fnr_nn 0.3476863753213368\n",
      "r 0.5059360730593607\n",
      "p 0.6925\n",
      "f 0.5846965699208443\n",
      "acc 0.6659592529711376\n"
     ]
    }
   ],
   "source": [
    "print(\"fpr_nn\",fpr_nn)\n",
    "print(\"fnr_nn\",fnr_nn)\n",
    "print(\"r\",r)\n",
    "print(\"p\",p)\n",
    "print(\"f\",f)\n",
    "print(\"acc\",acc)"
   ]
  },
  {
   "cell_type": "code",
   "execution_count": 19,
   "metadata": {},
   "outputs": [],
   "source": [
    "from sklearn.metrics import  auc, roc_curve, precision_recall_curve, matthews_corrcoef, f1_score, roc_auc_score\n",
    "fpr_keras, tpr_keras, thresholds_keras = roc_curve(t_output_data, y_predict)\n",
    "precision, recall, thresholds = precision_recall_curve(t_output_data, y_predict)"
   ]
  },
  {
   "cell_type": "code",
   "execution_count": 20,
   "metadata": {},
   "outputs": [],
   "source": [
    "import matplotlib.pyplot as plt\n",
    "\n",
    "auc_keras = auc(fpr_keras, tpr_keras)\n",
    "roc_auc = roc_auc_score(t_output_data, y_predict)\n",
    "pr_auc = auc(recall, precision)\n",
    "f1 = f1_score(t_output_data, np.rint(y_predict))\n",
    "mcc = matthews_corrcoef(t_output_data, np.rint(y_predict))"
   ]
  },
  {
   "cell_type": "code",
   "execution_count": 21,
   "metadata": {},
   "outputs": [
    {
     "name": "stdout",
     "output_type": "stream",
     "text": [
      "PR AUC: 0.686\n",
      "ROC AUC: 0.692\n",
      "MCC: 0.327\n",
      "F1: 0.585\n"
     ]
    }
   ],
   "source": [
    "print('PR AUC: %.3f' % pr_auc)\n",
    "print('ROC AUC: %.3f' % roc_auc)\n",
    "print('MCC: %.3f' % mcc)\n",
    "print('F1: %.3f' % f1)"
   ]
  },
  {
   "cell_type": "code",
   "execution_count": 22,
   "metadata": {},
   "outputs": [
    {
     "data": {
      "image/png": "[encoded data removed]",
      "text/plain": [
       "<Figure size 432x288 with 1 Axes>"
      ]
     },
     "metadata": {
      "needs_background": "light"
     },
     "output_type": "display_data"
    }
   ],
   "source": [
    "plt.plot(fpr_keras, tpr_keras, label='Keras (area = {:.3f})'.format(auc_keras))\n",
    "plt.xlabel('False positive rate')\n",
    "plt.ylabel('True positive rate')\n",
    "plt.title('ROC curve')\n",
    "plt.legend(loc='best')\n",
    "plt.show()"
   ]
  },
  {
   "cell_type": "markdown",
   "metadata": {},
   "source": [
    "# Find the best threshold for balanced testing"
   ]
  },
  {
   "cell_type": "code",
   "execution_count": 23,
   "metadata": {},
   "outputs": [
    {
     "name": "stdout",
     "output_type": "stream",
     "text": [
      "0.5424657534246575 0.6541850220264317 0.5931103344982526 0.6540747028862479 [0.26637256]\n",
      "0.8264840182648402 0.5283129013426737 0.6445868945868946 0.5764006791171478 [0.00733054]\n",
      "0.8730593607305936 0.5126005361930295 0.645945945945946 0.5551782682512734 [0.00209311]\n",
      "0.863013698630137 0.5172413793103449 0.646817248459959 0.5619694397283531 [0.00290263]\n",
      "0.8949771689497716 0.5072463768115942 0.6475057813016187 0.5471137521222411 [0.00106597]\n",
      "0.8949771689497716 0.5077720207253886 0.6479338842975207 0.547962648556876 [0.00107214]\n",
      "0.8894977168949771 0.510482180293501 0.6486846486846486 0.5522071307300509 [0.00132096]\n",
      "0.8894977168949771 0.5110178384050367 0.6491169610129955 0.5530560271646859 [0.00146645]\n"
     ]
    }
   ],
   "source": [
    "best_f1 = 0\n",
    "for predict in y_predict:\n",
    "    predict_after_threshold = np.int64(y_predict>predict)\n",
    "    tn, fp, fn, tp = metrics.confusion_matrix(\n",
    "        t_output_data.astype(int), \n",
    "        predict_after_threshold\n",
    "    ).flatten().tolist()\n",
    "    try:\n",
    "        fpr_nn = fp/(fp+tp)\n",
    "        fnr_nn = fn/(fn+tn)\n",
    "        r = tp/(tp+fn)\n",
    "        p = tp/(tp+fp)\n",
    "        f = (2*p*r)/(p+r)\n",
    "        acc = (tp+tn)/(tp+fp+fn+tn)\n",
    "    except:\n",
    "        continue\n",
    "    if f>best_f1:\n",
    "        best_f1 = f\n",
    "        print(r,p,f,acc,predict)"
   ]
  },
  {
   "cell_type": "code",
   "execution_count": 24,
   "metadata": {},
   "outputs": [
    {
     "name": "stdout",
     "output_type": "stream",
     "text": [
      "0.5424657534246575 0.6541850220264317 0.5931103344982526 0.6540747028862479 [0.26637256]\n",
      "0.8264840182648402 0.5283129013426737 0.6445868945868946 0.5764006791171478 [0.00733054]\n",
      "0.8730593607305936 0.5126005361930295 0.645945945945946 0.5551782682512734 [0.00209311]\n",
      "0.91324200913242 0.4972650422675286 0.643915003219575 0.530560271646859 [0.00053933]\n",
      "0.9388127853881278 0.48605200945626476 0.6404984423676012 0.5101867572156197 [0.00013861]\n",
      "0.9872146118721461 0.4695916594265856 0.636443921106859 0.47580645161290325 [2.0861626e-07]\n",
      "0.9945205479452055 0.4677835051546392 0.6362839614373357 0.47156196943972833 [2.9802322e-08]\n",
      "0.9963470319634703 0.46743787489288774 0.6363371245261009 0.47071307300509335 [0.]\n"
     ]
    }
   ],
   "source": [
    "best_r = 0\n",
    "for predict in y_predict:\n",
    "    predict_after_threshold = np.int64(y_predict>predict)\n",
    "    tn, fp, fn, tp = metrics.confusion_matrix(\n",
    "        t_output_data.astype(int), \n",
    "        predict_after_threshold\n",
    "    ).flatten().tolist()\n",
    "    try:\n",
    "        fpr_nn = fp/(fp+tp)\n",
    "        fnr_nn = fn/(fn+tn)\n",
    "        r = tp/(tp+fn)\n",
    "        p = tp/(tp+fp)\n",
    "        f = (2*p*r)/(p+r)\n",
    "        acc = (tp+tn)/(tp+fp+fn+tn)\n",
    "    except:\n",
    "        continue\n",
    "    if r>best_r:\n",
    "        best_r = r\n",
    "        print(r,p,f,acc,predict)"
   ]
  },
  {
   "cell_type": "code",
   "execution_count": 25,
   "metadata": {},
   "outputs": [
    {
     "name": "stdout",
     "output_type": "stream",
     "text": [
      "0.5424657534246575 0.6541850220264317 0.5931103344982526 0.6540747028862479 [0.26637256]\n",
      "0.5296803652968036 0.6682027649769585 0.5909322465613857 0.6591680814940577 [0.32677275]\n",
      "0.4730593607305936 0.7057220708446866 0.5664297430289775 0.6634125636672326 [0.6660923]\n",
      "0.5013698630136987 0.6940581542351454 0.582184517497349 0.66553480475382 [0.5279879]\n",
      "0.4931506849315068 0.7003891050583657 0.5787781350482315 0.666383701188455 [0.57929605]\n",
      "0.4977168949771689 0.7014157014157014 0.5822649572649573 0.668081494057725 [0.5571315]\n"
     ]
    }
   ],
   "source": [
    "best_a = 0\n",
    "for predict in y_predict:\n",
    "    predict_after_threshold = np.int64(y_predict>predict)\n",
    "    tn, fp, fn, tp = metrics.confusion_matrix(\n",
    "        t_output_data.astype(int), \n",
    "        predict_after_threshold\n",
    "    ).flatten().tolist()\n",
    "    try:\n",
    "        fpr_nn = fp/(fp+tp)\n",
    "        fnr_nn = fn/(fn+tn)\n",
    "        r = tp/(tp+fn)\n",
    "        p = tp/(tp+fp)\n",
    "        f = (2*p*r)/(p+r)\n",
    "        acc = (tp+tn)/(tp+fp+fn+tn)\n",
    "    except:\n",
    "        continue\n",
    "    if acc>best_a:\n",
    "        best_a = acc\n",
    "        print(r,p,f,acc,predict)"
   ]
  },
  {
   "cell_type": "markdown",
   "metadata": {},
   "source": [
    "# imbalance testing"
   ]
  },
  {
   "cell_type": "code",
   "execution_count": 26,
   "metadata": {},
   "outputs": [
    {
     "name": "stdout",
     "output_type": "stream",
     "text": [
      "Loading Input Data...\n",
      "Done\n",
      "Loading Lable Data...\n",
      "Done\n",
      "Loading Output Data...\n",
      "Done\n"
     ]
    }
   ],
   "source": [
    "im_t_input_data = getting_data(\"./data/local_im_test_input_greedy.npy\", \"Input\")\n",
    "im_t_label_data = getting_data(\"./data/local_im_test_label_greedy.npy\", \"Lable\")\n",
    "im_t_output_data = getting_data(\"./data/local_im_test_output_greedy.npy\", \"Output\")\n",
    "im_t_label_data.shape=(-1,15)"
   ]
  },
  {
   "cell_type": "code",
   "execution_count": 27,
   "metadata": {},
   "outputs": [
    {
     "data": {
      "text/plain": [
       "(12423, 15)"
      ]
     },
     "execution_count": 27,
     "metadata": {},
     "output_type": "execute_result"
    }
   ],
   "source": [
    "im_t_label_data.shape"
   ]
  },
  {
   "cell_type": "code",
   "execution_count": 28,
   "metadata": {},
   "outputs": [
    {
     "data": {
      "text/plain": [
       "(12423, 15, 20, 128)"
      ]
     },
     "execution_count": 28,
     "metadata": {},
     "output_type": "execute_result"
    }
   ],
   "source": [
    "im_t_input_data.shape"
   ]
  },
  {
   "cell_type": "markdown",
   "metadata": {},
   "source": [
    "# using input lable 0s when im_testing"
   ]
  },
  {
   "cell_type": "code",
   "execution_count": 29,
   "metadata": {},
   "outputs": [
    {
     "data": {
      "image/png": "[encoded data removed]",
      "text/plain": [
       "<Figure size 576x360 with 2 Axes>"
      ]
     },
     "metadata": {
      "needs_background": "light"
     },
     "output_type": "display_data"
    }
   ],
   "source": [
    "y_im_predict = model_local_test.predict(im_t_input_data)\n",
    "\n",
    "confusion_matrix = pd.DataFrame(\n",
    "    data=metrics.confusion_matrix(im_t_output_data, np.rint(y_im_predict)),\n",
    ")\n",
    "\n",
    "confusion_figure, confusion_axes = matplotlib.pyplot.subplots()\n",
    "confusion_figure.set_size_inches(8, 5)\n",
    "confusion_axes.set_title(\n",
    "    'Confusion matrix showing the frequency of \\n'\n",
    "    'correct and incorrect bug classification predictions.'\n",
    "    '\\n\\n'  # hack to avoid overlap with x-axis labels below\n",
    ")\n",
    "confusion_axes.xaxis.tick_top()  # move x-axis labels to top of matrix\n",
    "_ = sns.heatmap(\n",
    "    confusion_matrix,\n",
    "    annot=True,\n",
    "    fmt=\"d\",\n",
    "    cmap=sns.color_palette(\"Blues\"),\n",
    "    vmin=0,\n",
    "    ax=confusion_axes,\n",
    ")"
   ]
  },
  {
   "cell_type": "code",
   "execution_count": 30,
   "metadata": {},
   "outputs": [
    {
     "name": "stdout",
     "output_type": "stream",
     "text": [
      "fpr_nn 0.8041710851891127\n",
      "fnr_nn 0.056389410047946634\n",
      "r 0.5059360730593607\n",
      "p 0.19582891481088724\n",
      "f 0.2823649337410805\n",
      "acc 0.7733236738307977\n"
     ]
    }
   ],
   "source": [
    "tn, fp, fn, tp = metrics.confusion_matrix(\n",
    "    im_t_output_data.astype(int), \n",
    "    np.rint(y_im_predict)\n",
    ").flatten().tolist()\n",
    "\n",
    "fpr_nn = fp/(fp+tp)\n",
    "fnr_nn = fn/(fn+tn)\n",
    "r = tp/(tp+fn)\n",
    "p = tp/(tp+fp)\n",
    "f = (2*p*r)/(p+r)\n",
    "acc = (tp+tn)/(tp+fp+fn+tn)\n",
    "print(\"fpr_nn\",fpr_nn)\n",
    "print(\"fnr_nn\",fnr_nn)\n",
    "print(\"r\",r)\n",
    "print(\"p\",p)\n",
    "print(\"f\",f)\n",
    "print(\"acc\",acc)"
   ]
  },
  {
   "cell_type": "markdown",
   "metadata": {},
   "source": [
    "# Find the best threshold for imbalanced testing"
   ]
  },
  {
   "cell_type": "code",
   "execution_count": 31,
   "metadata": {},
   "outputs": [
    {
     "name": "stdout",
     "output_type": "stream",
     "text": [
      "0.6566210045662101 0.13609691463183798 0.22546252743806838 0.6023504789503341 [0.18575874]\n",
      "0.34337899543378997 0.2363293526084224 0.279970215934475 0.8443210174676005 [0.94359183]\n",
      "0.3607305936073059 0.23881499395405079 0.28737722808293925 0.842308621106013 [0.9363436]\n",
      "0.4365296803652968 0.21560667568786648 0.2886473429951691 0.8103517668840055 [0.79344785]\n",
      "0.43105022831050227 0.2203548085901027 0.2916280506641952 0.8154230057152057 [0.81918263]\n",
      "0.4273972602739726 0.222011385199241 0.2922260380892913 0.8175158979312566 [0.8263275]\n",
      "0.42648401826484017 0.22238095238095237 0.29233176838810637 0.8179988730580375 [0.8317939]\n",
      "0.43105022831050227 0.22149225715626467 0.2926224426534408 0.8163084601143041 [0.8222585]\n",
      "0.43105022831050227 0.2215962441314554 0.29271317829457366 0.8163889559687676 [0.8224977]\n",
      "0.43105022831050227 0.2217003287928605 0.2928039702233251 0.816469451823231 [0.8226485]\n",
      "0.43105022831050227 0.22180451127819548 0.2928948184920881 0.8165499476776946 [0.8226491]\n"
     ]
    }
   ],
   "source": [
    "best_f1 = 0\n",
    "for predict in y_im_predict:\n",
    "    predict_after_threshold = np.int64(y_im_predict>predict)\n",
    "    tn, fp, fn, tp = metrics.confusion_matrix(\n",
    "        im_t_output_data.astype(int), \n",
    "        predict_after_threshold\n",
    "    ).flatten().tolist()\n",
    "    try:\n",
    "        fpr_nn = fp/(fp+tp)\n",
    "        fnr_nn = fn/(fn+tn)\n",
    "        r = tp/(tp+fn)\n",
    "        p = tp/(tp+fp)\n",
    "        f = (2*p*r)/(p+r)\n",
    "        acc = (tp+tn)/(tp+fp+fn+tn)\n",
    "    except:\n",
    "        continue\n",
    "    if f>best_f1:\n",
    "        best_f1 = f\n",
    "        print(r,p,f,acc,predict)"
   ]
  },
  {
   "cell_type": "code",
   "execution_count": 32,
   "metadata": {},
   "outputs": [
    {
     "name": "stdout",
     "output_type": "stream",
     "text": [
      "0.6566210045662101 0.13609691463183798 0.22546252743806838 0.6023504789503341 [0.18575874]\n",
      "0.34337899543378997 0.2363293526084224 0.279970215934475 0.8443210174676005 [0.94359183]\n",
      "0.3415525114155251 0.23746031746031745 0.2801498127340824 0.8452869677211624 [0.945668]\n",
      "0.291324200913242 0.2446319018404908 0.2659441433930804 0.8582468002897851 [0.9743047]\n",
      "0.18356164383561643 0.27088948787061995 0.21883505715841045 0.8844884488448845 [0.99766976]\n",
      "0.14703196347031963 0.2937956204379562 0.19598295800365187 0.893664976253723 [0.9993663]\n",
      "0.07123287671232877 0.43333333333333335 0.12235294117647058 0.909925138855349 [0.99999785]\n",
      "0.06575342465753424 0.4444444444444444 0.11455847255369929 0.91040811398213 [0.99999905]\n",
      "0.0547945205479452 0.4878048780487805 0.09852216748768472 0.9116155517990824 [0.99999976]\n",
      "0.04657534246575343 0.5204081632653061 0.08549874266554904 0.9121790227803268 [0.9999999]\n",
      "0.045662100456621 0.5376344086021505 0.08417508417508418 0.9124205103437173 [0.99999994]\n"
     ]
    }
   ],
   "source": [
    "best_a = 0\n",
    "for predict in y_im_predict:\n",
    "    predict_after_threshold = np.int64(y_im_predict>predict)\n",
    "    tn, fp, fn, tp = metrics.confusion_matrix(\n",
    "        im_t_output_data.astype(int), \n",
    "        predict_after_threshold\n",
    "    ).flatten().tolist()\n",
    "    try:\n",
    "        fpr_nn = fp/(fp+tp)\n",
    "        fnr_nn = fn/(fn+tn)\n",
    "        r = tp/(tp+fn)\n",
    "        p = tp/(tp+fp)\n",
    "        f = (2*p*r)/(p+r)\n",
    "        acc = (tp+tn)/(tp+fp+fn+tn)\n",
    "    except:\n",
    "        continue\n",
    "    if acc>best_a:\n",
    "        best_a = acc\n",
    "        print(r,p,f,acc,predict)"
   ]
  },
  {
   "cell_type": "code",
   "execution_count": 33,
   "metadata": {},
   "outputs": [
    {
     "name": "stdout",
     "output_type": "stream",
     "text": [
      "0.6566210045662101 0.13609691463183798 0.22546252743806838 0.6023504789503341 [0.18575874]\n",
      "0.8730593607305936 0.10344081367669336 0.18496662474605785 0.3218224261450535 [0.00201583]\n",
      "0.94337899543379 0.09637093012407874 0.1748772642627391 0.21532641068984948 [0.00012231]\n",
      "0.9881278538812786 0.08925183535428524 0.16371614465123316 0.11019882476052484 [1.4901161e-07]\n",
      "0.9926940639269406 0.0891422010824996 0.16359394988336218 0.10528857763825163 [5.9604645e-08]\n",
      "0.9963470319634703 0.08909031520496488 0.16355595532568773 0.10174676004185784 [0.]\n"
     ]
    }
   ],
   "source": [
    "best_r = 0\n",
    "for predict in y_im_predict:\n",
    "    predict_after_threshold = np.int64(y_im_predict>predict)\n",
    "    tn, fp, fn, tp = metrics.confusion_matrix(\n",
    "        im_t_output_data.astype(int), \n",
    "        predict_after_threshold\n",
    "    ).flatten().tolist()\n",
    "    try:\n",
    "        fpr_nn = fp/(fp+tp)\n",
    "        fnr_nn = fn/(fn+tn)\n",
    "        r = tp/(tp+fn)\n",
    "        p = tp/(tp+fp)\n",
    "        f = (2*p*r)/(p+r)\n",
    "        acc = (tp+tn)/(tp+fp+fn+tn)\n",
    "    except:\n",
    "        continue\n",
    "    if r>best_r:\n",
    "        best_r = r\n",
    "        print(r,p,f,acc,predict)"
   ]
  },
  {
   "cell_type": "code",
   "execution_count": null,
   "metadata": {},
   "outputs": [],
   "source": []
  }
 ],
 "metadata": {
  "kernelspec": {
   "display_name": "Python 3",
   "language": "python",
   "name": "python3"
  },
  "language_info": {
   "codemirror_mode": {
    "name": "ipython",
    "version": 3
   },
   "file_extension": ".py",
   "mimetype": "text/x-python",
   "name": "python",
   "nbconvert_exporter": "python",
   "pygments_lexer": "ipython3",
   "version": "3.5.2"
  }
 },
 "nbformat": 4,
 "nbformat_minor": 2
}
