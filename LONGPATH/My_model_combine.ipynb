{
 "cells": [
  {
   "cell_type": "code",
   "execution_count": 1,
   "metadata": {},
   "outputs": [
    {
     "name": "stderr",
     "output_type": "stream",
     "text": [
      "/data/jiahao/translate/py35venv/lib/python3.5/site-packages/tensorflow/python/framework/dtypes.py:516: FutureWarning: Passing (type, 1) or '1type' as a synonym of type is deprecated; in a future version of numpy, it will be understood as (type, (1,)) / '(1,)type'.\n",
      "  _np_qint8 = np.dtype([(\"qint8\", np.int8, 1)])\n",
      "/data/jiahao/translate/py35venv/lib/python3.5/site-packages/tensorflow/python/framework/dtypes.py:517: FutureWarning: Passing (type, 1) or '1type' as a synonym of type is deprecated; in a future version of numpy, it will be understood as (type, (1,)) / '(1,)type'.\n",
      "  _np_quint8 = np.dtype([(\"quint8\", np.uint8, 1)])\n",
      "/data/jiahao/translate/py35venv/lib/python3.5/site-packages/tensorflow/python/framework/dtypes.py:518: FutureWarning: Passing (type, 1) or '1type' as a synonym of type is deprecated; in a future version of numpy, it will be understood as (type, (1,)) / '(1,)type'.\n",
      "  _np_qint16 = np.dtype([(\"qint16\", np.int16, 1)])\n",
      "/data/jiahao/translate/py35venv/lib/python3.5/site-packages/tensorflow/python/framework/dtypes.py:519: FutureWarning: Passing (type, 1) or '1type' as a synonym of type is deprecated; in a future version of numpy, it will be understood as (type, (1,)) / '(1,)type'.\n",
      "  _np_quint16 = np.dtype([(\"quint16\", np.uint16, 1)])\n",
      "/data/jiahao/translate/py35venv/lib/python3.5/site-packages/tensorflow/python/framework/dtypes.py:520: FutureWarning: Passing (type, 1) or '1type' as a synonym of type is deprecated; in a future version of numpy, it will be understood as (type, (1,)) / '(1,)type'.\n",
      "  _np_qint32 = np.dtype([(\"qint32\", np.int32, 1)])\n",
      "/data/jiahao/translate/py35venv/lib/python3.5/site-packages/tensorflow/python/framework/dtypes.py:525: FutureWarning: Passing (type, 1) or '1type' as a synonym of type is deprecated; in a future version of numpy, it will be understood as (type, (1,)) / '(1,)type'.\n",
      "  np_resource = np.dtype([(\"resource\", np.ubyte, 1)])\n",
      "/data/jiahao/translate/py35venv/lib/python3.5/site-packages/tensorboard/compat/tensorflow_stub/dtypes.py:541: FutureWarning: Passing (type, 1) or '1type' as a synonym of type is deprecated; in a future version of numpy, it will be understood as (type, (1,)) / '(1,)type'.\n",
      "  _np_qint8 = np.dtype([(\"qint8\", np.int8, 1)])\n",
      "/data/jiahao/translate/py35venv/lib/python3.5/site-packages/tensorboard/compat/tensorflow_stub/dtypes.py:542: FutureWarning: Passing (type, 1) or '1type' as a synonym of type is deprecated; in a future version of numpy, it will be understood as (type, (1,)) / '(1,)type'.\n",
      "  _np_quint8 = np.dtype([(\"quint8\", np.uint8, 1)])\n",
      "/data/jiahao/translate/py35venv/lib/python3.5/site-packages/tensorboard/compat/tensorflow_stub/dtypes.py:543: FutureWarning: Passing (type, 1) or '1type' as a synonym of type is deprecated; in a future version of numpy, it will be understood as (type, (1,)) / '(1,)type'.\n",
      "  _np_qint16 = np.dtype([(\"qint16\", np.int16, 1)])\n",
      "/data/jiahao/translate/py35venv/lib/python3.5/site-packages/tensorboard/compat/tensorflow_stub/dtypes.py:544: FutureWarning: Passing (type, 1) or '1type' as a synonym of type is deprecated; in a future version of numpy, it will be understood as (type, (1,)) / '(1,)type'.\n",
      "  _np_quint16 = np.dtype([(\"quint16\", np.uint16, 1)])\n",
      "/data/jiahao/translate/py35venv/lib/python3.5/site-packages/tensorboard/compat/tensorflow_stub/dtypes.py:545: FutureWarning: Passing (type, 1) or '1type' as a synonym of type is deprecated; in a future version of numpy, it will be understood as (type, (1,)) / '(1,)type'.\n",
      "  _np_qint32 = np.dtype([(\"qint32\", np.int32, 1)])\n",
      "/data/jiahao/translate/py35venv/lib/python3.5/site-packages/tensorboard/compat/tensorflow_stub/dtypes.py:550: FutureWarning: Passing (type, 1) or '1type' as a synonym of type is deprecated; in a future version of numpy, it will be understood as (type, (1,)) / '(1,)type'.\n",
      "  np_resource = np.dtype([(\"resource\", np.ubyte, 1)])\n",
      "Using TensorFlow backend.\n"
     ]
    }
   ],
   "source": [
    "import tensorflow as tf\n",
    "import keras.backend.tensorflow_backend as KTF\n",
    "from keras.backend import ones_like\n",
    "from keras.layers.recurrent import GRU\n",
    "from keras.layers.core import Lambda\n",
    "from keras.optimizers import adam\n",
    "from keras.layers import Conv1D, Dense, Reshape, Concatenate, Flatten, Activation, Dropout,MaxPooling1D\n",
    "from keras.models import Input, Model\n",
    "from keras_self_attention import SeqSelfAttention\n",
    "from keras_multi_head import MultiHeadAttention\n",
    "import numpy as np\n",
    "import os\n",
    "from tensorflow.core.protobuf import rewriter_config_pb2\n",
    "from tensorflow.keras.backend import set_session\n",
    "\n",
    "from keras.callbacks import EarlyStopping\n",
    "\n",
    "os.environ[\"CUDA_VISIBLE_DEVICES\"] = \"2\"\n",
    "tf.keras.backend.clear_session()  # For easy reset of notebook state.\n",
    "\n",
    "config_proto = tf.ConfigProto()\n",
    "off = rewriter_config_pb2.RewriterConfig.OFF\n",
    "config_proto.graph_options.rewrite_options.arithmetic_optimization = off\n",
    "session = tf.Session(config=config_proto)\n",
    "set_session(session)"
   ]
  },
  {
   "cell_type": "code",
   "execution_count": 2,
   "metadata": {},
   "outputs": [],
   "source": [
    "from keras import backend as K\n",
    "from keras.layers import Layer ,Add\n",
    "from keras.layers.core import Lambda\n",
    "\n",
    "def local_context_learning(path_length, input_length, input_dim, output_dim, hidden_dim, filters_num, kernel_val,\n",
    "                           learning_rate, drop_rate):\n",
    "    basic_data_input = Input(shape=(path_length, input_length, input_dim))\n",
    "\n",
    "    basic_input = Reshape((path_length, input_length * input_dim))(basic_data_input)\n",
    "    \n",
    "    GRU_layer = GRU(units=hidden_dim, return_sequences=True)\n",
    "    rnn_output = GRU_layer(basic_input)\n",
    "    Self_1 = SeqSelfAttention(attention_activation='sigmoid')\n",
    "    rnn_att = Self_1(rnn_output)\n",
    "    CNN_layer_1 = Conv1D(filters=filters_num, kernel_size=kernel_val, padding=\"same\")\n",
    "    cnn_output = CNN_layer_1(basic_input)\n",
    "    Dense_1 = Dense(hidden_dim)\n",
    "    cnn_output_reformat = Dense_1(cnn_output)\n",
    "    Self_2 = SeqSelfAttention(attention_activation='sigmoid')\n",
    "    cnn_att = Self_2(cnn_output_reformat)\n",
    "    Conca_1 = Concatenate(axis=1)\n",
    "    new_value = Conca_1([rnn_att, cnn_att])\n",
    "    new_keys = Lambda(lambda x: ones_like(x))(new_value)\n",
    "    Multi_1 = MultiHeadAttention(head_num=2)\n",
    "    new_result = Multi_1([basic_input, new_keys, new_value])\n",
    "    result = Flatten()(new_result)\n",
    "    Drop_1 = Dropout(rate=drop_rate)\n",
    "    result_fix = Drop_1(result)\n",
    "    Dense_2 = Dense(output_dim)\n",
    "    method_vector = Dense_2(result_fix)\n",
    "    method_vector = Reshape((-1, 128))(method_vector)\n",
    "\n",
    "    CNN_layer_2 = Conv1D(filters=filters_num, kernel_size=kernel_val, padding=\"same\")\n",
    "    cnn_output_for_classification = CNN_layer_2(method_vector)\n",
    "    Pool_1 = MaxPooling1D(pool_size=2, padding='same')\n",
    "    pooling_output = Pool_1(cnn_output_for_classification)\n",
    "    output_classification = Flatten()(pooling_output)\n",
    "    Drop_2 = Dropout(rate=drop_rate)\n",
    "    output_classification_fix = Drop_2(output_classification)\n",
    "    Dense_3 = Dense(32, activation='relu')\n",
    "    output_classification_fix = Dense_3(output_classification_fix)\n",
    "    Dense_4 = Dense(16, activation='relu')\n",
    "    output_classification_fix = Dense_4(output_classification_fix)\n",
    "    Dense_5 = Dense(1)\n",
    "    fixed_output_classification = Dense_5(output_classification_fix)\n",
    "    Active_1 = Activation(activation='sigmoid')\n",
    "    stand_output = Active_1(fixed_output_classification)\n",
    "    model = Model(basic_data_input, stand_output)\n",
    "    ada = adam(lr=learning_rate)\n",
    "    model.compile(optimizer=ada, loss='binary_crossentropy', metrics=['accuracy'])\n",
    "\n",
    "    \n",
    "    New_input  = Input(shape=(path_length, input_length, input_dim))\n",
    "    New_input_ = Reshape((path_length, input_length * input_dim))(New_input)\n",
    "    new_test_1 = GRU_layer(New_input_)\n",
    "    new_test_2 = Self_1(new_test_1)\n",
    "    new_test_3 = CNN_layer_1(New_input_)\n",
    "    new_test_4 = Dense_1(new_test_3)\n",
    "    new_test_5 = Self_2(new_test_4)\n",
    "    new_test_6 = Conca_1([new_test_2, new_test_5])\n",
    "    new_test_7 = Lambda(lambda x: ones_like(x))(new_test_6)\n",
    "    new_test_8 = Multi_1([New_input_, new_test_7, new_test_6])\n",
    "    new_test_9 = Flatten()(new_test_8)\n",
    "    new_test_10 = Drop_1(new_test_9)\n",
    "    new_test_11 = Dense_2(new_test_10)\n",
    "    new_test_12 = Reshape((-1, 128))(new_test_11)\n",
    "    new_test_13 = CNN_layer_2(new_test_12)\n",
    "    new_test_14 = Pool_1(new_test_13)\n",
    "    new_test_15 = Flatten()(new_test_14)\n",
    "    new_test_16 = Drop_2(new_test_15)\n",
    "    new_test_17 = Dense_3(new_test_16)\n",
    "    new_test_18 = Dense_4(new_test_17)\n",
    "    new_test_19 = Dense_5(new_test_18)\n",
    "    new_test_20 = Active_1(new_test_19)\n",
    "    model_test = Model(New_input, new_test_20)\n",
    "    return model, model_test"
   ]
  },
  {
   "cell_type": "code",
   "execution_count": 3,
   "metadata": {},
   "outputs": [
    {
     "name": "stdout",
     "output_type": "stream",
     "text": [
      "WARNING:tensorflow:From /data/jiahao/translate/py35venv/lib/python3.5/site-packages/keras/backend/tensorflow_backend.py:4070: The name tf.nn.max_pool is deprecated. Please use tf.nn.max_pool2d instead.\n",
      "\n",
      "WARNING:tensorflow:From /data/jiahao/translate/py35venv/lib/python3.5/site-packages/tensorflow/python/ops/nn_impl.py:180: add_dispatch_support.<locals>.wrapper (from tensorflow.python.ops.array_ops) is deprecated and will be removed in a future version.\n",
      "Instructions for updating:\n",
      "Use tf.where in 2.0, which has the same broadcast rule as np.where\n",
      "Model: \"model_1\"\n",
      "__________________________________________________________________________________________________\n",
      "Layer (type)                    Output Shape         Param #     Connected to                     \n",
      "==================================================================================================\n",
      "input_1 (InputLayer)            (None, 15, 20, 128)  0                                            \n",
      "__________________________________________________________________________________________________\n",
      "reshape_1 (Reshape)             (None, 15, 2560)     0           input_1[0][0]                    \n",
      "__________________________________________________________________________________________________\n",
      "conv1d_1 (Conv1D)               (None, 15, 64)       491584      reshape_1[0][0]                  \n",
      "__________________________________________________________________________________________________\n",
      "gru_1 (GRU)                     (None, 15, 128)      1032576     reshape_1[0][0]                  \n",
      "__________________________________________________________________________________________________\n",
      "dense_1 (Dense)                 (None, 15, 128)      8320        conv1d_1[0][0]                   \n",
      "__________________________________________________________________________________________________\n",
      "seq_self_attention_1 (SeqSelfAt (None, 15, 128)      8257        gru_1[0][0]                      \n",
      "__________________________________________________________________________________________________\n",
      "seq_self_attention_2 (SeqSelfAt (None, 15, 128)      8257        dense_1[0][0]                    \n",
      "__________________________________________________________________________________________________\n",
      "concatenate_1 (Concatenate)     (None, 30, 128)      0           seq_self_attention_1[0][0]       \n",
      "                                                                 seq_self_attention_2[0][0]       \n",
      "__________________________________________________________________________________________________\n",
      "lambda_1 (Lambda)               (None, 30, 128)      0           concatenate_1[0][0]              \n",
      "__________________________________________________________________________________________________\n",
      "multi_head_attention_1 (MultiHe (None, 15, 128)      377344      reshape_1[0][0]                  \n",
      "                                                                 lambda_1[0][0]                   \n",
      "                                                                 concatenate_1[0][0]              \n",
      "__________________________________________________________________________________________________\n",
      "flatten_1 (Flatten)             (None, 1920)         0           multi_head_attention_1[0][0]     \n",
      "__________________________________________________________________________________________________\n",
      "dropout_1 (Dropout)             (None, 1920)         0           flatten_1[0][0]                  \n",
      "__________________________________________________________________________________________________\n",
      "dense_2 (Dense)                 (None, 128)          245888      dropout_1[0][0]                  \n",
      "__________________________________________________________________________________________________\n",
      "reshape_2 (Reshape)             (None, 1, 128)       0           dense_2[0][0]                    \n",
      "__________________________________________________________________________________________________\n",
      "conv1d_2 (Conv1D)               (None, 1, 64)        24640       reshape_2[0][0]                  \n",
      "__________________________________________________________________________________________________\n",
      "max_pooling1d_1 (MaxPooling1D)  (None, 1, 64)        0           conv1d_2[0][0]                   \n",
      "__________________________________________________________________________________________________\n",
      "flatten_2 (Flatten)             (None, 64)           0           max_pooling1d_1[0][0]            \n",
      "__________________________________________________________________________________________________\n",
      "dropout_2 (Dropout)             (None, 64)           0           flatten_2[0][0]                  \n",
      "__________________________________________________________________________________________________\n",
      "dense_3 (Dense)                 (None, 32)           2080        dropout_2[0][0]                  \n",
      "__________________________________________________________________________________________________\n",
      "dense_4 (Dense)                 (None, 16)           528         dense_3[0][0]                    \n",
      "__________________________________________________________________________________________________\n",
      "dense_5 (Dense)                 (None, 1)            17          dense_4[0][0]                    \n",
      "__________________________________________________________________________________________________\n",
      "activation_1 (Activation)       (None, 1)            0           dense_5[0][0]                    \n",
      "==================================================================================================\n",
      "Total params: 2,199,491\n",
      "Trainable params: 2,199,491\n",
      "Non-trainable params: 0\n",
      "__________________________________________________________________________________________________\n"
     ]
    }
   ],
   "source": [
    "model_local, model_local_test = local_context_learning(15, 20, 128, 128, 128, 64, 3, 0.0001, 0.5)\n",
    "model_local.summary()"
   ]
  },
  {
   "cell_type": "code",
   "execution_count": 4,
   "metadata": {},
   "outputs": [],
   "source": [
    "def getting_data(file_path, print_text):\n",
    "    print(\"Loading \" + print_text + \" Data...\")\n",
    "    data = np.load(file_path,allow_pickle = True)\n",
    "    print(\"Done\")\n",
    "    return data"
   ]
  },
  {
   "cell_type": "code",
   "execution_count": 5,
   "metadata": {},
   "outputs": [
    {
     "name": "stdout",
     "output_type": "stream",
     "text": [
      "Loading Input Data...\n",
      "Done\n",
      "Loading Label Data...\n",
      "Done\n",
      "Loading Output Data...\n",
      "Done\n"
     ]
    }
   ],
   "source": [
    "input_data = getting_data(\"./data/local_train_input_combine.npy\", \"Input\")\n",
    "label_data = getting_data(\"./data/local_train_label_combine.npy\", \"Label\")\n",
    "output_data = getting_data(\"./data/local_train_output_combine.npy\", \"Output\")\n",
    "label_data.shape=(-1,15)"
   ]
  },
  {
   "cell_type": "code",
   "execution_count": 6,
   "metadata": {},
   "outputs": [
    {
     "data": {
      "text/plain": [
       "(7151, 15)"
      ]
     },
     "execution_count": 6,
     "metadata": {},
     "output_type": "execute_result"
    }
   ],
   "source": [
    "label_data.shape"
   ]
  },
  {
   "cell_type": "code",
   "execution_count": 7,
   "metadata": {},
   "outputs": [],
   "source": [
    "label_data = np.zeros((7151, 15))"
   ]
  },
  {
   "cell_type": "code",
   "execution_count": 8,
   "metadata": {},
   "outputs": [
    {
     "name": "stdout",
     "output_type": "stream",
     "text": [
      "Loading Input Data...\n",
      "Done\n",
      "Loading Label Data...\n",
      "Done\n",
      "Loading Output Data...\n",
      "Done\n"
     ]
    }
   ],
   "source": [
    "v_input_data = getting_data(\"./data/local_val_input_combine.npy\", \"Input\")\n",
    "v_label_data = getting_data(\"./data/local_val_label_combine.npy\", \"Label\")\n",
    "v_output_data = getting_data(\"./data/local_val_output_combine.npy\", \"Output\")\n",
    "v_label_data.shape=(-1,15)"
   ]
  },
  {
   "cell_type": "code",
   "execution_count": 9,
   "metadata": {},
   "outputs": [
    {
     "data": {
      "text/plain": [
       "(2388, 15)"
      ]
     },
     "execution_count": 9,
     "metadata": {},
     "output_type": "execute_result"
    }
   ],
   "source": [
    "v_label_data.shape"
   ]
  },
  {
   "cell_type": "code",
   "execution_count": 10,
   "metadata": {},
   "outputs": [],
   "source": [
    "v_label_data = np.zeros((2388, 15))"
   ]
  },
  {
   "cell_type": "code",
   "execution_count": 11,
   "metadata": {},
   "outputs": [
    {
     "name": "stdout",
     "output_type": "stream",
     "text": [
      "Training Local Context Model...\n",
      "WARNING:tensorflow:From /data/jiahao/translate/py35venv/lib/python3.5/site-packages/keras/backend/tensorflow_backend.py:422: The name tf.global_variables is deprecated. Please use tf.compat.v1.global_variables instead.\n",
      "\n",
      "Train on 7151 samples, validate on 2388 samples\n",
      "Epoch 1/100\n",
      "7151/7151 [==============================] - 9s 1ms/step - loss: 0.6926 - accuracy: 0.5327 - val_loss: 0.6896 - val_accuracy: 0.5360\n",
      "Epoch 2/100\n",
      "7151/7151 [==============================] - 7s 1ms/step - loss: 0.6842 - accuracy: 0.5641 - val_loss: 0.6679 - val_accuracy: 0.6160\n",
      "Epoch 3/100\n",
      "7151/7151 [==============================] - 7s 979us/step - loss: 0.6616 - accuracy: 0.6069 - val_loss: 0.6432 - val_accuracy: 0.6386\n",
      "Epoch 4/100\n",
      "7151/7151 [==============================] - 7s 988us/step - loss: 0.6458 - accuracy: 0.6343 - val_loss: 0.6406 - val_accuracy: 0.6415\n",
      "Epoch 5/100\n",
      "7151/7151 [==============================] - 7s 994us/step - loss: 0.6384 - accuracy: 0.6504 - val_loss: 0.6383 - val_accuracy: 0.6327\n",
      "Epoch 6/100\n",
      "7151/7151 [==============================] - 7s 1ms/step - loss: 0.6338 - accuracy: 0.6479 - val_loss: 0.6267 - val_accuracy: 0.6528\n",
      "Epoch 7/100\n",
      "7151/7151 [==============================] - 7s 994us/step - loss: 0.6175 - accuracy: 0.6703 - val_loss: 0.6213 - val_accuracy: 0.6650\n",
      "Epoch 8/100\n",
      "7151/7151 [==============================] - 7s 981us/step - loss: 0.6042 - accuracy: 0.6784 - val_loss: 0.6169 - val_accuracy: 0.6595\n",
      "Epoch 9/100\n",
      "7151/7151 [==============================] - 7s 1ms/step - loss: 0.6007 - accuracy: 0.6798 - val_loss: 0.6355 - val_accuracy: 0.6248\n",
      "Epoch 10/100\n",
      "7151/7151 [==============================] - 7s 981us/step - loss: 0.5841 - accuracy: 0.6894 - val_loss: 0.6103 - val_accuracy: 0.6704\n",
      "Epoch 11/100\n",
      "7151/7151 [==============================] - 7s 988us/step - loss: 0.5742 - accuracy: 0.7013 - val_loss: 0.6227 - val_accuracy: 0.6709\n",
      "Epoch 12/100\n",
      "7151/7151 [==============================] - 7s 997us/step - loss: 0.5829 - accuracy: 0.6854 - val_loss: 0.6067 - val_accuracy: 0.6792\n",
      "Epoch 13/100\n",
      "7151/7151 [==============================] - 7s 988us/step - loss: 0.5684 - accuracy: 0.7037 - val_loss: 0.6073 - val_accuracy: 0.6788\n",
      "Epoch 14/100\n",
      "7151/7151 [==============================] - 7s 965us/step - loss: 0.5552 - accuracy: 0.7114 - val_loss: 0.6132 - val_accuracy: 0.6746\n",
      "Epoch 15/100\n",
      "7151/7151 [==============================] - 7s 971us/step - loss: 0.5427 - accuracy: 0.7263 - val_loss: 0.6163 - val_accuracy: 0.6792\n",
      "Epoch 16/100\n",
      "7151/7151 [==============================] - 7s 980us/step - loss: 0.5346 - accuracy: 0.7302 - val_loss: 0.6224 - val_accuracy: 0.6826\n",
      "Epoch 17/100\n",
      "7151/7151 [==============================] - 7s 986us/step - loss: 0.5311 - accuracy: 0.7332 - val_loss: 0.6133 - val_accuracy: 0.6843\n",
      "Epoch 18/100\n",
      "7151/7151 [==============================] - 7s 989us/step - loss: 0.5216 - accuracy: 0.7410 - val_loss: 0.6185 - val_accuracy: 0.6834\n",
      "Epoch 19/100\n",
      "7151/7151 [==============================] - 7s 984us/step - loss: 0.5067 - accuracy: 0.7490 - val_loss: 0.6165 - val_accuracy: 0.6792\n",
      "Epoch 20/100\n",
      "7151/7151 [==============================] - 7s 1000us/step - loss: 0.4981 - accuracy: 0.7577 - val_loss: 0.6275 - val_accuracy: 0.6905\n",
      "Epoch 21/100\n",
      "7151/7151 [==============================] - 7s 988us/step - loss: 0.4900 - accuracy: 0.7577 - val_loss: 0.6429 - val_accuracy: 0.6851\n",
      "Epoch 22/100\n",
      "7151/7151 [==============================] - 7s 982us/step - loss: 0.4954 - accuracy: 0.7560 - val_loss: 0.6283 - val_accuracy: 0.6935\n",
      "Epoch 23/100\n",
      "7151/7151 [==============================] - 7s 974us/step - loss: 0.4799 - accuracy: 0.7649 - val_loss: 0.6540 - val_accuracy: 0.6805\n",
      "Epoch 24/100\n",
      "7151/7151 [==============================] - 7s 990us/step - loss: 0.4722 - accuracy: 0.7729 - val_loss: 0.6575 - val_accuracy: 0.6851\n",
      "Epoch 25/100\n",
      "7151/7151 [==============================] - 7s 971us/step - loss: 0.4837 - accuracy: 0.7612 - val_loss: 0.6419 - val_accuracy: 0.6930\n",
      "Epoch 26/100\n",
      "7151/7151 [==============================] - 7s 1ms/step - loss: 0.4677 - accuracy: 0.7714 - val_loss: 0.6545 - val_accuracy: 0.6943\n",
      "Epoch 27/100\n",
      "7151/7151 [==============================] - 7s 995us/step - loss: 0.4414 - accuracy: 0.7893 - val_loss: 0.6596 - val_accuracy: 0.6935\n",
      "Epoch 28/100\n",
      "7151/7151 [==============================] - 7s 982us/step - loss: 0.4445 - accuracy: 0.7895 - val_loss: 0.6768 - val_accuracy: 0.6822\n",
      "Epoch 29/100\n",
      "7151/7151 [==============================] - 7s 977us/step - loss: 0.4351 - accuracy: 0.7928 - val_loss: 0.6722 - val_accuracy: 0.6897\n",
      "Epoch 30/100\n",
      "7151/7151 [==============================] - 7s 999us/step - loss: 0.4314 - accuracy: 0.7986 - val_loss: 0.7369 - val_accuracy: 0.6859\n",
      "Epoch 31/100\n",
      "7151/7151 [==============================] - 7s 994us/step - loss: 0.4220 - accuracy: 0.7995 - val_loss: 0.7065 - val_accuracy: 0.6977\n",
      "Epoch 32/100\n",
      "7151/7151 [==============================] - 7s 988us/step - loss: 0.4160 - accuracy: 0.8018 - val_loss: 0.7370 - val_accuracy: 0.6880\n",
      "Epoch 33/100\n",
      "7151/7151 [==============================] - 7s 982us/step - loss: 0.4122 - accuracy: 0.8038 - val_loss: 0.7212 - val_accuracy: 0.6897\n",
      "Epoch 34/100\n",
      "7151/7151 [==============================] - 7s 982us/step - loss: 0.4099 - accuracy: 0.8038 - val_loss: 0.7301 - val_accuracy: 0.6830\n",
      "Epoch 35/100\n",
      "7151/7151 [==============================] - 7s 991us/step - loss: 0.4212 - accuracy: 0.7974 - val_loss: 0.6778 - val_accuracy: 0.6977\n",
      "Epoch 36/100\n",
      "7151/7151 [==============================] - 7s 977us/step - loss: 0.3948 - accuracy: 0.8174 - val_loss: 0.7569 - val_accuracy: 0.7048\n",
      "Epoch 37/100\n",
      "7151/7151 [==============================] - 7s 985us/step - loss: 0.3888 - accuracy: 0.8178 - val_loss: 0.7437 - val_accuracy: 0.6939\n",
      "Epoch 38/100\n",
      "7151/7151 [==============================] - 7s 996us/step - loss: 0.3720 - accuracy: 0.8260 - val_loss: 0.8256 - val_accuracy: 0.6943\n",
      "Epoch 39/100\n",
      "7151/7151 [==============================] - 7s 983us/step - loss: 0.3910 - accuracy: 0.8168 - val_loss: 0.7449 - val_accuracy: 0.6759\n",
      "Epoch 40/100\n",
      "7151/7151 [==============================] - 7s 981us/step - loss: 0.3808 - accuracy: 0.8167 - val_loss: 0.7953 - val_accuracy: 0.6981\n",
      "Epoch 41/100\n",
      "7151/7151 [==============================] - 7s 971us/step - loss: 0.3656 - accuracy: 0.8323 - val_loss: 0.7700 - val_accuracy: 0.6947\n",
      "Epoch 42/100\n",
      "7151/7151 [==============================] - 7s 983us/step - loss: 0.3549 - accuracy: 0.8362 - val_loss: 0.8208 - val_accuracy: 0.6930\n",
      "Epoch 43/100\n",
      "7151/7151 [==============================] - 7s 1ms/step - loss: 0.3466 - accuracy: 0.8385 - val_loss: 0.8525 - val_accuracy: 0.6876\n",
      "Epoch 44/100\n",
      "7151/7151 [==============================] - 7s 999us/step - loss: 0.3865 - accuracy: 0.8195 - val_loss: 0.8543 - val_accuracy: 0.6914\n",
      "Epoch 45/100\n",
      "7151/7151 [==============================] - 7s 986us/step - loss: 0.3822 - accuracy: 0.8176 - val_loss: 0.7669 - val_accuracy: 0.6905\n",
      "Epoch 46/100\n",
      "7151/7151 [==============================] - 7s 982us/step - loss: 0.3470 - accuracy: 0.8393 - val_loss: 0.8052 - val_accuracy: 0.6985\n",
      "Epoch 47/100\n",
      "7151/7151 [==============================] - 7s 982us/step - loss: 0.3314 - accuracy: 0.8511 - val_loss: 0.8616 - val_accuracy: 0.6943\n",
      "Epoch 48/100\n",
      "7151/7151 [==============================] - 7s 976us/step - loss: 0.3438 - accuracy: 0.8411 - val_loss: 0.8443 - val_accuracy: 0.6993\n",
      "Epoch 49/100\n",
      "7151/7151 [==============================] - 7s 986us/step - loss: 0.3249 - accuracy: 0.8507 - val_loss: 0.8950 - val_accuracy: 0.6943\n",
      "Epoch 50/100\n",
      "7151/7151 [==============================] - 7s 1ms/step - loss: 0.3137 - accuracy: 0.8611 - val_loss: 0.9578 - val_accuracy: 0.6951\n",
      "Epoch 51/100\n",
      "7151/7151 [==============================] - 7s 987us/step - loss: 0.3312 - accuracy: 0.8460 - val_loss: 0.8986 - val_accuracy: 0.6901\n",
      "Epoch 52/100\n",
      "7151/7151 [==============================] - 7s 1ms/step - loss: 0.3218 - accuracy: 0.8533 - val_loss: 0.8949 - val_accuracy: 0.7002\n",
      "Epoch 53/100\n",
      "7151/7151 [==============================] - 9s 1ms/step - loss: 0.3035 - accuracy: 0.8611 - val_loss: 0.9513 - val_accuracy: 0.6968\n",
      "Epoch 54/100\n"
     ]
    },
    {
     "name": "stdout",
     "output_type": "stream",
     "text": [
      "7151/7151 [==============================] - 8s 1ms/step - loss: 0.3300 - accuracy: 0.8491 - val_loss: 0.9015 - val_accuracy: 0.7014\n",
      "Epoch 55/100\n",
      "7151/7151 [==============================] - 9s 1ms/step - loss: 0.3071 - accuracy: 0.8596 - val_loss: 0.9832 - val_accuracy: 0.6893\n",
      "Epoch 56/100\n",
      "7151/7151 [==============================] - 9s 1ms/step - loss: 0.3273 - accuracy: 0.8472 - val_loss: 1.0531 - val_accuracy: 0.6855\n",
      "Epoch 57/100\n",
      "7151/7151 [==============================] - 9s 1ms/step - loss: 0.3078 - accuracy: 0.8547 - val_loss: 0.9421 - val_accuracy: 0.6822\n",
      "Epoch 58/100\n",
      "7151/7151 [==============================] - 9s 1ms/step - loss: 0.2936 - accuracy: 0.8630 - val_loss: 0.9946 - val_accuracy: 0.6905\n",
      "Epoch 59/100\n",
      "7151/7151 [==============================] - 9s 1ms/step - loss: 0.2857 - accuracy: 0.8666 - val_loss: 1.0131 - val_accuracy: 0.6947\n",
      "Epoch 60/100\n",
      "7151/7151 [==============================] - 9s 1ms/step - loss: 0.3010 - accuracy: 0.8617 - val_loss: 1.0502 - val_accuracy: 0.6863\n",
      "Epoch 61/100\n",
      "7151/7151 [==============================] - 9s 1ms/step - loss: 0.2800 - accuracy: 0.8706 - val_loss: 1.0758 - val_accuracy: 0.6993\n",
      "Epoch 62/100\n",
      "7151/7151 [==============================] - 11s 1ms/step - loss: 0.2677 - accuracy: 0.8789 - val_loss: 1.0771 - val_accuracy: 0.7060\n",
      "Epoch 63/100\n",
      "7151/7151 [==============================] - 11s 2ms/step - loss: 0.2770 - accuracy: 0.8705 - val_loss: 1.1218 - val_accuracy: 0.7035\n",
      "Epoch 64/100\n",
      "7151/7151 [==============================] - 11s 2ms/step - loss: 0.2703 - accuracy: 0.8768 - val_loss: 1.0795 - val_accuracy: 0.6826\n",
      "Epoch 65/100\n",
      "7151/7151 [==============================] - 11s 2ms/step - loss: 0.2868 - accuracy: 0.8694 - val_loss: 1.2465 - val_accuracy: 0.6813\n",
      "Epoch 66/100\n",
      "7151/7151 [==============================] - 11s 2ms/step - loss: 0.2878 - accuracy: 0.8705 - val_loss: 1.0877 - val_accuracy: 0.6822\n",
      "Epoch 67/100\n",
      "7151/7151 [==============================] - 11s 2ms/step - loss: 0.2666 - accuracy: 0.8788 - val_loss: 1.0855 - val_accuracy: 0.6914\n",
      "Epoch 68/100\n",
      "7151/7151 [==============================] - 11s 2ms/step - loss: 0.2500 - accuracy: 0.8887 - val_loss: 1.1696 - val_accuracy: 0.6901\n",
      "Epoch 69/100\n",
      "7151/7151 [==============================] - 11s 2ms/step - loss: 0.2629 - accuracy: 0.8803 - val_loss: 1.0996 - val_accuracy: 0.6642\n",
      "Epoch 70/100\n",
      "7151/7151 [==============================] - 13s 2ms/step - loss: 0.2541 - accuracy: 0.8864 - val_loss: 1.1441 - val_accuracy: 0.6910\n",
      "Epoch 71/100\n",
      "7151/7151 [==============================] - 12s 2ms/step - loss: 0.2617 - accuracy: 0.8804 - val_loss: 1.1063 - val_accuracy: 0.6901\n",
      "Epoch 72/100\n",
      "7151/7151 [==============================] - 13s 2ms/step - loss: 0.2559 - accuracy: 0.8824 - val_loss: 1.1948 - val_accuracy: 0.7014\n",
      "Epoch 73/100\n",
      "7151/7151 [==============================] - 13s 2ms/step - loss: 0.2536 - accuracy: 0.8869 - val_loss: 1.1455 - val_accuracy: 0.6981\n",
      "Epoch 74/100\n",
      "7151/7151 [==============================] - 12s 2ms/step - loss: 0.2553 - accuracy: 0.8820 - val_loss: 1.1958 - val_accuracy: 0.6910\n",
      "Epoch 75/100\n",
      "7151/7151 [==============================] - 13s 2ms/step - loss: 0.2457 - accuracy: 0.8869 - val_loss: 1.1745 - val_accuracy: 0.6943\n",
      "Epoch 76/100\n",
      "7151/7151 [==============================] - 13s 2ms/step - loss: 0.2350 - accuracy: 0.8918 - val_loss: 1.2312 - val_accuracy: 0.6997\n",
      "Epoch 77/100\n",
      "7151/7151 [==============================] - 12s 2ms/step - loss: 0.2452 - accuracy: 0.8869 - val_loss: 1.1878 - val_accuracy: 0.6981\n",
      "Epoch 78/100\n",
      "7151/7151 [==============================] - 12s 2ms/step - loss: 0.2624 - accuracy: 0.8779 - val_loss: 1.2342 - val_accuracy: 0.6604\n",
      "Epoch 79/100\n",
      "7151/7151 [==============================] - 12s 2ms/step - loss: 0.2606 - accuracy: 0.8776 - val_loss: 1.2540 - val_accuracy: 0.6767\n",
      "Epoch 80/100\n",
      "7151/7151 [==============================] - 13s 2ms/step - loss: 0.2569 - accuracy: 0.8809 - val_loss: 1.1373 - val_accuracy: 0.6843\n",
      "Epoch 81/100\n",
      "7151/7151 [==============================] - 12s 2ms/step - loss: 0.2453 - accuracy: 0.8858 - val_loss: 1.1506 - val_accuracy: 0.6838\n",
      "Epoch 82/100\n",
      "7151/7151 [==============================] - 12s 2ms/step - loss: 0.2370 - accuracy: 0.8920 - val_loss: 1.2823 - val_accuracy: 0.6801\n",
      "Epoch 83/100\n",
      "7151/7151 [==============================] - 12s 2ms/step - loss: 0.2241 - accuracy: 0.8961 - val_loss: 1.3191 - val_accuracy: 0.6985\n",
      "Epoch 84/100\n",
      "7151/7151 [==============================] - 12s 2ms/step - loss: 0.2189 - accuracy: 0.9011 - val_loss: 1.4389 - val_accuracy: 0.6755\n",
      "Epoch 85/100\n",
      "7151/7151 [==============================] - 12s 2ms/step - loss: 0.2192 - accuracy: 0.8971 - val_loss: 1.3990 - val_accuracy: 0.6905\n",
      "Epoch 86/100\n",
      "7151/7151 [==============================] - 12s 2ms/step - loss: 0.2162 - accuracy: 0.9020 - val_loss: 1.3447 - val_accuracy: 0.6943\n",
      "Epoch 87/100\n",
      "7151/7151 [==============================] - 12s 2ms/step - loss: 0.2088 - accuracy: 0.9041 - val_loss: 1.3698 - val_accuracy: 0.6922\n",
      "Epoch 88/100\n",
      "7151/7151 [==============================] - 12s 2ms/step - loss: 0.2232 - accuracy: 0.8965 - val_loss: 1.2908 - val_accuracy: 0.6935\n",
      "Epoch 89/100\n",
      "7151/7151 [==============================] - 12s 2ms/step - loss: 0.2364 - accuracy: 0.8884 - val_loss: 1.4223 - val_accuracy: 0.6901\n",
      "Epoch 90/100\n",
      "7151/7151 [==============================] - 13s 2ms/step - loss: 0.2210 - accuracy: 0.8996 - val_loss: 1.2837 - val_accuracy: 0.6997\n",
      "Epoch 91/100\n",
      "7151/7151 [==============================] - 12s 2ms/step - loss: 0.2171 - accuracy: 0.9020 - val_loss: 1.3498 - val_accuracy: 0.6863\n",
      "Epoch 92/100\n",
      "7151/7151 [==============================] - 12s 2ms/step - loss: 0.2037 - accuracy: 0.9062 - val_loss: 1.4061 - val_accuracy: 0.6822\n",
      "Epoch 93/100\n",
      "7151/7151 [==============================] - 13s 2ms/step - loss: 0.2059 - accuracy: 0.9055 - val_loss: 1.4620 - val_accuracy: 0.6972\n",
      "Epoch 94/100\n",
      "7151/7151 [==============================] - 12s 2ms/step - loss: 0.2045 - accuracy: 0.9043 - val_loss: 1.4561 - val_accuracy: 0.6930\n",
      "Epoch 95/100\n",
      "7151/7151 [==============================] - 12s 2ms/step - loss: 0.1995 - accuracy: 0.9092 - val_loss: 1.5022 - val_accuracy: 0.6926\n",
      "Epoch 96/100\n",
      "7151/7151 [==============================] - 12s 2ms/step - loss: 0.2098 - accuracy: 0.9041 - val_loss: 1.4604 - val_accuracy: 0.6914\n",
      "Epoch 97/100\n",
      "7151/7151 [==============================] - 12s 2ms/step - loss: 0.2048 - accuracy: 0.9016 - val_loss: 1.4512 - val_accuracy: 0.6985\n",
      "Epoch 98/100\n",
      "7151/7151 [==============================] - 12s 2ms/step - loss: 0.1965 - accuracy: 0.9092 - val_loss: 1.5760 - val_accuracy: 0.6910\n",
      "Epoch 99/100\n",
      "7151/7151 [==============================] - 12s 2ms/step - loss: 0.1994 - accuracy: 0.9055 - val_loss: 1.4545 - val_accuracy: 0.6734\n",
      "Epoch 100/100\n",
      "7151/7151 [==============================] - 13s 2ms/step - loss: 0.2119 - accuracy: 0.8999 - val_loss: 1.3759 - val_accuracy: 0.6843\n"
     ]
    },
    {
     "data": {
      "text/plain": [
       "<keras.callbacks.callbacks.History at 0x7fc0e81e6ac8>"
      ]
     },
     "execution_count": 11,
     "metadata": {},
     "output_type": "execute_result"
    }
   ],
   "source": [
    "print(\"Training Local Context Model...\")\n",
    "model_local.fit(input_data, output_data, batch_size=256, epochs=100,validation_data=(v_input_data, v_output_data))"
   ]
  },
  {
   "cell_type": "code",
   "execution_count": 12,
   "metadata": {},
   "outputs": [],
   "source": [
    "model_local.save('model_combine_train.h5')\n",
    "model_local_test.save('model_combine_test.h5')"
   ]
  },
  {
   "cell_type": "code",
   "execution_count": 13,
   "metadata": {},
   "outputs": [
    {
     "name": "stdout",
     "output_type": "stream",
     "text": [
      "Loading Input Data...\n",
      "Done\n",
      "Loading Output Data...\n",
      "Done\n"
     ]
    }
   ],
   "source": [
    "t_input_data = getting_data(\"./data/local_test_input_combine.npy\", \"Input\")\n",
    "t_output_data = getting_data(\"./data/local_test_output_combine.npy\", \"Output\")"
   ]
  },
  {
   "cell_type": "code",
   "execution_count": 14,
   "metadata": {},
   "outputs": [],
   "source": [
    "from sklearn import metrics\n",
    "import matplotlib\n",
    "import matplotlib.pyplot as plt\n",
    "import pandas as pd\n",
    "import seaborn as sns"
   ]
  },
  {
   "cell_type": "code",
   "execution_count": 15,
   "metadata": {},
   "outputs": [],
   "source": [
    "y_predict = model_local_test.predict(t_input_data)"
   ]
  },
  {
   "cell_type": "code",
   "execution_count": 16,
   "metadata": {},
   "outputs": [
    {
     "data": {
      "image/png": "[encoded data removed]",
      "text/plain": [
       "<Figure size 576x360 with 2 Axes>"
      ]
     },
     "metadata": {
      "needs_background": "light"
     },
     "output_type": "display_data"
    }
   ],
   "source": [
    "confusion_matrix = pd.DataFrame(\n",
    "    data=metrics.confusion_matrix(t_output_data, np.rint(y_predict)),\n",
    ")\n",
    "\n",
    "confusion_figure, confusion_axes = matplotlib.pyplot.subplots()\n",
    "confusion_figure.set_size_inches(8, 5)\n",
    "confusion_axes.set_title(\n",
    "    'Confusion matrix showing the frequency of \\n'\n",
    "    'correct and incorrect bug classification predictions.'\n",
    "    '\\n\\n'  # hack to avoid overlap with x-axis labels below\n",
    ")\n",
    "confusion_axes.xaxis.tick_top()  # move x-axis labels to top of matrix\n",
    "_ = sns.heatmap(\n",
    "    confusion_matrix,\n",
    "    annot=True,\n",
    "    fmt=\"d\",\n",
    "    cmap=sns.color_palette(\"Blues\"),\n",
    "    vmin=0,\n",
    "    ax=confusion_axes,\n",
    ")"
   ]
  },
  {
   "cell_type": "code",
   "execution_count": 17,
   "metadata": {},
   "outputs": [],
   "source": [
    "from sklearn.metrics import  auc, roc_curve, precision_recall_curve, matthews_corrcoef, f1_score, roc_auc_score\n",
    "fpr_keras, tpr_keras, thresholds_keras = roc_curve(t_output_data, y_predict)\n",
    "precision, recall, thresholds = precision_recall_curve(t_output_data, y_predict)"
   ]
  },
  {
   "cell_type": "code",
   "execution_count": 18,
   "metadata": {},
   "outputs": [],
   "source": [
    "import matplotlib.pyplot as plt\n",
    "\n",
    "auc_keras = auc(fpr_keras, tpr_keras)\n",
    "roc_auc = roc_auc_score(t_output_data, y_predict)\n",
    "pr_auc = auc(recall, precision)\n",
    "f1 = f1_score(t_output_data, np.rint(y_predict))\n",
    "mcc = matthews_corrcoef(t_output_data, np.rint(y_predict))"
   ]
  },
  {
   "cell_type": "code",
   "execution_count": 19,
   "metadata": {},
   "outputs": [
    {
     "name": "stdout",
     "output_type": "stream",
     "text": [
      "PR AUC: 0.697\n",
      "ROC AUC: 0.715\n",
      "MCC: 0.324\n",
      "F1: 0.647\n"
     ]
    }
   ],
   "source": [
    "print('PR AUC: %.3f' % pr_auc)\n",
    "print('ROC AUC: %.3f' % roc_auc)\n",
    "print('MCC: %.3f' % mcc)\n",
    "print('F1: %.3f' % f1)"
   ]
  },
  {
   "cell_type": "code",
   "execution_count": 20,
   "metadata": {},
   "outputs": [
    {
     "data": {
      "image/png": "[encoded data removed]",
      "text/plain": [
       "<Figure size 432x288 with 1 Axes>"
      ]
     },
     "metadata": {
      "needs_background": "light"
     },
     "output_type": "display_data"
    }
   ],
   "source": [
    "plt.plot(fpr_keras, tpr_keras, label='Keras (area = {:.3f})'.format(auc_keras))\n",
    "plt.xlabel('False positive rate')\n",
    "plt.ylabel('True positive rate')\n",
    "plt.title('ROC curve')\n",
    "plt.legend(loc='best')\n",
    "plt.show()"
   ]
  },
  {
   "cell_type": "code",
   "execution_count": 21,
   "metadata": {},
   "outputs": [],
   "source": [
    "tn, fp, fn, tp = metrics.confusion_matrix(\n",
    "    t_output_data.astype(int), \n",
    "    np.rint(y_predict)\n",
    ").flatten().tolist()\n",
    "\n",
    "fpr_nn = fp/(fp+tp)\n",
    "fnr_nn = fn/(fn+tn)\n",
    "r = tp/(tp+fn)\n",
    "p = tp/(tp+fp)\n",
    "f = (2*p*r)/(p+r)\n",
    "acc = (tp+tn)/(tp+fp+fn+tn)"
   ]
  },
  {
   "cell_type": "code",
   "execution_count": 22,
   "metadata": {},
   "outputs": [
    {
     "name": "stdout",
     "output_type": "stream",
     "text": [
      "fpr_nn 0.3708154506437768\n",
      "fnr_nn 0.30583333333333335\n",
      "r 0.6663636363636364\n",
      "p 0.6291845493562231\n",
      "f 0.6472406181015452\n",
      "acc 0.6621564482029598\n"
     ]
    }
   ],
   "source": [
    "print(\"fpr_nn\",fpr_nn)\n",
    "print(\"fnr_nn\",fnr_nn)\n",
    "print(\"r\",r)\n",
    "print(\"p\",p)\n",
    "print(\"f\",f)\n",
    "print(\"acc\",acc)"
   ]
  },
  {
   "cell_type": "code",
   "execution_count": 23,
   "metadata": {},
   "outputs": [
    {
     "name": "stdout",
     "output_type": "stream",
     "text": [
      "0.6881818181818182 0.6174551386623165 0.6509028374892519 0.6566596194503171 [0.39142323]\n",
      "0.8654545454545455 0.5357343837929094 0.6618004866180048 0.588583509513742 [0.04893702]\n",
      "0.8427272727272728 0.5456150676868746 0.662379421221865 0.6004228329809725 [0.0775069]\n",
      "0.8172727272727273 0.5573465592064476 0.6627349797272393 0.6131078224101479 [0.15370578]\n",
      "0.7809090909090909 0.5792312879298719 0.6651180797522261 0.6342494714587738 [0.34369665]\n",
      "0.7772727272727272 0.5816326530612245 0.6653696498054474 0.6363636363636364 [0.3738847]\n",
      "0.7854545454545454 0.5775401069518716 0.6656394453004623 0.6329809725158563 [0.31171745]\n",
      "0.7836363636363637 0.5789120214909335 0.6658941676322905 0.6342494714587738 [0.32762176]\n",
      "0.7827272727272727 0.5797979797979798 0.6661508704061896 0.6350951374207188 [0.33876258]\n"
     ]
    }
   ],
   "source": [
    "best_f1 = 0\n",
    "for predict in y_predict:\n",
    "    predict_after_threshold = np.int64(y_predict>predict)\n",
    "    tn, fp, fn, tp = metrics.confusion_matrix(\n",
    "        t_output_data.astype(int), \n",
    "        predict_after_threshold\n",
    "    ).flatten().tolist()\n",
    "    try:\n",
    "        fpr_nn = fp/(fp+tp)\n",
    "        fnr_nn = fn/(fn+tn)\n",
    "        r = tp/(tp+fn)\n",
    "        p = tp/(tp+fp)\n",
    "        f = (2*p*r)/(p+r)\n",
    "        acc = (tp+tn)/(tp+fp+fn+tn)\n",
    "    except:\n",
    "        continue\n",
    "    if f>best_f1:\n",
    "        best_f1 = f\n",
    "        print(r,p,f,acc,predict)"
   ]
  },
  {
   "cell_type": "code",
   "execution_count": 24,
   "metadata": {},
   "outputs": [
    {
     "name": "stdout",
     "output_type": "stream",
     "text": [
      "0.6881818181818182 0.6174551386623165 0.6509028374892519 0.6566596194503171 [0.39142323]\n",
      "0.8654545454545455 0.5357343837929094 0.6618004866180048 0.588583509513742 [0.04893702]\n",
      "0.9218181818181819 0.5039761431411531 0.6516709511568124 0.5416490486257928 [0.00316504]\n",
      "0.94 0.49191246431969554 0.6458463460337289 0.5205073995771671 [0.00079352]\n",
      "0.9409090909090909 0.4907539118065434 0.6450607665939545 0.5183932346723045 [0.00071621]\n",
      "0.9881818181818182 0.47322594688724423 0.6399764498086546 0.4828752642706131 [1.4007092e-06]\n",
      "0.99 0.4714285714285714 0.6387096774193549 0.4790697674418605 [5.066395e-07]\n",
      "0.9927272727272727 0.46806686669524217 0.6361782697349257 0.4718816067653277 [0.]\n"
     ]
    }
   ],
   "source": [
    "best_r = 0\n",
    "for predict in y_predict:\n",
    "    predict_after_threshold = np.int64(y_predict>predict)\n",
    "    tn, fp, fn, tp = metrics.confusion_matrix(\n",
    "        t_output_data.astype(int), \n",
    "        predict_after_threshold\n",
    "    ).flatten().tolist()\n",
    "    try:\n",
    "        fpr_nn = fp/(fp+tp)\n",
    "        fnr_nn = fn/(fn+tn)\n",
    "        r = tp/(tp+fn)\n",
    "        p = tp/(tp+fp)\n",
    "        f = (2*p*r)/(p+r)\n",
    "        acc = (tp+tn)/(tp+fp+fn+tn)\n",
    "    except:\n",
    "        continue\n",
    "    if r>best_r:\n",
    "        best_r = r\n",
    "        print(r,p,f,acc,predict)"
   ]
  },
  {
   "cell_type": "code",
   "execution_count": 25,
   "metadata": {},
   "outputs": [
    {
     "name": "stdout",
     "output_type": "stream",
     "text": [
      "0.6881818181818182 0.6174551386623165 0.6509028374892519 0.6566596194503171 [0.39142323]\n",
      "0.6472727272727272 0.656221198156682 0.6517162471395881 0.6782241014799154 [0.6366209]\n",
      "0.639090909090909 0.6600938967136151 0.6494226327944572 0.6790697674418604 [0.6807126]\n",
      "0.6236363636363637 0.6666666666666666 0.6444340065758573 0.6799154334038054 [0.7333102]\n",
      "0.6263636363636363 0.6663442940038685 0.6457357075913777 0.680338266384778 [0.73074883]\n",
      "0.6290909090909091 0.6666666666666666 0.64733395696913 0.681183932346723 [0.7243991]\n",
      "0.6290909090909091 0.6673095467695275 0.6476368741226017 0.6816067653276956 [0.7284264]\n"
     ]
    }
   ],
   "source": [
    "best_a = 0\n",
    "for predict in y_predict:\n",
    "    predict_after_threshold = np.int64(y_predict>predict)\n",
    "    tn, fp, fn, tp = metrics.confusion_matrix(\n",
    "        t_output_data.astype(int), \n",
    "        predict_after_threshold\n",
    "    ).flatten().tolist()\n",
    "    try:\n",
    "        fpr_nn = fp/(fp+tp)\n",
    "        fnr_nn = fn/(fn+tn)\n",
    "        r = tp/(tp+fn)\n",
    "        p = tp/(tp+fp)\n",
    "        f = (2*p*r)/(p+r)\n",
    "        acc = (tp+tn)/(tp+fp+fn+tn)\n",
    "    except:\n",
    "        continue\n",
    "    if acc>best_a:\n",
    "        best_a = acc\n",
    "        print(r,p,f,acc,predict)"
   ]
  },
  {
   "cell_type": "markdown",
   "metadata": {},
   "source": [
    "# imbalance testing"
   ]
  },
  {
   "cell_type": "code",
   "execution_count": 26,
   "metadata": {},
   "outputs": [
    {
     "name": "stdout",
     "output_type": "stream",
     "text": [
      "Loading Input Data...\n",
      "Done\n",
      "Loading Output Data...\n",
      "Done\n"
     ]
    }
   ],
   "source": [
    "im_t_input_data = getting_data(\"./data/local_im_test_input_combine.npy\", \"Input\")\n",
    "im_t_output_data = getting_data(\"./data/local_im_test_output_combine.npy\", \"Output\")"
   ]
  },
  {
   "cell_type": "code",
   "execution_count": 27,
   "metadata": {},
   "outputs": [],
   "source": [
    "y_im_predict = model_local_test.predict(im_t_input_data)"
   ]
  },
  {
   "cell_type": "code",
   "execution_count": 28,
   "metadata": {},
   "outputs": [
    {
     "data": {
      "image/png": "[encoded data removed]",
      "text/plain": [
       "<Figure size 576x360 with 2 Axes>"
      ]
     },
     "metadata": {
      "needs_background": "light"
     },
     "output_type": "display_data"
    }
   ],
   "source": [
    "confusion_matrix = pd.DataFrame(\n",
    "    data=metrics.confusion_matrix(im_t_output_data, np.rint(y_im_predict)),\n",
    ")\n",
    "\n",
    "confusion_figure, confusion_axes = matplotlib.pyplot.subplots()\n",
    "confusion_figure.set_size_inches(8, 5)\n",
    "confusion_axes.set_title(\n",
    "    'Confusion matrix showing the frequency of \\n'\n",
    "    'correct and incorrect bug classification predictions.'\n",
    "    '\\n\\n'  # hack to avoid overlap with x-axis labels below\n",
    ")\n",
    "confusion_axes.xaxis.tick_top()  # move x-axis labels to top of matrix\n",
    "_ = sns.heatmap(\n",
    "    confusion_matrix,\n",
    "    annot=True,\n",
    "    fmt=\"d\",\n",
    "    cmap=sns.color_palette(\"Blues\"),\n",
    "    vmin=0,\n",
    "    ax=confusion_axes,\n",
    ")"
   ]
  },
  {
   "cell_type": "code",
   "execution_count": 29,
   "metadata": {},
   "outputs": [],
   "source": [
    "tn, fp, fn, tp = metrics.confusion_matrix(\n",
    "    im_t_output_data.astype(int), \n",
    "    np.rint(y_im_predict)\n",
    ").flatten().tolist()\n",
    "\n",
    "fpr_nn = fp/(fp+tp)\n",
    "fnr_nn = fn/(fn+tn)\n",
    "r = tp/(tp+fn)\n",
    "p = tp/(tp+fp)\n",
    "f = (2*p*r)/(p+r)\n",
    "acc = (tp+tn)/(tp+fp+fn+tn)"
   ]
  },
  {
   "cell_type": "code",
   "execution_count": 30,
   "metadata": {},
   "outputs": [
    {
     "name": "stdout",
     "output_type": "stream",
     "text": [
      "fpr_nn 0.8437433383073971\n",
      "fnr_nn 0.04705128205128205\n",
      "r 0.6663636363636364\n",
      "p 0.15625666169260286\n",
      "f 0.2531514418925919\n",
      "acc 0.6537507005043631\n"
     ]
    }
   ],
   "source": [
    "print(\"fpr_nn\",fpr_nn)\n",
    "print(\"fnr_nn\",fnr_nn)\n",
    "print(\"r\",r)\n",
    "print(\"p\",p)\n",
    "print(\"f\",f)\n",
    "print(\"acc\",acc)"
   ]
  },
  {
   "cell_type": "code",
   "execution_count": 31,
   "metadata": {},
   "outputs": [
    {
     "name": "stdout",
     "output_type": "stream",
     "text": [
      "0.6672727272727272 0.15623669646658153 0.25319075543290787 0.6533504122968538 [0.4968942]\n",
      "0.49 0.2058037418862161 0.28986286636192526 0.7885677687935313 [0.9299507]\n",
      "0.49 0.2064343163538874 0.2904877391538669 0.7892082299255464 [0.93033767]\n",
      "0.4290909090909091 0.2268140317155214 0.29676202452059103 0.8209110559602915 [0.97176915]\n",
      "0.44545454545454544 0.2246675836772123 0.298689423956111 0.815787366904171 [0.96509635]\n",
      "0.44545454545454544 0.22487379531895366 0.29887160719731626 0.8159474821871747 [0.96520567]\n",
      "0.44272727272727275 0.22567191844300277 0.29895641497851444 0.8171483468097029 [0.9666243]\n"
     ]
    }
   ],
   "source": [
    "best_f1 = 0\n",
    "for predict in y_im_predict:\n",
    "    predict_after_threshold = np.int64(y_im_predict>predict)\n",
    "    tn, fp, fn, tp = metrics.confusion_matrix(\n",
    "        im_t_output_data.astype(int), \n",
    "        predict_after_threshold\n",
    "    ).flatten().tolist()\n",
    "    try:\n",
    "        fpr_nn = fp/(fp+tp)\n",
    "        fnr_nn = fn/(fn+tn)\n",
    "        r = tp/(tp+fn)\n",
    "        p = tp/(tp+fp)\n",
    "        f = (2*p*r)/(p+r)\n",
    "        acc = (tp+tn)/(tp+fp+fn+tn)\n",
    "    except:\n",
    "        continue\n",
    "    if f>best_f1:\n",
    "        best_f1 = f\n",
    "        print(r,p,f,acc,predict)"
   ]
  },
  {
   "cell_type": "code",
   "execution_count": 32,
   "metadata": {},
   "outputs": [
    {
     "name": "stdout",
     "output_type": "stream",
     "text": [
      "0.6672727272727272 0.15623669646658153 0.25319075543290787 0.6533504122968538 [0.4968942]\n",
      "0.1390909090909091 0.3740831295843521 0.20278330019880716 0.9036906572732367 [0.999951]\n",
      "0.07545454545454545 0.6014492753623188 0.13408723747980614 0.9141782083099832 [0.9999998]\n",
      "0.06454545454545454 0.6339285714285714 0.11716171617161715 0.914338323592987 [0.99999994]\n"
     ]
    }
   ],
   "source": [
    "best_a = 0\n",
    "for predict in y_im_predict:\n",
    "    predict_after_threshold = np.int64(y_im_predict>predict)\n",
    "    tn, fp, fn, tp = metrics.confusion_matrix(\n",
    "        im_t_output_data.astype(int), \n",
    "        predict_after_threshold\n",
    "    ).flatten().tolist()\n",
    "    try:\n",
    "        fpr_nn = fp/(fp+tp)\n",
    "        fnr_nn = fn/(fn+tn)\n",
    "        r = tp/(tp+fn)\n",
    "        p = tp/(tp+fp)\n",
    "        f = (2*p*r)/(p+r)\n",
    "        acc = (tp+tn)/(tp+fp+fn+tn)\n",
    "    except:\n",
    "        continue\n",
    "    if acc>best_a:\n",
    "        best_a = acc\n",
    "        print(r,p,f,acc,predict)"
   ]
  },
  {
   "cell_type": "code",
   "execution_count": 33,
   "metadata": {},
   "outputs": [
    {
     "name": "stdout",
     "output_type": "stream",
     "text": [
      "0.6672727272727272 0.15623669646658153 0.25319075543290787 0.6533504122968538 [0.4968942]\n",
      "0.9763636363636363 0.09065586224360597 0.16590715995983626 0.13545752942118325 [5.9604645e-06]\n",
      "0.9927272727272727 0.08903383611903791 0.16341189674523007 0.10487551036746458 [2.9802322e-08]\n"
     ]
    }
   ],
   "source": [
    "best_r = 0\n",
    "for predict in y_im_predict:\n",
    "    predict_after_threshold = np.int64(y_im_predict>predict)\n",
    "    tn, fp, fn, tp = metrics.confusion_matrix(\n",
    "        im_t_output_data.astype(int), \n",
    "        predict_after_threshold\n",
    "    ).flatten().tolist()\n",
    "    try:\n",
    "        fpr_nn = fp/(fp+tp)\n",
    "        fnr_nn = fn/(fn+tn)\n",
    "        r = tp/(tp+fn)\n",
    "        p = tp/(tp+fp)\n",
    "        f = (2*p*r)/(p+r)\n",
    "        acc = (tp+tn)/(tp+fp+fn+tn)\n",
    "    except:\n",
    "        continue\n",
    "    if r>best_r:\n",
    "        best_r = r\n",
    "        print(r,p,f,acc,predict)"
   ]
  },
  {
   "cell_type": "code",
   "execution_count": null,
   "metadata": {},
   "outputs": [],
   "source": []
  }
 ],
 "metadata": {
  "kernelspec": {
   "display_name": "Python 3",
   "language": "python",
   "name": "python3"
  },
  "language_info": {
   "codemirror_mode": {
    "name": "ipython",
    "version": 3
   },
   "file_extension": ".py",
   "mimetype": "text/x-python",
   "name": "python",
   "nbconvert_exporter": "python",
   "pygments_lexer": "ipython3",
   "version": "3.5.2"
  }
 },
 "nbformat": 4,
 "nbformat_minor": 2
}
